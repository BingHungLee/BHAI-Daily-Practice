{
  "nbformat": 4,
  "nbformat_minor": 0,
  "metadata": {
    "colab": {
      "name": "[20210707]_Pandas_Practice.ipynb",
      "provenance": [],
      "authorship_tag": "ABX9TyMCkBgjXC9Xqqw+42hIaI5l",
      "include_colab_link": true
    },
    "kernelspec": {
      "name": "python3",
      "display_name": "Python 3"
    },
    "language_info": {
      "name": "python"
    }
  },
  "cells": [
    {
      "cell_type": "markdown",
      "metadata": {
        "id": "view-in-github",
        "colab_type": "text"
      },
      "source": [
        "<a href=\"https://colab.research.google.com/github/BingHungLee/BHAI-Daily-Practice/blob/main/%5B20210707%5D_Pandas_Practice.ipynb\" target=\"_parent\"><img src=\"https://colab.research.google.com/assets/colab-badge.svg\" alt=\"Open In Colab\"/></a>"
      ]
    },
    {
      "cell_type": "markdown",
      "metadata": {
        "id": "HRV1EOQQC2w9"
      },
      "source": [
        "## [Pandas](https://pandas.pydata.org/pandas-docs/stable/#0)"
      ]
    },
    {
      "cell_type": "code",
      "metadata": {
        "colab": {
          "base_uri": "https://localhost:8080/"
        },
        "id": "bMOoRDQsCuRS",
        "outputId": "3271f65d-f4e4-4aa5-a9e4-c3019e74b4dd"
      },
      "source": [
        "import pandas as pd\n",
        "\n",
        "# The inital set of baby names and bith rates\n",
        "names = ['Bob', 'Jessica', 'Mary', 'John', 'Mel', 'Jim']\n",
        "births = [968, 155, 77, 578, 973, 968 ]\n",
        "\n",
        "BabyDataSet = list(zip(names, births))\n",
        "BabyDataSet"
      ],
      "execution_count": 1,
      "outputs": [
        {
          "output_type": "execute_result",
          "data": {
            "text/plain": [
              "[('Bob', 968),\n",
              " ('Jessica', 155),\n",
              " ('Mary', 77),\n",
              " ('John', 578),\n",
              " ('Mel', 973),\n",
              " ('Jim', 968)]"
            ]
          },
          "metadata": {
            "tags": []
          },
          "execution_count": 1
        }
      ]
    },
    {
      "cell_type": "code",
      "metadata": {
        "colab": {
          "base_uri": "https://localhost:8080/",
          "height": 235
        },
        "id": "85HOSolcC5YV",
        "outputId": "5a2d55a6-04c0-4e41-d651-3989b682d386"
      },
      "source": [
        "df = pd.DataFrame(BabyDataSet, columns=['Names', 'Births'])\n",
        "df"
      ],
      "execution_count": 2,
      "outputs": [
        {
          "output_type": "execute_result",
          "data": {
            "text/html": [
              "<div>\n",
              "<style scoped>\n",
              "    .dataframe tbody tr th:only-of-type {\n",
              "        vertical-align: middle;\n",
              "    }\n",
              "\n",
              "    .dataframe tbody tr th {\n",
              "        vertical-align: top;\n",
              "    }\n",
              "\n",
              "    .dataframe thead th {\n",
              "        text-align: right;\n",
              "    }\n",
              "</style>\n",
              "<table border=\"1\" class=\"dataframe\">\n",
              "  <thead>\n",
              "    <tr style=\"text-align: right;\">\n",
              "      <th></th>\n",
              "      <th>Names</th>\n",
              "      <th>Births</th>\n",
              "    </tr>\n",
              "  </thead>\n",
              "  <tbody>\n",
              "    <tr>\n",
              "      <th>0</th>\n",
              "      <td>Bob</td>\n",
              "      <td>968</td>\n",
              "    </tr>\n",
              "    <tr>\n",
              "      <th>1</th>\n",
              "      <td>Jessica</td>\n",
              "      <td>155</td>\n",
              "    </tr>\n",
              "    <tr>\n",
              "      <th>2</th>\n",
              "      <td>Mary</td>\n",
              "      <td>77</td>\n",
              "    </tr>\n",
              "    <tr>\n",
              "      <th>3</th>\n",
              "      <td>John</td>\n",
              "      <td>578</td>\n",
              "    </tr>\n",
              "    <tr>\n",
              "      <th>4</th>\n",
              "      <td>Mel</td>\n",
              "      <td>973</td>\n",
              "    </tr>\n",
              "    <tr>\n",
              "      <th>5</th>\n",
              "      <td>Jim</td>\n",
              "      <td>968</td>\n",
              "    </tr>\n",
              "  </tbody>\n",
              "</table>\n",
              "</div>"
            ],
            "text/plain": [
              "     Names  Births\n",
              "0      Bob     968\n",
              "1  Jessica     155\n",
              "2     Mary      77\n",
              "3     John     578\n",
              "4      Mel     973\n",
              "5      Jim     968"
            ]
          },
          "metadata": {
            "tags": []
          },
          "execution_count": 2
        }
      ]
    },
    {
      "cell_type": "code",
      "metadata": {
        "colab": {
          "base_uri": "https://localhost:8080/",
          "height": 235
        },
        "id": "adJ3_G_AC_It",
        "outputId": "2ce470a7-32f3-48a6-a206-b39708eaf7ad"
      },
      "source": [
        "df = pd.DataFrame({'Names':names, 'Births':births})\n",
        "df"
      ],
      "execution_count": 4,
      "outputs": [
        {
          "output_type": "execute_result",
          "data": {
            "text/html": [
              "<div>\n",
              "<style scoped>\n",
              "    .dataframe tbody tr th:only-of-type {\n",
              "        vertical-align: middle;\n",
              "    }\n",
              "\n",
              "    .dataframe tbody tr th {\n",
              "        vertical-align: top;\n",
              "    }\n",
              "\n",
              "    .dataframe thead th {\n",
              "        text-align: right;\n",
              "    }\n",
              "</style>\n",
              "<table border=\"1\" class=\"dataframe\">\n",
              "  <thead>\n",
              "    <tr style=\"text-align: right;\">\n",
              "      <th></th>\n",
              "      <th>Names</th>\n",
              "      <th>Births</th>\n",
              "    </tr>\n",
              "  </thead>\n",
              "  <tbody>\n",
              "    <tr>\n",
              "      <th>0</th>\n",
              "      <td>Bob</td>\n",
              "      <td>968</td>\n",
              "    </tr>\n",
              "    <tr>\n",
              "      <th>1</th>\n",
              "      <td>Jessica</td>\n",
              "      <td>155</td>\n",
              "    </tr>\n",
              "    <tr>\n",
              "      <th>2</th>\n",
              "      <td>Mary</td>\n",
              "      <td>77</td>\n",
              "    </tr>\n",
              "    <tr>\n",
              "      <th>3</th>\n",
              "      <td>John</td>\n",
              "      <td>578</td>\n",
              "    </tr>\n",
              "    <tr>\n",
              "      <th>4</th>\n",
              "      <td>Mel</td>\n",
              "      <td>973</td>\n",
              "    </tr>\n",
              "    <tr>\n",
              "      <th>5</th>\n",
              "      <td>Jim</td>\n",
              "      <td>968</td>\n",
              "    </tr>\n",
              "  </tbody>\n",
              "</table>\n",
              "</div>"
            ],
            "text/plain": [
              "     Names  Births\n",
              "0      Bob     968\n",
              "1  Jessica     155\n",
              "2     Mary      77\n",
              "3     John     578\n",
              "4      Mel     973\n",
              "5      Jim     968"
            ]
          },
          "metadata": {
            "tags": []
          },
          "execution_count": 4
        }
      ]
    },
    {
      "cell_type": "code",
      "metadata": {
        "colab": {
          "base_uri": "https://localhost:8080/",
          "height": 204
        },
        "id": "Bp1GhP4VDD8V",
        "outputId": "38e87f45-c88b-49c2-9949-3d38d7efdb34"
      },
      "source": [
        "df = pd.DataFrame({\n",
        "   'names': ['Bob','Jessica','Mary','John','Mel'],\n",
        "   'births': [968, 155, 77, 578, 973]\n",
        "})  #照columns字母順序排列\n",
        "df"
      ],
      "execution_count": 5,
      "outputs": [
        {
          "output_type": "execute_result",
          "data": {
            "text/html": [
              "<div>\n",
              "<style scoped>\n",
              "    .dataframe tbody tr th:only-of-type {\n",
              "        vertical-align: middle;\n",
              "    }\n",
              "\n",
              "    .dataframe tbody tr th {\n",
              "        vertical-align: top;\n",
              "    }\n",
              "\n",
              "    .dataframe thead th {\n",
              "        text-align: right;\n",
              "    }\n",
              "</style>\n",
              "<table border=\"1\" class=\"dataframe\">\n",
              "  <thead>\n",
              "    <tr style=\"text-align: right;\">\n",
              "      <th></th>\n",
              "      <th>names</th>\n",
              "      <th>births</th>\n",
              "    </tr>\n",
              "  </thead>\n",
              "  <tbody>\n",
              "    <tr>\n",
              "      <th>0</th>\n",
              "      <td>Bob</td>\n",
              "      <td>968</td>\n",
              "    </tr>\n",
              "    <tr>\n",
              "      <th>1</th>\n",
              "      <td>Jessica</td>\n",
              "      <td>155</td>\n",
              "    </tr>\n",
              "    <tr>\n",
              "      <th>2</th>\n",
              "      <td>Mary</td>\n",
              "      <td>77</td>\n",
              "    </tr>\n",
              "    <tr>\n",
              "      <th>3</th>\n",
              "      <td>John</td>\n",
              "      <td>578</td>\n",
              "    </tr>\n",
              "    <tr>\n",
              "      <th>4</th>\n",
              "      <td>Mel</td>\n",
              "      <td>973</td>\n",
              "    </tr>\n",
              "  </tbody>\n",
              "</table>\n",
              "</div>"
            ],
            "text/plain": [
              "     names  births\n",
              "0      Bob     968\n",
              "1  Jessica     155\n",
              "2     Mary      77\n",
              "3     John     578\n",
              "4      Mel     973"
            ]
          },
          "metadata": {
            "tags": []
          },
          "execution_count": 5
        }
      ]
    },
    {
      "cell_type": "code",
      "metadata": {
        "id": "gC8kgK0xDkHG"
      },
      "source": [
        "#將資料儲存成 csv\n",
        "df.to_csv(\"birth_data.csv\", index = True)"
      ],
      "execution_count": 6,
      "outputs": []
    },
    {
      "cell_type": "code",
      "metadata": {
        "id": "z5s3oSxADoKF"
      },
      "source": [
        "#讀取 csv\n",
        "df = pd.read_csv(\"birth_data.csv\")"
      ],
      "execution_count": 7,
      "outputs": []
    },
    {
      "cell_type": "code",
      "metadata": {
        "colab": {
          "base_uri": "https://localhost:8080/",
          "height": 204
        },
        "id": "oLDIoM51DpRd",
        "outputId": "4f679129-9ec5-4793-ee59-05f7a2693bb1"
      },
      "source": [
        "## 觀察前五列\n",
        "df.head()"
      ],
      "execution_count": 8,
      "outputs": [
        {
          "output_type": "execute_result",
          "data": {
            "text/html": [
              "<div>\n",
              "<style scoped>\n",
              "    .dataframe tbody tr th:only-of-type {\n",
              "        vertical-align: middle;\n",
              "    }\n",
              "\n",
              "    .dataframe tbody tr th {\n",
              "        vertical-align: top;\n",
              "    }\n",
              "\n",
              "    .dataframe thead th {\n",
              "        text-align: right;\n",
              "    }\n",
              "</style>\n",
              "<table border=\"1\" class=\"dataframe\">\n",
              "  <thead>\n",
              "    <tr style=\"text-align: right;\">\n",
              "      <th></th>\n",
              "      <th>Unnamed: 0</th>\n",
              "      <th>names</th>\n",
              "      <th>births</th>\n",
              "    </tr>\n",
              "  </thead>\n",
              "  <tbody>\n",
              "    <tr>\n",
              "      <th>0</th>\n",
              "      <td>0</td>\n",
              "      <td>Bob</td>\n",
              "      <td>968</td>\n",
              "    </tr>\n",
              "    <tr>\n",
              "      <th>1</th>\n",
              "      <td>1</td>\n",
              "      <td>Jessica</td>\n",
              "      <td>155</td>\n",
              "    </tr>\n",
              "    <tr>\n",
              "      <th>2</th>\n",
              "      <td>2</td>\n",
              "      <td>Mary</td>\n",
              "      <td>77</td>\n",
              "    </tr>\n",
              "    <tr>\n",
              "      <th>3</th>\n",
              "      <td>3</td>\n",
              "      <td>John</td>\n",
              "      <td>578</td>\n",
              "    </tr>\n",
              "    <tr>\n",
              "      <th>4</th>\n",
              "      <td>4</td>\n",
              "      <td>Mel</td>\n",
              "      <td>973</td>\n",
              "    </tr>\n",
              "  </tbody>\n",
              "</table>\n",
              "</div>"
            ],
            "text/plain": [
              "   Unnamed: 0    names  births\n",
              "0           0      Bob     968\n",
              "1           1  Jessica     155\n",
              "2           2     Mary      77\n",
              "3           3     John     578\n",
              "4           4      Mel     973"
            ]
          },
          "metadata": {
            "tags": []
          },
          "execution_count": 8
        }
      ]
    },
    {
      "cell_type": "code",
      "metadata": {
        "id": "fKJAgMD6DqOV"
      },
      "source": [
        "import numpy as np\n",
        "# # set seed\n",
        "np.random.seed(111)\n",
        "\n",
        "# Function to generate test data\n",
        "def CreateDataSet(Number=1):\n",
        "    Output = []\n",
        "    for i in range(Number):\n",
        "        # Create a weekly (mondays) date range\n",
        "        rng = pd.date_range(start='1/1/2009', end='12/31/2012', freq='W-MON') #random number generator\n",
        "        \n",
        "        # Create random data\n",
        "        data = np.random.randint(low=25, high=1000, size=len(rng))\n",
        "        \n",
        "        # Status pool\n",
        "        status = [1,2,3]\n",
        "        \n",
        "        # Make a random list of statuses\n",
        "        random_status = [status[np.random.randint(low=0, high=len(status))] for i in range(len(rng))]\n",
        "        \n",
        "        # State pool\n",
        "        states = ['GA','FL','fl','NY','NJ','TX']\n",
        "        \n",
        "        # Make a random list of states \n",
        "        random_states = [states[np.random.randint(low=0, high=len(states))] for i in range(len(rng))]\n",
        "    \n",
        "        Output.extend(zip(random_states, random_status, data, rng))\n",
        "        #extend& append 差異\n",
        "        \n",
        "    return Output"
      ],
      "execution_count": 9,
      "outputs": []
    },
    {
      "cell_type": "code",
      "metadata": {
        "colab": {
          "base_uri": "https://localhost:8080/",
          "height": 359
        },
        "id": "u3F60FVlDvR9",
        "outputId": "559459a8-44a3-473e-d9d3-1ffe8ba36604"
      },
      "source": [
        "dataset = CreateDataSet(3)\n",
        "dataset\n",
        "len(dataset) #check shape\n",
        "df = pd.DataFrame(data=dataset, columns=['State','Status','CustomerCount','StatusDate'])\n",
        "df.head(10)"
      ],
      "execution_count": 10,
      "outputs": [
        {
          "output_type": "execute_result",
          "data": {
            "text/html": [
              "<div>\n",
              "<style scoped>\n",
              "    .dataframe tbody tr th:only-of-type {\n",
              "        vertical-align: middle;\n",
              "    }\n",
              "\n",
              "    .dataframe tbody tr th {\n",
              "        vertical-align: top;\n",
              "    }\n",
              "\n",
              "    .dataframe thead th {\n",
              "        text-align: right;\n",
              "    }\n",
              "</style>\n",
              "<table border=\"1\" class=\"dataframe\">\n",
              "  <thead>\n",
              "    <tr style=\"text-align: right;\">\n",
              "      <th></th>\n",
              "      <th>State</th>\n",
              "      <th>Status</th>\n",
              "      <th>CustomerCount</th>\n",
              "      <th>StatusDate</th>\n",
              "    </tr>\n",
              "  </thead>\n",
              "  <tbody>\n",
              "    <tr>\n",
              "      <th>0</th>\n",
              "      <td>GA</td>\n",
              "      <td>1</td>\n",
              "      <td>877</td>\n",
              "      <td>2009-01-05</td>\n",
              "    </tr>\n",
              "    <tr>\n",
              "      <th>1</th>\n",
              "      <td>FL</td>\n",
              "      <td>1</td>\n",
              "      <td>901</td>\n",
              "      <td>2009-01-12</td>\n",
              "    </tr>\n",
              "    <tr>\n",
              "      <th>2</th>\n",
              "      <td>fl</td>\n",
              "      <td>3</td>\n",
              "      <td>749</td>\n",
              "      <td>2009-01-19</td>\n",
              "    </tr>\n",
              "    <tr>\n",
              "      <th>3</th>\n",
              "      <td>FL</td>\n",
              "      <td>3</td>\n",
              "      <td>111</td>\n",
              "      <td>2009-01-26</td>\n",
              "    </tr>\n",
              "    <tr>\n",
              "      <th>4</th>\n",
              "      <td>GA</td>\n",
              "      <td>1</td>\n",
              "      <td>300</td>\n",
              "      <td>2009-02-02</td>\n",
              "    </tr>\n",
              "    <tr>\n",
              "      <th>5</th>\n",
              "      <td>FL</td>\n",
              "      <td>2</td>\n",
              "      <td>706</td>\n",
              "      <td>2009-02-09</td>\n",
              "    </tr>\n",
              "    <tr>\n",
              "      <th>6</th>\n",
              "      <td>TX</td>\n",
              "      <td>3</td>\n",
              "      <td>347</td>\n",
              "      <td>2009-02-16</td>\n",
              "    </tr>\n",
              "    <tr>\n",
              "      <th>7</th>\n",
              "      <td>fl</td>\n",
              "      <td>2</td>\n",
              "      <td>143</td>\n",
              "      <td>2009-02-23</td>\n",
              "    </tr>\n",
              "    <tr>\n",
              "      <th>8</th>\n",
              "      <td>FL</td>\n",
              "      <td>3</td>\n",
              "      <td>833</td>\n",
              "      <td>2009-03-02</td>\n",
              "    </tr>\n",
              "    <tr>\n",
              "      <th>9</th>\n",
              "      <td>NY</td>\n",
              "      <td>1</td>\n",
              "      <td>992</td>\n",
              "      <td>2009-03-09</td>\n",
              "    </tr>\n",
              "  </tbody>\n",
              "</table>\n",
              "</div>"
            ],
            "text/plain": [
              "  State  Status  CustomerCount StatusDate\n",
              "0    GA       1            877 2009-01-05\n",
              "1    FL       1            901 2009-01-12\n",
              "2    fl       3            749 2009-01-19\n",
              "3    FL       3            111 2009-01-26\n",
              "4    GA       1            300 2009-02-02\n",
              "5    FL       2            706 2009-02-09\n",
              "6    TX       3            347 2009-02-16\n",
              "7    fl       2            143 2009-02-23\n",
              "8    FL       3            833 2009-03-02\n",
              "9    NY       1            992 2009-03-09"
            ]
          },
          "metadata": {
            "tags": []
          },
          "execution_count": 10
        }
      ]
    },
    {
      "cell_type": "code",
      "metadata": {
        "colab": {
          "base_uri": "https://localhost:8080/"
        },
        "id": "FxkpM7tyDweN",
        "outputId": "2d24ff32-319c-4984-9802-3aeaa6b18873"
      },
      "source": [
        "df[\"State\"].unique()"
      ],
      "execution_count": 11,
      "outputs": [
        {
          "output_type": "execute_result",
          "data": {
            "text/plain": [
              "array(['GA', 'FL', 'fl', 'TX', 'NY', 'NJ'], dtype=object)"
            ]
          },
          "metadata": {
            "tags": []
          },
          "execution_count": 11
        }
      ]
    },
    {
      "cell_type": "code",
      "metadata": {
        "colab": {
          "base_uri": "https://localhost:8080/"
        },
        "id": "Rq10Ll6GDyLV",
        "outputId": "e34b8623-4faa-4691-b93c-906d03cdc8fe"
      },
      "source": [
        "df[\"State\"].unique().shape"
      ],
      "execution_count": 12,
      "outputs": [
        {
          "output_type": "execute_result",
          "data": {
            "text/plain": [
              "(6,)"
            ]
          },
          "metadata": {
            "tags": []
          },
          "execution_count": 12
        }
      ]
    },
    {
      "cell_type": "code",
      "metadata": {
        "colab": {
          "base_uri": "https://localhost:8080/"
        },
        "id": "w14aJ4vLD0HN",
        "outputId": "a23cd2f3-b341-4d9c-e48d-d65b0dcaba8f"
      },
      "source": [
        "df[\"State\"]"
      ],
      "execution_count": 13,
      "outputs": [
        {
          "output_type": "execute_result",
          "data": {
            "text/plain": [
              "0      GA\n",
              "1      FL\n",
              "2      fl\n",
              "3      FL\n",
              "4      GA\n",
              "       ..\n",
              "622    NY\n",
              "623    GA\n",
              "624    NJ\n",
              "625    GA\n",
              "626    FL\n",
              "Name: State, Length: 627, dtype: object"
            ]
          },
          "metadata": {
            "tags": []
          },
          "execution_count": 13
        }
      ]
    },
    {
      "cell_type": "code",
      "metadata": {
        "colab": {
          "base_uri": "https://localhost:8080/"
        },
        "id": "RfG4EgCUD1jN",
        "outputId": "7c42c2fc-5476-47ce-f499-9fc8eaa90d08"
      },
      "source": [
        "df.shape"
      ],
      "execution_count": 14,
      "outputs": [
        {
          "output_type": "execute_result",
          "data": {
            "text/plain": [
              "(627, 4)"
            ]
          },
          "metadata": {
            "tags": []
          },
          "execution_count": 14
        }
      ]
    },
    {
      "cell_type": "code",
      "metadata": {
        "colab": {
          "base_uri": "https://localhost:8080/"
        },
        "id": "zyWvvbp5D-wG",
        "outputId": "10d8146f-60ae-4222-8f87-82a685caf74b"
      },
      "source": [
        "len(dataset)"
      ],
      "execution_count": 16,
      "outputs": [
        {
          "output_type": "execute_result",
          "data": {
            "text/plain": [
              "627"
            ]
          },
          "metadata": {
            "tags": []
          },
          "execution_count": 16
        }
      ]
    },
    {
      "cell_type": "code",
      "metadata": {
        "colab": {
          "base_uri": "https://localhost:8080/"
        },
        "id": "eCEf_NDwECXF",
        "outputId": "57ea81de-ed27-46cd-bad9-86838d763832"
      },
      "source": [
        "df['State'].value_counts()"
      ],
      "execution_count": 17,
      "outputs": [
        {
          "output_type": "execute_result",
          "data": {
            "text/plain": [
              "fl    111\n",
              "GA    108\n",
              "TX    104\n",
              "FL    103\n",
              "NJ    101\n",
              "NY    100\n",
              "Name: State, dtype: int64"
            ]
          },
          "metadata": {
            "tags": []
          },
          "execution_count": 17
        }
      ]
    },
    {
      "cell_type": "code",
      "metadata": {
        "colab": {
          "base_uri": "https://localhost:8080/"
        },
        "id": "T8bmGbJaEDUU",
        "outputId": "d5d7ec92-b716-484c-8a11-e6e9fa317647"
      },
      "source": [
        "df.info()\n",
        "#check is there any missing data"
      ],
      "execution_count": 18,
      "outputs": [
        {
          "output_type": "stream",
          "text": [
            "<class 'pandas.core.frame.DataFrame'>\n",
            "RangeIndex: 627 entries, 0 to 626\n",
            "Data columns (total 4 columns):\n",
            " #   Column         Non-Null Count  Dtype         \n",
            "---  ------         --------------  -----         \n",
            " 0   State          627 non-null    object        \n",
            " 1   Status         627 non-null    int64         \n",
            " 2   CustomerCount  627 non-null    int64         \n",
            " 3   StatusDate     627 non-null    datetime64[ns]\n",
            "dtypes: datetime64[ns](1), int64(2), object(1)\n",
            "memory usage: 19.7+ KB\n"
          ],
          "name": "stdout"
        }
      ]
    },
    {
      "cell_type": "code",
      "metadata": {
        "colab": {
          "base_uri": "https://localhost:8080/"
        },
        "id": "KoTwlermEEh8",
        "outputId": "1e71ba53-0098-4296-9718-fe60b2b143eb"
      },
      "source": [
        "df.columns"
      ],
      "execution_count": 19,
      "outputs": [
        {
          "output_type": "execute_result",
          "data": {
            "text/plain": [
              "Index(['State', 'Status', 'CustomerCount', 'StatusDate'], dtype='object')"
            ]
          },
          "metadata": {
            "tags": []
          },
          "execution_count": 19
        }
      ]
    },
    {
      "cell_type": "code",
      "metadata": {
        "colab": {
          "base_uri": "https://localhost:8080/"
        },
        "id": "vydtOe8xEFxc",
        "outputId": "97c4d22c-8e14-41a9-8c4f-20f8b27076c7"
      },
      "source": [
        "print(df[\"CustomerCount\"].head(5))\n",
        "print(type(df[\"CustomerCount\"]))"
      ],
      "execution_count": 20,
      "outputs": [
        {
          "output_type": "stream",
          "text": [
            "0    877\n",
            "1    901\n",
            "2    749\n",
            "3    111\n",
            "4    300\n",
            "Name: CustomerCount, dtype: int64\n",
            "<class 'pandas.core.series.Series'>\n"
          ],
          "name": "stdout"
        }
      ]
    },
    {
      "cell_type": "code",
      "metadata": {
        "colab": {
          "base_uri": "https://localhost:8080/"
        },
        "id": "B-z-3h0kEHCk",
        "outputId": "66e028c8-087d-437c-8264-83ac90d705a7"
      },
      "source": [
        "print(df[[\"CustomerCount\"]].head(5))\n",
        "print(type(df[[\"CustomerCount\"]]))"
      ],
      "execution_count": 21,
      "outputs": [
        {
          "output_type": "stream",
          "text": [
            "   CustomerCount\n",
            "0            877\n",
            "1            901\n",
            "2            749\n",
            "3            111\n",
            "4            300\n",
            "<class 'pandas.core.frame.DataFrame'>\n"
          ],
          "name": "stdout"
        }
      ]
    },
    {
      "cell_type": "code",
      "metadata": {
        "colab": {
          "base_uri": "https://localhost:8080/"
        },
        "id": "PCoJ_BwYEMSU",
        "outputId": "eec5ca26-2c21-4093-a49e-74a581f28793"
      },
      "source": [
        "#slicing 取得第2個到第8個\n",
        "print(df[2:9])"
      ],
      "execution_count": 22,
      "outputs": [
        {
          "output_type": "stream",
          "text": [
            "  State  Status  CustomerCount StatusDate\n",
            "2    fl       3            749 2009-01-19\n",
            "3    FL       3            111 2009-01-26\n",
            "4    GA       1            300 2009-02-02\n",
            "5    FL       2            706 2009-02-09\n",
            "6    TX       3            347 2009-02-16\n",
            "7    fl       2            143 2009-02-23\n",
            "8    FL       3            833 2009-03-02\n"
          ],
          "name": "stdout"
        }
      ]
    },
    {
      "cell_type": "markdown",
      "metadata": {
        "id": "YvyCqq7KEUHv"
      },
      "source": [
        "## slicing with pandas - loc"
      ]
    },
    {
      "cell_type": "code",
      "metadata": {
        "colab": {
          "base_uri": "https://localhost:8080/"
        },
        "id": "hD3ETRPAENwk",
        "outputId": "14f165e0-a94a-4d7e-8598-0c6c5373ec78"
      },
      "source": [
        "# select specific row\n",
        "print(df.loc[0:3])"
      ],
      "execution_count": 23,
      "outputs": [
        {
          "output_type": "stream",
          "text": [
            "  State  Status  CustomerCount StatusDate\n",
            "0    GA       1            877 2009-01-05\n",
            "1    FL       1            901 2009-01-12\n",
            "2    fl       3            749 2009-01-19\n",
            "3    FL       3            111 2009-01-26\n"
          ],
          "name": "stdout"
        }
      ]
    },
    {
      "cell_type": "code",
      "metadata": {
        "colab": {
          "base_uri": "https://localhost:8080/"
        },
        "id": "UCKWPmudEXis",
        "outputId": "a4f79c0d-f76e-4cf4-e665-e58c5c46459f"
      },
      "source": [
        "# subset all row and specific columns\n",
        "print(df.loc[:,[\"State\", \"Status\"]].head())"
      ],
      "execution_count": 24,
      "outputs": [
        {
          "output_type": "stream",
          "text": [
            "  State  Status\n",
            "0    GA       1\n",
            "1    FL       1\n",
            "2    fl       3\n",
            "3    FL       3\n",
            "4    GA       1\n"
          ],
          "name": "stdout"
        }
      ]
    },
    {
      "cell_type": "code",
      "metadata": {
        "colab": {
          "base_uri": "https://localhost:8080/"
        },
        "id": "3reU_bBZEZoM",
        "outputId": "0d95e5f1-920a-4731-c317-c80807afe64f"
      },
      "source": [
        "print(df.loc[0:5,\"State\"])"
      ],
      "execution_count": 25,
      "outputs": [
        {
          "output_type": "stream",
          "text": [
            "0    GA\n",
            "1    FL\n",
            "2    fl\n",
            "3    FL\n",
            "4    GA\n",
            "5    FL\n",
            "Name: State, dtype: object\n"
          ],
          "name": "stdout"
        }
      ]
    },
    {
      "cell_type": "markdown",
      "metadata": {
        "id": "1HQTRxyfEb8m"
      },
      "source": [
        "## Slicing with Pandas -iloc\n",
        "The difference between loc and iloc?"
      ]
    },
    {
      "cell_type": "code",
      "metadata": {
        "colab": {
          "base_uri": "https://localhost:8080/"
        },
        "id": "rsSjuWmpEbI0",
        "outputId": "1c1bfbaa-2f95-47cf-de22-763806cc3c10"
      },
      "source": [
        "#row access\n",
        "print(df.iloc[0:7])"
      ],
      "execution_count": 28,
      "outputs": [
        {
          "output_type": "stream",
          "text": [
            "  State  Status  CustomerCount StatusDate\n",
            "0    GA       1            877 2009-01-05\n",
            "1    FL       1            901 2009-01-12\n",
            "2    fl       3            749 2009-01-19\n",
            "3    FL       3            111 2009-01-26\n",
            "4    GA       1            300 2009-02-02\n",
            "5    FL       2            706 2009-02-09\n",
            "6    TX       3            347 2009-02-16\n"
          ],
          "name": "stdout"
        }
      ]
    },
    {
      "cell_type": "code",
      "metadata": {
        "colab": {
          "base_uri": "https://localhost:8080/"
        },
        "id": "Oat-0JASEeos",
        "outputId": "6dd11bce-bc73-4586-ae07-ee65e283e9bf"
      },
      "source": [
        "print(df.iloc[:,2].head())\n",
        "print(df.iloc[:,2].head().values)"
      ],
      "execution_count": 27,
      "outputs": [
        {
          "output_type": "stream",
          "text": [
            "0    877\n",
            "1    901\n",
            "2    749\n",
            "3    111\n",
            "4    300\n",
            "Name: CustomerCount, dtype: int64\n",
            "[877 901 749 111 300]\n"
          ],
          "name": "stdout"
        }
      ]
    },
    {
      "cell_type": "code",
      "metadata": {
        "colab": {
          "base_uri": "https://localhost:8080/"
        },
        "id": "p0KeIbh1Efxk",
        "outputId": "4259ebf0-c87b-4f56-8c62-3aae8b2f521c"
      },
      "source": [
        "print(df.iloc[1:5,[2,3]])"
      ],
      "execution_count": 29,
      "outputs": [
        {
          "output_type": "stream",
          "text": [
            "   CustomerCount StatusDate\n",
            "1            901 2009-01-12\n",
            "2            749 2009-01-19\n",
            "3            111 2009-01-26\n",
            "4            300 2009-02-02\n"
          ],
          "name": "stdout"
        }
      ]
    },
    {
      "cell_type": "markdown",
      "metadata": {
        "id": "h-F79Q4_FDk4"
      },
      "source": [
        "## conditional data"
      ]
    },
    {
      "cell_type": "code",
      "metadata": {
        "colab": {
          "base_uri": "https://localhost:8080/",
          "height": 359
        },
        "id": "9BLiXB_4E9Zs",
        "outputId": "1159fa6c-0515-40b2-98ba-2a7982d1059a"
      },
      "source": [
        "df.loc[df.State == 'FL'].head(10)"
      ],
      "execution_count": 31,
      "outputs": [
        {
          "output_type": "execute_result",
          "data": {
            "text/html": [
              "<div>\n",
              "<style scoped>\n",
              "    .dataframe tbody tr th:only-of-type {\n",
              "        vertical-align: middle;\n",
              "    }\n",
              "\n",
              "    .dataframe tbody tr th {\n",
              "        vertical-align: top;\n",
              "    }\n",
              "\n",
              "    .dataframe thead th {\n",
              "        text-align: right;\n",
              "    }\n",
              "</style>\n",
              "<table border=\"1\" class=\"dataframe\">\n",
              "  <thead>\n",
              "    <tr style=\"text-align: right;\">\n",
              "      <th></th>\n",
              "      <th>State</th>\n",
              "      <th>Status</th>\n",
              "      <th>CustomerCount</th>\n",
              "      <th>StatusDate</th>\n",
              "    </tr>\n",
              "  </thead>\n",
              "  <tbody>\n",
              "    <tr>\n",
              "      <th>1</th>\n",
              "      <td>FL</td>\n",
              "      <td>1</td>\n",
              "      <td>901</td>\n",
              "      <td>2009-01-12</td>\n",
              "    </tr>\n",
              "    <tr>\n",
              "      <th>3</th>\n",
              "      <td>FL</td>\n",
              "      <td>3</td>\n",
              "      <td>111</td>\n",
              "      <td>2009-01-26</td>\n",
              "    </tr>\n",
              "    <tr>\n",
              "      <th>5</th>\n",
              "      <td>FL</td>\n",
              "      <td>2</td>\n",
              "      <td>706</td>\n",
              "      <td>2009-02-09</td>\n",
              "    </tr>\n",
              "    <tr>\n",
              "      <th>8</th>\n",
              "      <td>FL</td>\n",
              "      <td>3</td>\n",
              "      <td>833</td>\n",
              "      <td>2009-03-02</td>\n",
              "    </tr>\n",
              "    <tr>\n",
              "      <th>22</th>\n",
              "      <td>FL</td>\n",
              "      <td>2</td>\n",
              "      <td>737</td>\n",
              "      <td>2009-06-08</td>\n",
              "    </tr>\n",
              "    <tr>\n",
              "      <th>28</th>\n",
              "      <td>FL</td>\n",
              "      <td>1</td>\n",
              "      <td>710</td>\n",
              "      <td>2009-07-20</td>\n",
              "    </tr>\n",
              "    <tr>\n",
              "      <th>35</th>\n",
              "      <td>FL</td>\n",
              "      <td>3</td>\n",
              "      <td>587</td>\n",
              "      <td>2009-09-07</td>\n",
              "    </tr>\n",
              "    <tr>\n",
              "      <th>42</th>\n",
              "      <td>FL</td>\n",
              "      <td>3</td>\n",
              "      <td>930</td>\n",
              "      <td>2009-10-26</td>\n",
              "    </tr>\n",
              "    <tr>\n",
              "      <th>43</th>\n",
              "      <td>FL</td>\n",
              "      <td>3</td>\n",
              "      <td>195</td>\n",
              "      <td>2009-11-02</td>\n",
              "    </tr>\n",
              "    <tr>\n",
              "      <th>49</th>\n",
              "      <td>FL</td>\n",
              "      <td>3</td>\n",
              "      <td>510</td>\n",
              "      <td>2009-12-14</td>\n",
              "    </tr>\n",
              "  </tbody>\n",
              "</table>\n",
              "</div>"
            ],
            "text/plain": [
              "   State  Status  CustomerCount StatusDate\n",
              "1     FL       1            901 2009-01-12\n",
              "3     FL       3            111 2009-01-26\n",
              "5     FL       2            706 2009-02-09\n",
              "8     FL       3            833 2009-03-02\n",
              "22    FL       2            737 2009-06-08\n",
              "28    FL       1            710 2009-07-20\n",
              "35    FL       3            587 2009-09-07\n",
              "42    FL       3            930 2009-10-26\n",
              "43    FL       3            195 2009-11-02\n",
              "49    FL       3            510 2009-12-14"
            ]
          },
          "metadata": {
            "tags": []
          },
          "execution_count": 31
        }
      ]
    },
    {
      "cell_type": "code",
      "metadata": {
        "colab": {
          "base_uri": "https://localhost:8080/",
          "height": 359
        },
        "id": "abuiZXFCFFmE",
        "outputId": "04559341-483e-43bf-e2df-3a6d732e89b6"
      },
      "source": [
        "df.loc[(df.State == 'FL') & (df['Status'] == 3)].head(10)"
      ],
      "execution_count": 33,
      "outputs": [
        {
          "output_type": "execute_result",
          "data": {
            "text/html": [
              "<div>\n",
              "<style scoped>\n",
              "    .dataframe tbody tr th:only-of-type {\n",
              "        vertical-align: middle;\n",
              "    }\n",
              "\n",
              "    .dataframe tbody tr th {\n",
              "        vertical-align: top;\n",
              "    }\n",
              "\n",
              "    .dataframe thead th {\n",
              "        text-align: right;\n",
              "    }\n",
              "</style>\n",
              "<table border=\"1\" class=\"dataframe\">\n",
              "  <thead>\n",
              "    <tr style=\"text-align: right;\">\n",
              "      <th></th>\n",
              "      <th>State</th>\n",
              "      <th>Status</th>\n",
              "      <th>CustomerCount</th>\n",
              "      <th>StatusDate</th>\n",
              "    </tr>\n",
              "  </thead>\n",
              "  <tbody>\n",
              "    <tr>\n",
              "      <th>3</th>\n",
              "      <td>FL</td>\n",
              "      <td>3</td>\n",
              "      <td>111</td>\n",
              "      <td>2009-01-26</td>\n",
              "    </tr>\n",
              "    <tr>\n",
              "      <th>8</th>\n",
              "      <td>FL</td>\n",
              "      <td>3</td>\n",
              "      <td>833</td>\n",
              "      <td>2009-03-02</td>\n",
              "    </tr>\n",
              "    <tr>\n",
              "      <th>35</th>\n",
              "      <td>FL</td>\n",
              "      <td>3</td>\n",
              "      <td>587</td>\n",
              "      <td>2009-09-07</td>\n",
              "    </tr>\n",
              "    <tr>\n",
              "      <th>42</th>\n",
              "      <td>FL</td>\n",
              "      <td>3</td>\n",
              "      <td>930</td>\n",
              "      <td>2009-10-26</td>\n",
              "    </tr>\n",
              "    <tr>\n",
              "      <th>43</th>\n",
              "      <td>FL</td>\n",
              "      <td>3</td>\n",
              "      <td>195</td>\n",
              "      <td>2009-11-02</td>\n",
              "    </tr>\n",
              "    <tr>\n",
              "      <th>49</th>\n",
              "      <td>FL</td>\n",
              "      <td>3</td>\n",
              "      <td>510</td>\n",
              "      <td>2009-12-14</td>\n",
              "    </tr>\n",
              "    <tr>\n",
              "      <th>150</th>\n",
              "      <td>FL</td>\n",
              "      <td>3</td>\n",
              "      <td>847</td>\n",
              "      <td>2011-11-21</td>\n",
              "    </tr>\n",
              "    <tr>\n",
              "      <th>160</th>\n",
              "      <td>FL</td>\n",
              "      <td>3</td>\n",
              "      <td>883</td>\n",
              "      <td>2012-01-30</td>\n",
              "    </tr>\n",
              "    <tr>\n",
              "      <th>166</th>\n",
              "      <td>FL</td>\n",
              "      <td>3</td>\n",
              "      <td>109</td>\n",
              "      <td>2012-03-12</td>\n",
              "    </tr>\n",
              "    <tr>\n",
              "      <th>204</th>\n",
              "      <td>FL</td>\n",
              "      <td>3</td>\n",
              "      <td>222</td>\n",
              "      <td>2012-12-03</td>\n",
              "    </tr>\n",
              "  </tbody>\n",
              "</table>\n",
              "</div>"
            ],
            "text/plain": [
              "    State  Status  CustomerCount StatusDate\n",
              "3      FL       3            111 2009-01-26\n",
              "8      FL       3            833 2009-03-02\n",
              "35     FL       3            587 2009-09-07\n",
              "42     FL       3            930 2009-10-26\n",
              "43     FL       3            195 2009-11-02\n",
              "49     FL       3            510 2009-12-14\n",
              "150    FL       3            847 2011-11-21\n",
              "160    FL       3            883 2012-01-30\n",
              "166    FL       3            109 2012-03-12\n",
              "204    FL       3            222 2012-12-03"
            ]
          },
          "metadata": {
            "tags": []
          },
          "execution_count": 33
        }
      ]
    },
    {
      "cell_type": "code",
      "metadata": {
        "colab": {
          "base_uri": "https://localhost:8080/"
        },
        "id": "KkGvdqETFKzE",
        "outputId": "d0094227-cf14-4ff2-e475-f9ccca43b112"
      },
      "source": [
        "print((df['Status'] + 1).head())"
      ],
      "execution_count": 34,
      "outputs": [
        {
          "output_type": "stream",
          "text": [
            "0    2\n",
            "1    2\n",
            "2    4\n",
            "3    4\n",
            "4    2\n",
            "Name: Status, dtype: int64\n"
          ],
          "name": "stdout"
        }
      ]
    },
    {
      "cell_type": "markdown",
      "metadata": {
        "id": "PpoRX9tvFNwl"
      },
      "source": [
        "##apply使用"
      ]
    },
    {
      "cell_type": "code",
      "metadata": {
        "colab": {
          "base_uri": "https://localhost:8080/"
        },
        "id": "G9EpRYvGFM4z",
        "outputId": "9bedc975-a94e-43f9-84c5-7a4b424fb36f"
      },
      "source": [
        "print(df.apply(len, axis=0))"
      ],
      "execution_count": 35,
      "outputs": [
        {
          "output_type": "stream",
          "text": [
            "State            627\n",
            "Status           627\n",
            "CustomerCount    627\n",
            "StatusDate       627\n",
            "dtype: int64\n"
          ],
          "name": "stdout"
        }
      ]
    },
    {
      "cell_type": "code",
      "metadata": {
        "colab": {
          "base_uri": "https://localhost:8080/"
        },
        "id": "YJphNuHhFTYb",
        "outputId": "2741c34d-fbaf-4817-95ab-2b2e4a47e4c2"
      },
      "source": [
        "print(df.apply(len, axis=1))  \n",
        "# axis = 0 --> each column\n",
        "# axis = 1 --> each row"
      ],
      "execution_count": 37,
      "outputs": [
        {
          "output_type": "stream",
          "text": [
            "0      4\n",
            "1      4\n",
            "2      4\n",
            "3      4\n",
            "4      4\n",
            "      ..\n",
            "622    4\n",
            "623    4\n",
            "624    4\n",
            "625    4\n",
            "626    4\n",
            "Length: 627, dtype: int64\n"
          ],
          "name": "stdout"
        }
      ]
    },
    {
      "cell_type": "code",
      "metadata": {
        "id": "PYPJ5rWuFUhj"
      },
      "source": [
        "def text(df):\n",
        "    status = df['Status']\n",
        "    return 'correct' if status == 1 else 'error'\n",
        "\n",
        "df['StatusText'] = df.apply(text, axis=1)"
      ],
      "execution_count": 38,
      "outputs": []
    },
    {
      "cell_type": "code",
      "metadata": {
        "colab": {
          "base_uri": "https://localhost:8080/"
        },
        "id": "m_VmgSCmFYWz",
        "outputId": "e77e4520-ed15-461d-c092-af28c86e193f"
      },
      "source": [
        "g_state = df.groupby(['State'], axis=0)\n",
        "g_state.size()\n",
        "g_state.groups"
      ],
      "execution_count": 39,
      "outputs": [
        {
          "output_type": "execute_result",
          "data": {
            "text/plain": [
              "{'FL': [1, 3, 5, 8, 22, 28, 35, 42, 43, 49, 52, 60, 61, 69, 89, 95, 96, 97, 100, 108, 112, 127, 143, 150, 159, 160, 163, 165, 166, 170, 171, 173, 194, 195, 204, 207, 208, 232, 234, 244, 248, 260, 267, 271, 278, 281, 287, 290, 294, 300, 303, 307, 311, 320, 323, 325, 332, 333, 339, 343, 376, 381, 390, 398, 402, 403, 405, 406, 409, 410, 415, 418, 437, 444, 451, 464, 467, 468, 471, 483, 488, 490, 494, 495, 496, 498, 504, 506, 511, 519, 528, 541, 544, 550, 551, 555, 565, 576, 579, 580, ...], 'GA': [0, 4, 12, 17, 21, 24, 25, 31, 48, 57, 59, 71, 78, 88, 94, 102, 110, 120, 124, 130, 131, 133, 145, 154, 155, 161, 162, 169, 184, 190, 200, 215, 220, 230, 246, 251, 254, 255, 256, 257, 263, 266, 280, 296, 304, 306, 309, 314, 315, 317, 326, 335, 345, 349, 353, 355, 359, 366, 368, 370, 371, 379, 387, 391, 394, 411, 412, 413, 419, 424, 427, 431, 433, 435, 438, 443, 450, 454, 462, 475, 476, 478, 480, 481, 489, 492, 493, 501, 503, 509, 512, 514, 515, 516, 526, 530, 531, 532, 540, 571, ...], 'NJ': [15, 16, 23, 29, 36, 38, 45, 46, 50, 53, 62, 64, 66, 68, 75, 82, 86, 87, 105, 109, 113, 116, 118, 119, 122, 123, 146, 158, 182, 189, 193, 198, 199, 201, 202, 203, 205, 206, 218, 235, 237, 238, 243, 252, 253, 264, 275, 284, 289, 299, 302, 313, 329, 338, 347, 348, 354, 358, 361, 363, 377, 378, 395, 401, 421, 423, 425, 426, 430, 434, 445, 446, 448, 455, 456, 463, 469, 470, 473, 479, 484, 486, 505, 508, 523, 553, 561, 562, 568, 570, 577, 584, 593, 595, 602, 609, 611, 612, 619, 620, ...], 'NY': [9, 19, 40, 55, 56, 70, 72, 74, 81, 91, 99, 103, 104, 106, 117, 132, 134, 136, 138, 144, 149, 151, 152, 167, 177, 180, 186, 192, 211, 217, 219, 221, 224, 225, 227, 229, 249, 259, 261, 295, 301, 308, 318, 321, 327, 328, 342, 344, 346, 351, 360, 365, 369, 374, 385, 389, 392, 396, 399, 400, 414, 416, 436, 442, 447, 458, 472, 485, 500, 502, 507, 513, 517, 520, 521, 524, 527, 533, 535, 538, 539, 542, 543, 556, 564, 567, 569, 573, 574, 582, 588, 592, 594, 596, 604, 606, 610, 615, 618, 622], 'TX': [6, 11, 20, 30, 32, 41, 44, 58, 65, 73, 77, 80, 83, 84, 85, 92, 93, 101, 107, 114, 121, 137, 139, 140, 156, 157, 164, 168, 178, 185, 188, 191, 213, 226, 228, 231, 233, 239, 240, 241, 242, 245, 250, 268, 269, 274, 276, 279, 282, 283, 285, 286, 291, 319, 322, 324, 330, 334, 336, 340, 350, 352, 357, 362, 364, 367, 375, 380, 382, 383, 386, 404, 407, 408, 420, 432, 439, 441, 452, 457, 459, 460, 474, 482, 487, 522, 529, 534, 536, 537, 545, 548, 554, 566, 578, 586, 597, 599, 600, 603, ...], 'fl': [2, 7, 10, 13, 14, 18, 26, 27, 33, 34, 37, 39, 47, 51, 54, 63, 67, 76, 79, 90, 98, 111, 115, 125, 126, 128, 129, 135, 141, 142, 147, 148, 153, 172, 174, 175, 176, 179, 181, 183, 187, 196, 197, 209, 210, 212, 214, 216, 222, 223, 236, 247, 258, 262, 265, 270, 272, 273, 277, 288, 292, 293, 297, 298, 305, 310, 312, 316, 331, 337, 341, 356, 372, 373, 384, 388, 393, 397, 417, 422, 428, 429, 440, 449, 453, 461, 465, 466, 477, 491, 497, 499, 510, 518, 525, 546, 547, 549, 552, 557, ...]}"
            ]
          },
          "metadata": {
            "tags": []
          },
          "execution_count": 39
        }
      ]
    },
    {
      "cell_type": "code",
      "metadata": {
        "colab": {
          "base_uri": "https://localhost:8080/",
          "height": 419
        },
        "id": "l0I1YBQhFaHz",
        "outputId": "3d063dd0-dd78-4201-e283-31e94c152be4"
      },
      "source": [
        "g_state.get_group(\"NJ\")"
      ],
      "execution_count": 40,
      "outputs": [
        {
          "output_type": "execute_result",
          "data": {
            "text/html": [
              "<div>\n",
              "<style scoped>\n",
              "    .dataframe tbody tr th:only-of-type {\n",
              "        vertical-align: middle;\n",
              "    }\n",
              "\n",
              "    .dataframe tbody tr th {\n",
              "        vertical-align: top;\n",
              "    }\n",
              "\n",
              "    .dataframe thead th {\n",
              "        text-align: right;\n",
              "    }\n",
              "</style>\n",
              "<table border=\"1\" class=\"dataframe\">\n",
              "  <thead>\n",
              "    <tr style=\"text-align: right;\">\n",
              "      <th></th>\n",
              "      <th>State</th>\n",
              "      <th>Status</th>\n",
              "      <th>CustomerCount</th>\n",
              "      <th>StatusDate</th>\n",
              "      <th>StatusText</th>\n",
              "    </tr>\n",
              "  </thead>\n",
              "  <tbody>\n",
              "    <tr>\n",
              "      <th>15</th>\n",
              "      <td>NJ</td>\n",
              "      <td>2</td>\n",
              "      <td>905</td>\n",
              "      <td>2009-04-20</td>\n",
              "      <td>error</td>\n",
              "    </tr>\n",
              "    <tr>\n",
              "      <th>16</th>\n",
              "      <td>NJ</td>\n",
              "      <td>1</td>\n",
              "      <td>753</td>\n",
              "      <td>2009-04-27</td>\n",
              "      <td>correct</td>\n",
              "    </tr>\n",
              "    <tr>\n",
              "      <th>23</th>\n",
              "      <td>NJ</td>\n",
              "      <td>3</td>\n",
              "      <td>62</td>\n",
              "      <td>2009-06-15</td>\n",
              "      <td>error</td>\n",
              "    </tr>\n",
              "    <tr>\n",
              "      <th>29</th>\n",
              "      <td>NJ</td>\n",
              "      <td>1</td>\n",
              "      <td>990</td>\n",
              "      <td>2009-07-27</td>\n",
              "      <td>correct</td>\n",
              "    </tr>\n",
              "    <tr>\n",
              "      <th>36</th>\n",
              "      <td>NJ</td>\n",
              "      <td>1</td>\n",
              "      <td>772</td>\n",
              "      <td>2009-09-14</td>\n",
              "      <td>correct</td>\n",
              "    </tr>\n",
              "    <tr>\n",
              "      <th>...</th>\n",
              "      <td>...</td>\n",
              "      <td>...</td>\n",
              "      <td>...</td>\n",
              "      <td>...</td>\n",
              "      <td>...</td>\n",
              "    </tr>\n",
              "    <tr>\n",
              "      <th>611</th>\n",
              "      <td>NJ</td>\n",
              "      <td>3</td>\n",
              "      <td>529</td>\n",
              "      <td>2012-09-17</td>\n",
              "      <td>error</td>\n",
              "    </tr>\n",
              "    <tr>\n",
              "      <th>612</th>\n",
              "      <td>NJ</td>\n",
              "      <td>2</td>\n",
              "      <td>693</td>\n",
              "      <td>2012-09-24</td>\n",
              "      <td>error</td>\n",
              "    </tr>\n",
              "    <tr>\n",
              "      <th>619</th>\n",
              "      <td>NJ</td>\n",
              "      <td>3</td>\n",
              "      <td>201</td>\n",
              "      <td>2012-11-12</td>\n",
              "      <td>error</td>\n",
              "    </tr>\n",
              "    <tr>\n",
              "      <th>620</th>\n",
              "      <td>NJ</td>\n",
              "      <td>2</td>\n",
              "      <td>962</td>\n",
              "      <td>2012-11-19</td>\n",
              "      <td>error</td>\n",
              "    </tr>\n",
              "    <tr>\n",
              "      <th>624</th>\n",
              "      <td>NJ</td>\n",
              "      <td>3</td>\n",
              "      <td>874</td>\n",
              "      <td>2012-12-17</td>\n",
              "      <td>error</td>\n",
              "    </tr>\n",
              "  </tbody>\n",
              "</table>\n",
              "<p>101 rows × 5 columns</p>\n",
              "</div>"
            ],
            "text/plain": [
              "    State  Status  CustomerCount StatusDate StatusText\n",
              "15     NJ       2            905 2009-04-20      error\n",
              "16     NJ       1            753 2009-04-27    correct\n",
              "23     NJ       3             62 2009-06-15      error\n",
              "29     NJ       1            990 2009-07-27    correct\n",
              "36     NJ       1            772 2009-09-14    correct\n",
              "..    ...     ...            ...        ...        ...\n",
              "611    NJ       3            529 2012-09-17      error\n",
              "612    NJ       2            693 2012-09-24      error\n",
              "619    NJ       3            201 2012-11-12      error\n",
              "620    NJ       2            962 2012-11-19      error\n",
              "624    NJ       3            874 2012-12-17      error\n",
              "\n",
              "[101 rows x 5 columns]"
            ]
          },
          "metadata": {
            "tags": []
          },
          "execution_count": 40
        }
      ]
    },
    {
      "cell_type": "code",
      "metadata": {
        "colab": {
          "base_uri": "https://localhost:8080/",
          "height": 266
        },
        "id": "E1xVLY1CFcEr",
        "outputId": "3abdb102-703a-4107-bd87-15e3b3dec460"
      },
      "source": [
        "g_state.sum()/g_state.count()"
      ],
      "execution_count": 41,
      "outputs": [
        {
          "output_type": "execute_result",
          "data": {
            "text/html": [
              "<div>\n",
              "<style scoped>\n",
              "    .dataframe tbody tr th:only-of-type {\n",
              "        vertical-align: middle;\n",
              "    }\n",
              "\n",
              "    .dataframe tbody tr th {\n",
              "        vertical-align: top;\n",
              "    }\n",
              "\n",
              "    .dataframe thead th {\n",
              "        text-align: right;\n",
              "    }\n",
              "</style>\n",
              "<table border=\"1\" class=\"dataframe\">\n",
              "  <thead>\n",
              "    <tr style=\"text-align: right;\">\n",
              "      <th></th>\n",
              "      <th>CustomerCount</th>\n",
              "      <th>Status</th>\n",
              "      <th>StatusDate</th>\n",
              "      <th>StatusText</th>\n",
              "    </tr>\n",
              "    <tr>\n",
              "      <th>State</th>\n",
              "      <th></th>\n",
              "      <th></th>\n",
              "      <th></th>\n",
              "      <th></th>\n",
              "    </tr>\n",
              "  </thead>\n",
              "  <tbody>\n",
              "    <tr>\n",
              "      <th>FL</th>\n",
              "      <td>519.912621</td>\n",
              "      <td>1.932039</td>\n",
              "      <td>NaN</td>\n",
              "      <td>NaN</td>\n",
              "    </tr>\n",
              "    <tr>\n",
              "      <th>GA</th>\n",
              "      <td>486.518519</td>\n",
              "      <td>2.037037</td>\n",
              "      <td>NaN</td>\n",
              "      <td>NaN</td>\n",
              "    </tr>\n",
              "    <tr>\n",
              "      <th>NJ</th>\n",
              "      <td>555.306931</td>\n",
              "      <td>2.089109</td>\n",
              "      <td>NaN</td>\n",
              "      <td>NaN</td>\n",
              "    </tr>\n",
              "    <tr>\n",
              "      <th>NY</th>\n",
              "      <td>513.500000</td>\n",
              "      <td>1.910000</td>\n",
              "      <td>NaN</td>\n",
              "      <td>NaN</td>\n",
              "    </tr>\n",
              "    <tr>\n",
              "      <th>TX</th>\n",
              "      <td>454.000000</td>\n",
              "      <td>2.067308</td>\n",
              "      <td>NaN</td>\n",
              "      <td>NaN</td>\n",
              "    </tr>\n",
              "    <tr>\n",
              "      <th>fl</th>\n",
              "      <td>517.054054</td>\n",
              "      <td>1.981982</td>\n",
              "      <td>NaN</td>\n",
              "      <td>NaN</td>\n",
              "    </tr>\n",
              "  </tbody>\n",
              "</table>\n",
              "</div>"
            ],
            "text/plain": [
              "       CustomerCount    Status  StatusDate  StatusText\n",
              "State                                                 \n",
              "FL        519.912621  1.932039         NaN         NaN\n",
              "GA        486.518519  2.037037         NaN         NaN\n",
              "NJ        555.306931  2.089109         NaN         NaN\n",
              "NY        513.500000  1.910000         NaN         NaN\n",
              "TX        454.000000  2.067308         NaN         NaN\n",
              "fl        517.054054  1.981982         NaN         NaN"
            ]
          },
          "metadata": {
            "tags": []
          },
          "execution_count": 41
        }
      ]
    },
    {
      "cell_type": "code",
      "metadata": {
        "colab": {
          "base_uri": "https://localhost:8080/",
          "height": 450
        },
        "id": "5hyoM2GMFdra",
        "outputId": "0117c1ad-6a1a-4088-fde7-904d705c6ace"
      },
      "source": [
        "g_state = df.groupby(['StatusDate','State'], axis=0, sort=True).sum()\n",
        "g_state"
      ],
      "execution_count": 42,
      "outputs": [
        {
          "output_type": "execute_result",
          "data": {
            "text/html": [
              "<div>\n",
              "<style scoped>\n",
              "    .dataframe tbody tr th:only-of-type {\n",
              "        vertical-align: middle;\n",
              "    }\n",
              "\n",
              "    .dataframe tbody tr th {\n",
              "        vertical-align: top;\n",
              "    }\n",
              "\n",
              "    .dataframe thead th {\n",
              "        text-align: right;\n",
              "    }\n",
              "</style>\n",
              "<table border=\"1\" class=\"dataframe\">\n",
              "  <thead>\n",
              "    <tr style=\"text-align: right;\">\n",
              "      <th></th>\n",
              "      <th></th>\n",
              "      <th>Status</th>\n",
              "      <th>CustomerCount</th>\n",
              "    </tr>\n",
              "    <tr>\n",
              "      <th>StatusDate</th>\n",
              "      <th>State</th>\n",
              "      <th></th>\n",
              "      <th></th>\n",
              "    </tr>\n",
              "  </thead>\n",
              "  <tbody>\n",
              "    <tr>\n",
              "      <th rowspan=\"3\" valign=\"top\">2009-01-05</th>\n",
              "      <th>FL</th>\n",
              "      <td>3</td>\n",
              "      <td>638</td>\n",
              "    </tr>\n",
              "    <tr>\n",
              "      <th>GA</th>\n",
              "      <td>1</td>\n",
              "      <td>877</td>\n",
              "    </tr>\n",
              "    <tr>\n",
              "      <th>fl</th>\n",
              "      <td>3</td>\n",
              "      <td>122</td>\n",
              "    </tr>\n",
              "    <tr>\n",
              "      <th rowspan=\"2\" valign=\"top\">2009-01-12</th>\n",
              "      <th>FL</th>\n",
              "      <td>1</td>\n",
              "      <td>901</td>\n",
              "    </tr>\n",
              "    <tr>\n",
              "      <th>GA</th>\n",
              "      <td>3</td>\n",
              "      <td>813</td>\n",
              "    </tr>\n",
              "    <tr>\n",
              "      <th>...</th>\n",
              "      <th>...</th>\n",
              "      <td>...</td>\n",
              "      <td>...</td>\n",
              "    </tr>\n",
              "    <tr>\n",
              "      <th rowspan=\"3\" valign=\"top\">2012-12-24</th>\n",
              "      <th>FL</th>\n",
              "      <td>2</td>\n",
              "      <td>969</td>\n",
              "    </tr>\n",
              "    <tr>\n",
              "      <th>GA</th>\n",
              "      <td>3</td>\n",
              "      <td>668</td>\n",
              "    </tr>\n",
              "    <tr>\n",
              "      <th>NY</th>\n",
              "      <td>3</td>\n",
              "      <td>850</td>\n",
              "    </tr>\n",
              "    <tr>\n",
              "      <th rowspan=\"2\" valign=\"top\">2012-12-31</th>\n",
              "      <th>FL</th>\n",
              "      <td>6</td>\n",
              "      <td>1594</td>\n",
              "    </tr>\n",
              "    <tr>\n",
              "      <th>fl</th>\n",
              "      <td>2</td>\n",
              "      <td>334</td>\n",
              "    </tr>\n",
              "  </tbody>\n",
              "</table>\n",
              "<p>535 rows × 2 columns</p>\n",
              "</div>"
            ],
            "text/plain": [
              "                  Status  CustomerCount\n",
              "StatusDate State                       \n",
              "2009-01-05 FL          3            638\n",
              "           GA          1            877\n",
              "           fl          3            122\n",
              "2009-01-12 FL          1            901\n",
              "           GA          3            813\n",
              "...                  ...            ...\n",
              "2012-12-24 FL          2            969\n",
              "           GA          3            668\n",
              "           NY          3            850\n",
              "2012-12-31 FL          6           1594\n",
              "           fl          2            334\n",
              "\n",
              "[535 rows x 2 columns]"
            ]
          },
          "metadata": {
            "tags": []
          },
          "execution_count": 42
        }
      ]
    },
    {
      "cell_type": "markdown",
      "metadata": {
        "id": "6WywI2SUFgbO"
      },
      "source": [
        "## pd.concat ** 將兩個 df 連接"
      ]
    },
    {
      "cell_type": "code",
      "metadata": {
        "id": "TBSlpGiUFetb"
      },
      "source": [
        "df1 = pd.DataFrame({'A': ['A0', 'A1', 'A2', 'A3'],\n",
        "           'B': ['B0', 'B1', 'B2', 'B3'],\n",
        "           'C': ['C0', 'C1', 'C2', 'C3'],\n",
        "           'D': ['D0', 'D1', 'D2', 'D3']},\n",
        "           index=[0, 1, 2, 3])\n",
        "\n",
        "\n",
        "df2 = pd.DataFrame({'A': ['A4', 'A5', 'A6', 'A7'],\n",
        "           'B': ['B4', 'B5', 'B6', 'B7'],\n",
        "           'C': ['C4', 'C5', 'C6', 'C7'],\n",
        "           'D': ['D4', 'D5', 'D6', 'D7']},\n",
        "           index=[4, 5, 6, 7])"
      ],
      "execution_count": 44,
      "outputs": []
    },
    {
      "cell_type": "code",
      "metadata": {
        "colab": {
          "base_uri": "https://localhost:8080/",
          "height": 173
        },
        "id": "_c23sP0ZFjVy",
        "outputId": "cf479cc6-7b5c-4eb7-e316-92b3d6afc0cf"
      },
      "source": [
        "df1"
      ],
      "execution_count": 45,
      "outputs": [
        {
          "output_type": "execute_result",
          "data": {
            "text/html": [
              "<div>\n",
              "<style scoped>\n",
              "    .dataframe tbody tr th:only-of-type {\n",
              "        vertical-align: middle;\n",
              "    }\n",
              "\n",
              "    .dataframe tbody tr th {\n",
              "        vertical-align: top;\n",
              "    }\n",
              "\n",
              "    .dataframe thead th {\n",
              "        text-align: right;\n",
              "    }\n",
              "</style>\n",
              "<table border=\"1\" class=\"dataframe\">\n",
              "  <thead>\n",
              "    <tr style=\"text-align: right;\">\n",
              "      <th></th>\n",
              "      <th>A</th>\n",
              "      <th>B</th>\n",
              "      <th>C</th>\n",
              "      <th>D</th>\n",
              "    </tr>\n",
              "  </thead>\n",
              "  <tbody>\n",
              "    <tr>\n",
              "      <th>0</th>\n",
              "      <td>A0</td>\n",
              "      <td>B0</td>\n",
              "      <td>C0</td>\n",
              "      <td>D0</td>\n",
              "    </tr>\n",
              "    <tr>\n",
              "      <th>1</th>\n",
              "      <td>A1</td>\n",
              "      <td>B1</td>\n",
              "      <td>C1</td>\n",
              "      <td>D1</td>\n",
              "    </tr>\n",
              "    <tr>\n",
              "      <th>2</th>\n",
              "      <td>A2</td>\n",
              "      <td>B2</td>\n",
              "      <td>C2</td>\n",
              "      <td>D2</td>\n",
              "    </tr>\n",
              "    <tr>\n",
              "      <th>3</th>\n",
              "      <td>A3</td>\n",
              "      <td>B3</td>\n",
              "      <td>C3</td>\n",
              "      <td>D3</td>\n",
              "    </tr>\n",
              "  </tbody>\n",
              "</table>\n",
              "</div>"
            ],
            "text/plain": [
              "    A   B   C   D\n",
              "0  A0  B0  C0  D0\n",
              "1  A1  B1  C1  D1\n",
              "2  A2  B2  C2  D2\n",
              "3  A3  B3  C3  D3"
            ]
          },
          "metadata": {
            "tags": []
          },
          "execution_count": 45
        }
      ]
    },
    {
      "cell_type": "code",
      "metadata": {
        "colab": {
          "base_uri": "https://localhost:8080/",
          "height": 173
        },
        "id": "aVHHS_U8Fqby",
        "outputId": "15c31402-d6e3-4ca1-930b-426cfd7ebdb6"
      },
      "source": [
        "df2"
      ],
      "execution_count": 46,
      "outputs": [
        {
          "output_type": "execute_result",
          "data": {
            "text/html": [
              "<div>\n",
              "<style scoped>\n",
              "    .dataframe tbody tr th:only-of-type {\n",
              "        vertical-align: middle;\n",
              "    }\n",
              "\n",
              "    .dataframe tbody tr th {\n",
              "        vertical-align: top;\n",
              "    }\n",
              "\n",
              "    .dataframe thead th {\n",
              "        text-align: right;\n",
              "    }\n",
              "</style>\n",
              "<table border=\"1\" class=\"dataframe\">\n",
              "  <thead>\n",
              "    <tr style=\"text-align: right;\">\n",
              "      <th></th>\n",
              "      <th>A</th>\n",
              "      <th>B</th>\n",
              "      <th>C</th>\n",
              "      <th>D</th>\n",
              "    </tr>\n",
              "  </thead>\n",
              "  <tbody>\n",
              "    <tr>\n",
              "      <th>4</th>\n",
              "      <td>A4</td>\n",
              "      <td>B4</td>\n",
              "      <td>C4</td>\n",
              "      <td>D4</td>\n",
              "    </tr>\n",
              "    <tr>\n",
              "      <th>5</th>\n",
              "      <td>A5</td>\n",
              "      <td>B5</td>\n",
              "      <td>C5</td>\n",
              "      <td>D5</td>\n",
              "    </tr>\n",
              "    <tr>\n",
              "      <th>6</th>\n",
              "      <td>A6</td>\n",
              "      <td>B6</td>\n",
              "      <td>C6</td>\n",
              "      <td>D6</td>\n",
              "    </tr>\n",
              "    <tr>\n",
              "      <th>7</th>\n",
              "      <td>A7</td>\n",
              "      <td>B7</td>\n",
              "      <td>C7</td>\n",
              "      <td>D7</td>\n",
              "    </tr>\n",
              "  </tbody>\n",
              "</table>\n",
              "</div>"
            ],
            "text/plain": [
              "    A   B   C   D\n",
              "4  A4  B4  C4  D4\n",
              "5  A5  B5  C5  D5\n",
              "6  A6  B6  C6  D6\n",
              "7  A7  B7  C7  D7"
            ]
          },
          "metadata": {
            "tags": []
          },
          "execution_count": 46
        }
      ]
    },
    {
      "cell_type": "code",
      "metadata": {
        "colab": {
          "base_uri": "https://localhost:8080/",
          "height": 297
        },
        "id": "eS_SRUxMFriU",
        "outputId": "ba7e989b-fa4a-4f59-ab0f-96c2b547afb1"
      },
      "source": [
        "## 垂直接上 dataframe\n",
        "result = pd.concat([df1, df2], axis = 0) #default = 0\n",
        "result"
      ],
      "execution_count": 48,
      "outputs": [
        {
          "output_type": "execute_result",
          "data": {
            "text/html": [
              "<div>\n",
              "<style scoped>\n",
              "    .dataframe tbody tr th:only-of-type {\n",
              "        vertical-align: middle;\n",
              "    }\n",
              "\n",
              "    .dataframe tbody tr th {\n",
              "        vertical-align: top;\n",
              "    }\n",
              "\n",
              "    .dataframe thead th {\n",
              "        text-align: right;\n",
              "    }\n",
              "</style>\n",
              "<table border=\"1\" class=\"dataframe\">\n",
              "  <thead>\n",
              "    <tr style=\"text-align: right;\">\n",
              "      <th></th>\n",
              "      <th>A</th>\n",
              "      <th>B</th>\n",
              "      <th>C</th>\n",
              "      <th>D</th>\n",
              "    </tr>\n",
              "  </thead>\n",
              "  <tbody>\n",
              "    <tr>\n",
              "      <th>0</th>\n",
              "      <td>A0</td>\n",
              "      <td>B0</td>\n",
              "      <td>C0</td>\n",
              "      <td>D0</td>\n",
              "    </tr>\n",
              "    <tr>\n",
              "      <th>1</th>\n",
              "      <td>A1</td>\n",
              "      <td>B1</td>\n",
              "      <td>C1</td>\n",
              "      <td>D1</td>\n",
              "    </tr>\n",
              "    <tr>\n",
              "      <th>2</th>\n",
              "      <td>A2</td>\n",
              "      <td>B2</td>\n",
              "      <td>C2</td>\n",
              "      <td>D2</td>\n",
              "    </tr>\n",
              "    <tr>\n",
              "      <th>3</th>\n",
              "      <td>A3</td>\n",
              "      <td>B3</td>\n",
              "      <td>C3</td>\n",
              "      <td>D3</td>\n",
              "    </tr>\n",
              "    <tr>\n",
              "      <th>4</th>\n",
              "      <td>A4</td>\n",
              "      <td>B4</td>\n",
              "      <td>C4</td>\n",
              "      <td>D4</td>\n",
              "    </tr>\n",
              "    <tr>\n",
              "      <th>5</th>\n",
              "      <td>A5</td>\n",
              "      <td>B5</td>\n",
              "      <td>C5</td>\n",
              "      <td>D5</td>\n",
              "    </tr>\n",
              "    <tr>\n",
              "      <th>6</th>\n",
              "      <td>A6</td>\n",
              "      <td>B6</td>\n",
              "      <td>C6</td>\n",
              "      <td>D6</td>\n",
              "    </tr>\n",
              "    <tr>\n",
              "      <th>7</th>\n",
              "      <td>A7</td>\n",
              "      <td>B7</td>\n",
              "      <td>C7</td>\n",
              "      <td>D7</td>\n",
              "    </tr>\n",
              "  </tbody>\n",
              "</table>\n",
              "</div>"
            ],
            "text/plain": [
              "    A   B   C   D\n",
              "0  A0  B0  C0  D0\n",
              "1  A1  B1  C1  D1\n",
              "2  A2  B2  C2  D2\n",
              "3  A3  B3  C3  D3\n",
              "4  A4  B4  C4  D4\n",
              "5  A5  B5  C5  D5\n",
              "6  A6  B6  C6  D6\n",
              "7  A7  B7  C7  D7"
            ]
          },
          "metadata": {
            "tags": []
          },
          "execution_count": 48
        }
      ]
    },
    {
      "cell_type": "code",
      "metadata": {
        "colab": {
          "base_uri": "https://localhost:8080/",
          "height": 297
        },
        "id": "bCJPfw4UFssb",
        "outputId": "d778ab31-092d-42d9-cee9-2609de8edc89"
      },
      "source": [
        "## 垂直接上 dataframe\n",
        "result = pd.concat([df1, df2], axis = 1)\n",
        "result"
      ],
      "execution_count": 49,
      "outputs": [
        {
          "output_type": "execute_result",
          "data": {
            "text/html": [
              "<div>\n",
              "<style scoped>\n",
              "    .dataframe tbody tr th:only-of-type {\n",
              "        vertical-align: middle;\n",
              "    }\n",
              "\n",
              "    .dataframe tbody tr th {\n",
              "        vertical-align: top;\n",
              "    }\n",
              "\n",
              "    .dataframe thead th {\n",
              "        text-align: right;\n",
              "    }\n",
              "</style>\n",
              "<table border=\"1\" class=\"dataframe\">\n",
              "  <thead>\n",
              "    <tr style=\"text-align: right;\">\n",
              "      <th></th>\n",
              "      <th>A</th>\n",
              "      <th>B</th>\n",
              "      <th>C</th>\n",
              "      <th>D</th>\n",
              "      <th>A</th>\n",
              "      <th>B</th>\n",
              "      <th>C</th>\n",
              "      <th>D</th>\n",
              "    </tr>\n",
              "  </thead>\n",
              "  <tbody>\n",
              "    <tr>\n",
              "      <th>0</th>\n",
              "      <td>A0</td>\n",
              "      <td>B0</td>\n",
              "      <td>C0</td>\n",
              "      <td>D0</td>\n",
              "      <td>NaN</td>\n",
              "      <td>NaN</td>\n",
              "      <td>NaN</td>\n",
              "      <td>NaN</td>\n",
              "    </tr>\n",
              "    <tr>\n",
              "      <th>1</th>\n",
              "      <td>A1</td>\n",
              "      <td>B1</td>\n",
              "      <td>C1</td>\n",
              "      <td>D1</td>\n",
              "      <td>NaN</td>\n",
              "      <td>NaN</td>\n",
              "      <td>NaN</td>\n",
              "      <td>NaN</td>\n",
              "    </tr>\n",
              "    <tr>\n",
              "      <th>2</th>\n",
              "      <td>A2</td>\n",
              "      <td>B2</td>\n",
              "      <td>C2</td>\n",
              "      <td>D2</td>\n",
              "      <td>NaN</td>\n",
              "      <td>NaN</td>\n",
              "      <td>NaN</td>\n",
              "      <td>NaN</td>\n",
              "    </tr>\n",
              "    <tr>\n",
              "      <th>3</th>\n",
              "      <td>A3</td>\n",
              "      <td>B3</td>\n",
              "      <td>C3</td>\n",
              "      <td>D3</td>\n",
              "      <td>NaN</td>\n",
              "      <td>NaN</td>\n",
              "      <td>NaN</td>\n",
              "      <td>NaN</td>\n",
              "    </tr>\n",
              "    <tr>\n",
              "      <th>4</th>\n",
              "      <td>NaN</td>\n",
              "      <td>NaN</td>\n",
              "      <td>NaN</td>\n",
              "      <td>NaN</td>\n",
              "      <td>A4</td>\n",
              "      <td>B4</td>\n",
              "      <td>C4</td>\n",
              "      <td>D4</td>\n",
              "    </tr>\n",
              "    <tr>\n",
              "      <th>5</th>\n",
              "      <td>NaN</td>\n",
              "      <td>NaN</td>\n",
              "      <td>NaN</td>\n",
              "      <td>NaN</td>\n",
              "      <td>A5</td>\n",
              "      <td>B5</td>\n",
              "      <td>C5</td>\n",
              "      <td>D5</td>\n",
              "    </tr>\n",
              "    <tr>\n",
              "      <th>6</th>\n",
              "      <td>NaN</td>\n",
              "      <td>NaN</td>\n",
              "      <td>NaN</td>\n",
              "      <td>NaN</td>\n",
              "      <td>A6</td>\n",
              "      <td>B6</td>\n",
              "      <td>C6</td>\n",
              "      <td>D6</td>\n",
              "    </tr>\n",
              "    <tr>\n",
              "      <th>7</th>\n",
              "      <td>NaN</td>\n",
              "      <td>NaN</td>\n",
              "      <td>NaN</td>\n",
              "      <td>NaN</td>\n",
              "      <td>A7</td>\n",
              "      <td>B7</td>\n",
              "      <td>C7</td>\n",
              "      <td>D7</td>\n",
              "    </tr>\n",
              "  </tbody>\n",
              "</table>\n",
              "</div>"
            ],
            "text/plain": [
              "     A    B    C    D    A    B    C    D\n",
              "0   A0   B0   C0   D0  NaN  NaN  NaN  NaN\n",
              "1   A1   B1   C1   D1  NaN  NaN  NaN  NaN\n",
              "2   A2   B2   C2   D2  NaN  NaN  NaN  NaN\n",
              "3   A3   B3   C3   D3  NaN  NaN  NaN  NaN\n",
              "4  NaN  NaN  NaN  NaN   A4   B4   C4   D4\n",
              "5  NaN  NaN  NaN  NaN   A5   B5   C5   D5\n",
              "6  NaN  NaN  NaN  NaN   A6   B6   C6   D6\n",
              "7  NaN  NaN  NaN  NaN   A7   B7   C7   D7"
            ]
          },
          "metadata": {
            "tags": []
          },
          "execution_count": 49
        }
      ]
    },
    {
      "cell_type": "code",
      "metadata": {
        "id": "mhEFZBWGFupj"
      },
      "source": [
        "left = pd.DataFrame({'key': ['K0', 'K1', 'K2', 'K3'],\n",
        "            'A': ['A0', 'A1', 'A2', 'A3'],\n",
        "            'B': ['B0', 'B1', 'B2', 'B3']})\n",
        "\n",
        "right = pd.DataFrame({'key': ['K0', 'K1', 'K2', 'K3'],\n",
        "            'C': ['C0', 'C1', 'C2', 'C3'],\n",
        "            'D': ['D0', 'D1', 'D2', 'D3']})"
      ],
      "execution_count": 50,
      "outputs": []
    },
    {
      "cell_type": "code",
      "metadata": {
        "colab": {
          "base_uri": "https://localhost:8080/",
          "height": 173
        },
        "id": "6YVemAMdF09z",
        "outputId": "8329100e-de77-4f7f-9d3f-344505bab5f6"
      },
      "source": [
        "result = pd.merge(left, right, on = 'key')\n",
        "result"
      ],
      "execution_count": 51,
      "outputs": [
        {
          "output_type": "execute_result",
          "data": {
            "text/html": [
              "<div>\n",
              "<style scoped>\n",
              "    .dataframe tbody tr th:only-of-type {\n",
              "        vertical-align: middle;\n",
              "    }\n",
              "\n",
              "    .dataframe tbody tr th {\n",
              "        vertical-align: top;\n",
              "    }\n",
              "\n",
              "    .dataframe thead th {\n",
              "        text-align: right;\n",
              "    }\n",
              "</style>\n",
              "<table border=\"1\" class=\"dataframe\">\n",
              "  <thead>\n",
              "    <tr style=\"text-align: right;\">\n",
              "      <th></th>\n",
              "      <th>key</th>\n",
              "      <th>A</th>\n",
              "      <th>B</th>\n",
              "      <th>C</th>\n",
              "      <th>D</th>\n",
              "    </tr>\n",
              "  </thead>\n",
              "  <tbody>\n",
              "    <tr>\n",
              "      <th>0</th>\n",
              "      <td>K0</td>\n",
              "      <td>A0</td>\n",
              "      <td>B0</td>\n",
              "      <td>C0</td>\n",
              "      <td>D0</td>\n",
              "    </tr>\n",
              "    <tr>\n",
              "      <th>1</th>\n",
              "      <td>K1</td>\n",
              "      <td>A1</td>\n",
              "      <td>B1</td>\n",
              "      <td>C1</td>\n",
              "      <td>D1</td>\n",
              "    </tr>\n",
              "    <tr>\n",
              "      <th>2</th>\n",
              "      <td>K2</td>\n",
              "      <td>A2</td>\n",
              "      <td>B2</td>\n",
              "      <td>C2</td>\n",
              "      <td>D2</td>\n",
              "    </tr>\n",
              "    <tr>\n",
              "      <th>3</th>\n",
              "      <td>K3</td>\n",
              "      <td>A3</td>\n",
              "      <td>B3</td>\n",
              "      <td>C3</td>\n",
              "      <td>D3</td>\n",
              "    </tr>\n",
              "  </tbody>\n",
              "</table>\n",
              "</div>"
            ],
            "text/plain": [
              "  key   A   B   C   D\n",
              "0  K0  A0  B0  C0  D0\n",
              "1  K1  A1  B1  C1  D1\n",
              "2  K2  A2  B2  C2  D2\n",
              "3  K3  A3  B3  C3  D3"
            ]
          },
          "metadata": {
            "tags": []
          },
          "execution_count": 51
        }
      ]
    },
    {
      "cell_type": "code",
      "metadata": {
        "id": "p1PC7PS0F2NT"
      },
      "source": [
        "left = pd.DataFrame({'key1': ['K0', 'K0', 'K1', 'K2'],\n",
        "            'key2': ['K0', 'K1', 'K0', 'K1'],\n",
        "            'A': ['A0', 'A1', 'A2', 'A3'],\n",
        "            'B': ['B0', 'B1', 'B2', 'B3']})\n",
        "\n",
        "right = pd.DataFrame({'key1': ['K0', 'K1', 'K1', 'K2'],\n",
        "            'key2': ['K0', 'K0', 'K0', 'K0'],\n",
        "            'C': ['C0', 'C1', 'C2', 'C3'],\n",
        "            'D': ['D0', 'D1', 'D2', 'D3']})"
      ],
      "execution_count": 52,
      "outputs": []
    },
    {
      "cell_type": "code",
      "metadata": {
        "colab": {
          "base_uri": "https://localhost:8080/",
          "height": 204
        },
        "id": "e95e8NsGF8ir",
        "outputId": "1910b2f4-2ce7-42c4-b5df-3e5ab7a6255f"
      },
      "source": [
        "result = pd.merge(left, right, on=['key1', 'key2'], how='left')\n",
        "result"
      ],
      "execution_count": 53,
      "outputs": [
        {
          "output_type": "execute_result",
          "data": {
            "text/html": [
              "<div>\n",
              "<style scoped>\n",
              "    .dataframe tbody tr th:only-of-type {\n",
              "        vertical-align: middle;\n",
              "    }\n",
              "\n",
              "    .dataframe tbody tr th {\n",
              "        vertical-align: top;\n",
              "    }\n",
              "\n",
              "    .dataframe thead th {\n",
              "        text-align: right;\n",
              "    }\n",
              "</style>\n",
              "<table border=\"1\" class=\"dataframe\">\n",
              "  <thead>\n",
              "    <tr style=\"text-align: right;\">\n",
              "      <th></th>\n",
              "      <th>key1</th>\n",
              "      <th>key2</th>\n",
              "      <th>A</th>\n",
              "      <th>B</th>\n",
              "      <th>C</th>\n",
              "      <th>D</th>\n",
              "    </tr>\n",
              "  </thead>\n",
              "  <tbody>\n",
              "    <tr>\n",
              "      <th>0</th>\n",
              "      <td>K0</td>\n",
              "      <td>K0</td>\n",
              "      <td>A0</td>\n",
              "      <td>B0</td>\n",
              "      <td>C0</td>\n",
              "      <td>D0</td>\n",
              "    </tr>\n",
              "    <tr>\n",
              "      <th>1</th>\n",
              "      <td>K0</td>\n",
              "      <td>K1</td>\n",
              "      <td>A1</td>\n",
              "      <td>B1</td>\n",
              "      <td>NaN</td>\n",
              "      <td>NaN</td>\n",
              "    </tr>\n",
              "    <tr>\n",
              "      <th>2</th>\n",
              "      <td>K1</td>\n",
              "      <td>K0</td>\n",
              "      <td>A2</td>\n",
              "      <td>B2</td>\n",
              "      <td>C1</td>\n",
              "      <td>D1</td>\n",
              "    </tr>\n",
              "    <tr>\n",
              "      <th>3</th>\n",
              "      <td>K1</td>\n",
              "      <td>K0</td>\n",
              "      <td>A2</td>\n",
              "      <td>B2</td>\n",
              "      <td>C2</td>\n",
              "      <td>D2</td>\n",
              "    </tr>\n",
              "    <tr>\n",
              "      <th>4</th>\n",
              "      <td>K2</td>\n",
              "      <td>K1</td>\n",
              "      <td>A3</td>\n",
              "      <td>B3</td>\n",
              "      <td>NaN</td>\n",
              "      <td>NaN</td>\n",
              "    </tr>\n",
              "  </tbody>\n",
              "</table>\n",
              "</div>"
            ],
            "text/plain": [
              "  key1 key2   A   B    C    D\n",
              "0   K0   K0  A0  B0   C0   D0\n",
              "1   K0   K1  A1  B1  NaN  NaN\n",
              "2   K1   K0  A2  B2   C1   D1\n",
              "3   K1   K0  A2  B2   C2   D2\n",
              "4   K2   K1  A3  B3  NaN  NaN"
            ]
          },
          "metadata": {
            "tags": []
          },
          "execution_count": 53
        }
      ]
    },
    {
      "cell_type": "code",
      "metadata": {
        "colab": {
          "base_uri": "https://localhost:8080/",
          "height": 173
        },
        "id": "Q8Vc8zSbF957",
        "outputId": "e82230ad-4f99-43d2-ec3c-cd283880b2f7"
      },
      "source": [
        "result = pd.merge(left, right, how='right', on=['key1', 'key2'])\n",
        "result"
      ],
      "execution_count": 54,
      "outputs": [
        {
          "output_type": "execute_result",
          "data": {
            "text/html": [
              "<div>\n",
              "<style scoped>\n",
              "    .dataframe tbody tr th:only-of-type {\n",
              "        vertical-align: middle;\n",
              "    }\n",
              "\n",
              "    .dataframe tbody tr th {\n",
              "        vertical-align: top;\n",
              "    }\n",
              "\n",
              "    .dataframe thead th {\n",
              "        text-align: right;\n",
              "    }\n",
              "</style>\n",
              "<table border=\"1\" class=\"dataframe\">\n",
              "  <thead>\n",
              "    <tr style=\"text-align: right;\">\n",
              "      <th></th>\n",
              "      <th>key1</th>\n",
              "      <th>key2</th>\n",
              "      <th>A</th>\n",
              "      <th>B</th>\n",
              "      <th>C</th>\n",
              "      <th>D</th>\n",
              "    </tr>\n",
              "  </thead>\n",
              "  <tbody>\n",
              "    <tr>\n",
              "      <th>0</th>\n",
              "      <td>K0</td>\n",
              "      <td>K0</td>\n",
              "      <td>A0</td>\n",
              "      <td>B0</td>\n",
              "      <td>C0</td>\n",
              "      <td>D0</td>\n",
              "    </tr>\n",
              "    <tr>\n",
              "      <th>1</th>\n",
              "      <td>K1</td>\n",
              "      <td>K0</td>\n",
              "      <td>A2</td>\n",
              "      <td>B2</td>\n",
              "      <td>C1</td>\n",
              "      <td>D1</td>\n",
              "    </tr>\n",
              "    <tr>\n",
              "      <th>2</th>\n",
              "      <td>K1</td>\n",
              "      <td>K0</td>\n",
              "      <td>A2</td>\n",
              "      <td>B2</td>\n",
              "      <td>C2</td>\n",
              "      <td>D2</td>\n",
              "    </tr>\n",
              "    <tr>\n",
              "      <th>3</th>\n",
              "      <td>K2</td>\n",
              "      <td>K0</td>\n",
              "      <td>NaN</td>\n",
              "      <td>NaN</td>\n",
              "      <td>C3</td>\n",
              "      <td>D3</td>\n",
              "    </tr>\n",
              "  </tbody>\n",
              "</table>\n",
              "</div>"
            ],
            "text/plain": [
              "  key1 key2    A    B   C   D\n",
              "0   K0   K0   A0   B0  C0  D0\n",
              "1   K1   K0   A2   B2  C1  D1\n",
              "2   K1   K0   A2   B2  C2  D2\n",
              "3   K2   K0  NaN  NaN  C3  D3"
            ]
          },
          "metadata": {
            "tags": []
          },
          "execution_count": 54
        }
      ]
    },
    {
      "cell_type": "code",
      "metadata": {
        "colab": {
          "base_uri": "https://localhost:8080/",
          "height": 235
        },
        "id": "eCBgsxqzF_1T",
        "outputId": "1c0a5a28-d779-47c4-a66c-c93716bafd11"
      },
      "source": [
        "result = pd.merge(left, right, how='outer', on=['key1', 'key2'])\n",
        "result"
      ],
      "execution_count": 55,
      "outputs": [
        {
          "output_type": "execute_result",
          "data": {
            "text/html": [
              "<div>\n",
              "<style scoped>\n",
              "    .dataframe tbody tr th:only-of-type {\n",
              "        vertical-align: middle;\n",
              "    }\n",
              "\n",
              "    .dataframe tbody tr th {\n",
              "        vertical-align: top;\n",
              "    }\n",
              "\n",
              "    .dataframe thead th {\n",
              "        text-align: right;\n",
              "    }\n",
              "</style>\n",
              "<table border=\"1\" class=\"dataframe\">\n",
              "  <thead>\n",
              "    <tr style=\"text-align: right;\">\n",
              "      <th></th>\n",
              "      <th>key1</th>\n",
              "      <th>key2</th>\n",
              "      <th>A</th>\n",
              "      <th>B</th>\n",
              "      <th>C</th>\n",
              "      <th>D</th>\n",
              "    </tr>\n",
              "  </thead>\n",
              "  <tbody>\n",
              "    <tr>\n",
              "      <th>0</th>\n",
              "      <td>K0</td>\n",
              "      <td>K0</td>\n",
              "      <td>A0</td>\n",
              "      <td>B0</td>\n",
              "      <td>C0</td>\n",
              "      <td>D0</td>\n",
              "    </tr>\n",
              "    <tr>\n",
              "      <th>1</th>\n",
              "      <td>K0</td>\n",
              "      <td>K1</td>\n",
              "      <td>A1</td>\n",
              "      <td>B1</td>\n",
              "      <td>NaN</td>\n",
              "      <td>NaN</td>\n",
              "    </tr>\n",
              "    <tr>\n",
              "      <th>2</th>\n",
              "      <td>K1</td>\n",
              "      <td>K0</td>\n",
              "      <td>A2</td>\n",
              "      <td>B2</td>\n",
              "      <td>C1</td>\n",
              "      <td>D1</td>\n",
              "    </tr>\n",
              "    <tr>\n",
              "      <th>3</th>\n",
              "      <td>K1</td>\n",
              "      <td>K0</td>\n",
              "      <td>A2</td>\n",
              "      <td>B2</td>\n",
              "      <td>C2</td>\n",
              "      <td>D2</td>\n",
              "    </tr>\n",
              "    <tr>\n",
              "      <th>4</th>\n",
              "      <td>K2</td>\n",
              "      <td>K1</td>\n",
              "      <td>A3</td>\n",
              "      <td>B3</td>\n",
              "      <td>NaN</td>\n",
              "      <td>NaN</td>\n",
              "    </tr>\n",
              "    <tr>\n",
              "      <th>5</th>\n",
              "      <td>K2</td>\n",
              "      <td>K0</td>\n",
              "      <td>NaN</td>\n",
              "      <td>NaN</td>\n",
              "      <td>C3</td>\n",
              "      <td>D3</td>\n",
              "    </tr>\n",
              "  </tbody>\n",
              "</table>\n",
              "</div>"
            ],
            "text/plain": [
              "  key1 key2    A    B    C    D\n",
              "0   K0   K0   A0   B0   C0   D0\n",
              "1   K0   K1   A1   B1  NaN  NaN\n",
              "2   K1   K0   A2   B2   C1   D1\n",
              "3   K1   K0   A2   B2   C2   D2\n",
              "4   K2   K1   A3   B3  NaN  NaN\n",
              "5   K2   K0  NaN  NaN   C3   D3"
            ]
          },
          "metadata": {
            "tags": []
          },
          "execution_count": 55
        }
      ]
    },
    {
      "cell_type": "code",
      "metadata": {
        "colab": {
          "base_uri": "https://localhost:8080/",
          "height": 142
        },
        "id": "oovw9H9-GAxz",
        "outputId": "0c8a4233-8348-420f-b174-9b14ce330291"
      },
      "source": [
        "result = pd.merge(left, right, how='inner', on=['key1', 'key2'])\n",
        "result"
      ],
      "execution_count": 56,
      "outputs": [
        {
          "output_type": "execute_result",
          "data": {
            "text/html": [
              "<div>\n",
              "<style scoped>\n",
              "    .dataframe tbody tr th:only-of-type {\n",
              "        vertical-align: middle;\n",
              "    }\n",
              "\n",
              "    .dataframe tbody tr th {\n",
              "        vertical-align: top;\n",
              "    }\n",
              "\n",
              "    .dataframe thead th {\n",
              "        text-align: right;\n",
              "    }\n",
              "</style>\n",
              "<table border=\"1\" class=\"dataframe\">\n",
              "  <thead>\n",
              "    <tr style=\"text-align: right;\">\n",
              "      <th></th>\n",
              "      <th>key1</th>\n",
              "      <th>key2</th>\n",
              "      <th>A</th>\n",
              "      <th>B</th>\n",
              "      <th>C</th>\n",
              "      <th>D</th>\n",
              "    </tr>\n",
              "  </thead>\n",
              "  <tbody>\n",
              "    <tr>\n",
              "      <th>0</th>\n",
              "      <td>K0</td>\n",
              "      <td>K0</td>\n",
              "      <td>A0</td>\n",
              "      <td>B0</td>\n",
              "      <td>C0</td>\n",
              "      <td>D0</td>\n",
              "    </tr>\n",
              "    <tr>\n",
              "      <th>1</th>\n",
              "      <td>K1</td>\n",
              "      <td>K0</td>\n",
              "      <td>A2</td>\n",
              "      <td>B2</td>\n",
              "      <td>C1</td>\n",
              "      <td>D1</td>\n",
              "    </tr>\n",
              "    <tr>\n",
              "      <th>2</th>\n",
              "      <td>K1</td>\n",
              "      <td>K0</td>\n",
              "      <td>A2</td>\n",
              "      <td>B2</td>\n",
              "      <td>C2</td>\n",
              "      <td>D2</td>\n",
              "    </tr>\n",
              "  </tbody>\n",
              "</table>\n",
              "</div>"
            ],
            "text/plain": [
              "  key1 key2   A   B   C   D\n",
              "0   K0   K0  A0  B0  C0  D0\n",
              "1   K1   K0  A2  B2  C1  D1\n",
              "2   K1   K0  A2  B2  C2  D2"
            ]
          },
          "metadata": {
            "tags": []
          },
          "execution_count": 56
        }
      ]
    },
    {
      "cell_type": "markdown",
      "metadata": {
        "id": "VcJQwnujGD-n"
      },
      "source": [
        "## pandas 練習\n",
        "\n",
        "* [10 minutes to pandas](http://pandas.pydata.org/pandas-docs/stable/10min.html)\n",
        "* [pandas basics](http://pandas.pydata.org/pandas-docs/stable/basics.html)\n",
        "* [tutorials](http://pandas.pydata.org/pandas-docs/stable/tutorials.html)\n",
        "* [cookbook and idioms](http://pandas.pydata.org/pandas-docs/version/0.17.0/cookbook.html#cookbook)\n",
        "* [Guilherme Samora's pandas exercises](https://github.com/guipsamora/pandas_exercises)"
      ]
    }
  ]
}