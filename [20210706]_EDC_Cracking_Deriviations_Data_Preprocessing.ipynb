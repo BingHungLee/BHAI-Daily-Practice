{
  "nbformat": 4,
  "nbformat_minor": 0,
  "metadata": {
    "colab": {
      "name": "[20210706]_EDC_Cracking_Deriviations_Data_Preprocessing.ipynb",
      "provenance": [],
      "authorship_tag": "ABX9TyMPcjRPzaMufGIC5q+7vwtk",
      "include_colab_link": true
    },
    "kernelspec": {
      "name": "python3",
      "display_name": "Python 3"
    },
    "language_info": {
      "name": "python"
    }
  },
  "cells": [
    {
      "cell_type": "markdown",
      "metadata": {
        "id": "view-in-github",
        "colab_type": "text"
      },
      "source": [
        "<a href=\"https://colab.research.google.com/github/BingHungLee/BHAI-Daily-Practice/blob/main/%5B20210706%5D_EDC_Cracking_Deriviations_Data_Preprocessing.ipynb\" target=\"_parent\"><img src=\"https://colab.research.google.com/assets/colab-badge.svg\" alt=\"Open In Colab\"/></a>"
      ]
    },
    {
      "cell_type": "markdown",
      "metadata": {
        "id": "dbWBLJYU3EjQ"
      },
      "source": [
        "# EDC Cracking Deriviations Data Preprocessing\n",
        "\n",
        "https://en.wikipedia.org/wiki/Arrhenius_equation"
      ]
    },
    {
      "cell_type": "code",
      "metadata": {
        "id": "VWAcmpWw3FeI"
      },
      "source": [
        "import os \n",
        "import pandas as pd\n",
        "import numpy as np\n",
        "import matplotlib.pyplot as plt"
      ],
      "execution_count": 1,
      "outputs": []
    },
    {
      "cell_type": "code",
      "metadata": {
        "colab": {
          "resources": {
            "http://localhost:8080/nbextensions/google.colab/files.js": {
              "data": "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",
              "ok": true,
              "headers": [
                [
                  "content-type",
                  "application/javascript"
                ]
              ],
              "status": 200,
              "status_text": ""
            }
          },
          "base_uri": "https://localhost:8080/",
          "height": 74
        },
        "id": "aFpQGCnh3SQU",
        "outputId": "0a71bf4d-447c-4457-b062-65b70328ab2e"
      },
      "source": [
        " # Upload CSV From a local drive\n",
        "from google.colab import files\n",
        "uploaded = files.upload()\n",
        "filename = next(iter(uploaded))\n",
        "dataset= pd.read_csv(filename)"
      ],
      "execution_count": 2,
      "outputs": [
        {
          "output_type": "display_data",
          "data": {
            "text/html": [
              "\n",
              "     <input type=\"file\" id=\"files-6eb1c382-f2f9-4f52-968c-578050bdeab8\" name=\"files[]\" multiple disabled\n",
              "        style=\"border:none\" />\n",
              "     <output id=\"result-6eb1c382-f2f9-4f52-968c-578050bdeab8\">\n",
              "      Upload widget is only available when the cell has been executed in the\n",
              "      current browser session. Please rerun this cell to enable.\n",
              "      </output>\n",
              "      <script src=\"/nbextensions/google.colab/files.js\"></script> "
            ],
            "text/plain": [
              "<IPython.core.display.HTML object>"
            ]
          },
          "metadata": {
            "tags": []
          }
        },
        {
          "output_type": "stream",
          "text": [
            "Saving TECHN.csv to TECHN (4).csv\n"
          ],
          "name": "stdout"
        }
      ]
    },
    {
      "cell_type": "code",
      "metadata": {
        "colab": {
          "base_uri": "https://localhost:8080/",
          "height": 638
        },
        "id": "fsqf70OeOqm6",
        "outputId": "b17b8e74-52ee-4921-96bc-12c96d35b575"
      },
      "source": [
        "dataset"
      ],
      "execution_count": 3,
      "outputs": [
        {
          "output_type": "execute_result",
          "data": {
            "text/html": [
              "<div>\n",
              "<style scoped>\n",
              "    .dataframe tbody tr th:only-of-type {\n",
              "        vertical-align: middle;\n",
              "    }\n",
              "\n",
              "    .dataframe tbody tr th {\n",
              "        vertical-align: top;\n",
              "    }\n",
              "\n",
              "    .dataframe thead th {\n",
              "        text-align: right;\n",
              "    }\n",
              "</style>\n",
              "<table border=\"1\" class=\"dataframe\">\n",
              "  <thead>\n",
              "    <tr style=\"text-align: right;\">\n",
              "      <th></th>\n",
              "      <th>temp</th>\n",
              "      <th>p</th>\n",
              "      <th>no</th>\n",
              "      <th>0ppm</th>\n",
              "      <th>200ppm</th>\n",
              "      <th>400ppm</th>\n",
              "      <th>600ppm</th>\n",
              "      <th>800ppm</th>\n",
              "      <th>1000ppm</th>\n",
              "      <th>1200ppm</th>\n",
              "      <th>1400ppm</th>\n",
              "      <th>1600ppm</th>\n",
              "      <th>2000 ppm</th>\n",
              "      <th>2500 ppm</th>\n",
              "    </tr>\n",
              "  </thead>\n",
              "  <tbody>\n",
              "    <tr>\n",
              "      <th>0</th>\n",
              "      <td>324.7</td>\n",
              "      <td>11.40</td>\n",
              "      <td>0</td>\n",
              "      <td>0.000000</td>\n",
              "      <td>0.000000</td>\n",
              "      <td>0.000000</td>\n",
              "      <td>0.000000</td>\n",
              "      <td>0.000000</td>\n",
              "      <td>0.000000</td>\n",
              "      <td>0.000000</td>\n",
              "      <td>0.000000</td>\n",
              "      <td>0.000000</td>\n",
              "      <td>0.000000</td>\n",
              "      <td>0.000000</td>\n",
              "    </tr>\n",
              "    <tr>\n",
              "      <th>1</th>\n",
              "      <td>350.0</td>\n",
              "      <td>11.36</td>\n",
              "      <td>1</td>\n",
              "      <td>0.521164</td>\n",
              "      <td>0.522199</td>\n",
              "      <td>0.522365</td>\n",
              "      <td>0.522339</td>\n",
              "      <td>0.522780</td>\n",
              "      <td>0.523014</td>\n",
              "      <td>0.523264</td>\n",
              "      <td>0.523629</td>\n",
              "      <td>0.523948</td>\n",
              "      <td>0.524265</td>\n",
              "      <td>0.524512</td>\n",
              "    </tr>\n",
              "    <tr>\n",
              "      <th>2</th>\n",
              "      <td>374.7</td>\n",
              "      <td>11.32</td>\n",
              "      <td>2</td>\n",
              "      <td>1.264740</td>\n",
              "      <td>1.266985</td>\n",
              "      <td>1.270039</td>\n",
              "      <td>1.271721</td>\n",
              "      <td>1.273495</td>\n",
              "      <td>1.274979</td>\n",
              "      <td>1.276487</td>\n",
              "      <td>1.278065</td>\n",
              "      <td>1.279184</td>\n",
              "      <td>1.281570</td>\n",
              "      <td>1.284193</td>\n",
              "    </tr>\n",
              "    <tr>\n",
              "      <th>3</th>\n",
              "      <td>399.3</td>\n",
              "      <td>11.27</td>\n",
              "      <td>3</td>\n",
              "      <td>2.323532</td>\n",
              "      <td>2.338824</td>\n",
              "      <td>2.350183</td>\n",
              "      <td>2.359753</td>\n",
              "      <td>2.368227</td>\n",
              "      <td>2.375934</td>\n",
              "      <td>2.383101</td>\n",
              "      <td>2.390065</td>\n",
              "      <td>2.396244</td>\n",
              "      <td>2.407976</td>\n",
              "      <td>2.421589</td>\n",
              "    </tr>\n",
              "    <tr>\n",
              "      <th>4</th>\n",
              "      <td>424.0</td>\n",
              "      <td>11.22</td>\n",
              "      <td>4</td>\n",
              "      <td>3.913078</td>\n",
              "      <td>3.971833</td>\n",
              "      <td>4.020674</td>\n",
              "      <td>4.063351</td>\n",
              "      <td>4.101876</td>\n",
              "      <td>4.137400</td>\n",
              "      <td>4.170501</td>\n",
              "      <td>4.201660</td>\n",
              "      <td>4.231296</td>\n",
              "      <td>4.286329</td>\n",
              "      <td>4.349787</td>\n",
              "    </tr>\n",
              "    <tr>\n",
              "      <th>5</th>\n",
              "      <td>451.3</td>\n",
              "      <td>11.17</td>\n",
              "      <td>5</td>\n",
              "      <td>7.038567</td>\n",
              "      <td>7.300785</td>\n",
              "      <td>7.531622</td>\n",
              "      <td>7.741569</td>\n",
              "      <td>7.936005</td>\n",
              "      <td>8.118424</td>\n",
              "      <td>8.291328</td>\n",
              "      <td>8.456067</td>\n",
              "      <td>8.614056</td>\n",
              "      <td>8.913114</td>\n",
              "      <td>9.261672</td>\n",
              "    </tr>\n",
              "    <tr>\n",
              "      <th>6</th>\n",
              "      <td>460.7</td>\n",
              "      <td>11.11</td>\n",
              "      <td>6</td>\n",
              "      <td>10.306786</td>\n",
              "      <td>10.808612</td>\n",
              "      <td>11.256860</td>\n",
              "      <td>11.666493</td>\n",
              "      <td>12.046700</td>\n",
              "      <td>12.402982</td>\n",
              "      <td>12.739285</td>\n",
              "      <td>13.058335</td>\n",
              "      <td>13.362346</td>\n",
              "      <td>13.931772</td>\n",
              "      <td>14.583877</td>\n",
              "    </tr>\n",
              "    <tr>\n",
              "      <th>7</th>\n",
              "      <td>466.0</td>\n",
              "      <td>11.05</td>\n",
              "      <td>7</td>\n",
              "      <td>13.932304</td>\n",
              "      <td>14.660144</td>\n",
              "      <td>15.305010</td>\n",
              "      <td>15.888112</td>\n",
              "      <td>16.421865</td>\n",
              "      <td>16.915613</td>\n",
              "      <td>17.375776</td>\n",
              "      <td>17.807217</td>\n",
              "      <td>18.213583</td>\n",
              "      <td>18.963068</td>\n",
              "      <td>19.803576</td>\n",
              "    </tr>\n",
              "    <tr>\n",
              "      <th>8</th>\n",
              "      <td>471.3</td>\n",
              "      <td>11.00</td>\n",
              "      <td>8</td>\n",
              "      <td>18.642807</td>\n",
              "      <td>19.560110</td>\n",
              "      <td>20.359735</td>\n",
              "      <td>21.072657</td>\n",
              "      <td>21.717087</td>\n",
              "      <td>22.307127</td>\n",
              "      <td>22.851570</td>\n",
              "      <td>23.358025</td>\n",
              "      <td>23.831696</td>\n",
              "      <td>24.698040</td>\n",
              "      <td>25.659225</td>\n",
              "    </tr>\n",
              "    <tr>\n",
              "      <th>9</th>\n",
              "      <td>476.7</td>\n",
              "      <td>10.94</td>\n",
              "      <td>9</td>\n",
              "      <td>24.359924</td>\n",
              "      <td>25.360992</td>\n",
              "      <td>26.231483</td>\n",
              "      <td>27.005661</td>\n",
              "      <td>27.704718</td>\n",
              "      <td>28.343033</td>\n",
              "      <td>28.931835</td>\n",
              "      <td>29.478745</td>\n",
              "      <td>29.989864</td>\n",
              "      <td>30.923542</td>\n",
              "      <td>31.958382</td>\n",
              "    </tr>\n",
              "    <tr>\n",
              "      <th>10</th>\n",
              "      <td>478.7</td>\n",
              "      <td>10.84</td>\n",
              "      <td>10</td>\n",
              "      <td>28.308365</td>\n",
              "      <td>29.307240</td>\n",
              "      <td>30.180832</td>\n",
              "      <td>30.960091</td>\n",
              "      <td>31.665230</td>\n",
              "      <td>32.310890</td>\n",
              "      <td>32.906834</td>\n",
              "      <td>33.461311</td>\n",
              "      <td>33.980137</td>\n",
              "      <td>34.928379</td>\n",
              "      <td>35.980583</td>\n",
              "    </tr>\n",
              "    <tr>\n",
              "      <th>11</th>\n",
              "      <td>479.3</td>\n",
              "      <td>10.75</td>\n",
              "      <td>11</td>\n",
              "      <td>31.242752</td>\n",
              "      <td>32.223251</td>\n",
              "      <td>33.084614</td>\n",
              "      <td>33.855391</td>\n",
              "      <td>34.554806</td>\n",
              "      <td>35.195974</td>\n",
              "      <td>35.788872</td>\n",
              "      <td>36.341030</td>\n",
              "      <td>36.858040</td>\n",
              "      <td>37.804148</td>\n",
              "      <td>38.854849</td>\n",
              "    </tr>\n",
              "    <tr>\n",
              "      <th>12</th>\n",
              "      <td>480.0</td>\n",
              "      <td>10.66</td>\n",
              "      <td>12</td>\n",
              "      <td>34.177139</td>\n",
              "      <td>35.139263</td>\n",
              "      <td>35.988396</td>\n",
              "      <td>36.750690</td>\n",
              "      <td>37.444382</td>\n",
              "      <td>38.081059</td>\n",
              "      <td>38.670910</td>\n",
              "      <td>39.220749</td>\n",
              "      <td>39.735943</td>\n",
              "      <td>40.679916</td>\n",
              "      <td>41.729115</td>\n",
              "    </tr>\n",
              "    <tr>\n",
              "      <th>13</th>\n",
              "      <td>481.3</td>\n",
              "      <td>10.56</td>\n",
              "      <td>13</td>\n",
              "      <td>37.448574</td>\n",
              "      <td>38.390179</td>\n",
              "      <td>39.224659</td>\n",
              "      <td>39.976826</td>\n",
              "      <td>40.662582</td>\n",
              "      <td>41.293949</td>\n",
              "      <td>41.879459</td>\n",
              "      <td>42.425587</td>\n",
              "      <td>42.938137</td>\n",
              "      <td>43.878025</td>\n",
              "      <td>44.924122</td>\n",
              "    </tr>\n",
              "    <tr>\n",
              "      <th>14</th>\n",
              "      <td>482.3</td>\n",
              "      <td>10.43</td>\n",
              "      <td>14</td>\n",
              "      <td>40.426540</td>\n",
              "      <td>41.345573</td>\n",
              "      <td>42.163891</td>\n",
              "      <td>42.903515</td>\n",
              "      <td>43.579533</td>\n",
              "      <td>44.202778</td>\n",
              "      <td>44.781258</td>\n",
              "      <td>45.321930</td>\n",
              "      <td>45.829872</td>\n",
              "      <td>46.761559</td>\n",
              "      <td>47.799557</td>\n",
              "    </tr>\n",
              "    <tr>\n",
              "      <th>15</th>\n",
              "      <td>483.3</td>\n",
              "      <td>10.30</td>\n",
              "      <td>15</td>\n",
              "      <td>43.330460</td>\n",
              "      <td>44.226776</td>\n",
              "      <td>45.027725</td>\n",
              "      <td>45.753853</td>\n",
              "      <td>46.418617</td>\n",
              "      <td>47.032372</td>\n",
              "      <td>47.603191</td>\n",
              "      <td>48.136925</td>\n",
              "      <td>48.638306</td>\n",
              "      <td>49.559395</td>\n",
              "      <td>50.586143</td>\n",
              "    </tr>\n",
              "    <tr>\n",
              "      <th>16</th>\n",
              "      <td>484.3</td>\n",
              "      <td>10.24</td>\n",
              "      <td>16</td>\n",
              "      <td>46.164894</td>\n",
              "      <td>47.037941</td>\n",
              "      <td>47.821098</td>\n",
              "      <td>48.532108</td>\n",
              "      <td>49.184498</td>\n",
              "      <td>49.788074</td>\n",
              "      <td>50.349396</td>\n",
              "      <td>50.874805</td>\n",
              "      <td>51.368923</td>\n",
              "      <td>52.276535</td>\n",
              "      <td>53.289818</td>\n",
              "    </tr>\n",
              "    <tr>\n",
              "      <th>17</th>\n",
              "      <td>485.3</td>\n",
              "      <td>10.19</td>\n",
              "      <td>17</td>\n",
              "      <td>48.933201</td>\n",
              "      <td>49.782555</td>\n",
              "      <td>50.546738</td>\n",
              "      <td>51.242382</td>\n",
              "      <td>51.881306</td>\n",
              "      <td>52.472824</td>\n",
              "      <td>53.023987</td>\n",
              "      <td>53.540180</td>\n",
              "      <td>54.025646</td>\n",
              "      <td>54.918320</td>\n",
              "      <td>55.915012</td>\n",
              "    </tr>\n",
              "    <tr>\n",
              "      <th>18</th>\n",
              "      <td>486.7</td>\n",
              "      <td>10.10</td>\n",
              "      <td>18</td>\n",
              "      <td>51.944801</td>\n",
              "      <td>52.768734</td>\n",
              "      <td>53.511921</td>\n",
              "      <td>54.189819</td>\n",
              "      <td>54.813740</td>\n",
              "      <td>55.391960</td>\n",
              "      <td>55.931206</td>\n",
              "      <td>56.436287</td>\n",
              "      <td>56.912067</td>\n",
              "      <td>57.787144</td>\n",
              "      <td>58.764351</td>\n",
              "    </tr>\n",
              "  </tbody>\n",
              "</table>\n",
              "</div>"
            ],
            "text/plain": [
              "     temp      p  no       0ppm  ...    1400ppm    1600ppm   2000 ppm   2500 ppm\n",
              "0   324.7  11.40   0   0.000000  ...   0.000000   0.000000   0.000000   0.000000\n",
              "1   350.0  11.36   1   0.521164  ...   0.523629   0.523948   0.524265   0.524512\n",
              "2   374.7  11.32   2   1.264740  ...   1.278065   1.279184   1.281570   1.284193\n",
              "3   399.3  11.27   3   2.323532  ...   2.390065   2.396244   2.407976   2.421589\n",
              "4   424.0  11.22   4   3.913078  ...   4.201660   4.231296   4.286329   4.349787\n",
              "5   451.3  11.17   5   7.038567  ...   8.456067   8.614056   8.913114   9.261672\n",
              "6   460.7  11.11   6  10.306786  ...  13.058335  13.362346  13.931772  14.583877\n",
              "7   466.0  11.05   7  13.932304  ...  17.807217  18.213583  18.963068  19.803576\n",
              "8   471.3  11.00   8  18.642807  ...  23.358025  23.831696  24.698040  25.659225\n",
              "9   476.7  10.94   9  24.359924  ...  29.478745  29.989864  30.923542  31.958382\n",
              "10  478.7  10.84  10  28.308365  ...  33.461311  33.980137  34.928379  35.980583\n",
              "11  479.3  10.75  11  31.242752  ...  36.341030  36.858040  37.804148  38.854849\n",
              "12  480.0  10.66  12  34.177139  ...  39.220749  39.735943  40.679916  41.729115\n",
              "13  481.3  10.56  13  37.448574  ...  42.425587  42.938137  43.878025  44.924122\n",
              "14  482.3  10.43  14  40.426540  ...  45.321930  45.829872  46.761559  47.799557\n",
              "15  483.3  10.30  15  43.330460  ...  48.136925  48.638306  49.559395  50.586143\n",
              "16  484.3  10.24  16  46.164894  ...  50.874805  51.368923  52.276535  53.289818\n",
              "17  485.3  10.19  17  48.933201  ...  53.540180  54.025646  54.918320  55.915012\n",
              "18  486.7  10.10  18  51.944801  ...  56.436287  56.912067  57.787144  58.764351\n",
              "\n",
              "[19 rows x 14 columns]"
            ]
          },
          "metadata": {
            "tags": []
          },
          "execution_count": 3
        }
      ]
    },
    {
      "cell_type": "code",
      "metadata": {
        "colab": {
          "base_uri": "https://localhost:8080/",
          "height": 461
        },
        "id": "UGlhdRcm3hap",
        "outputId": "cf582aff-bbe5-4f48-edf9-9ebdb0388e39"
      },
      "source": [
        "from matplotlib.pyplot import figure\n",
        "figure(figsize=(8, 6), dpi=80)\n",
        "\n",
        "plt.plot(dataset[[\"no\"]],dataset[[\"0ppm\"]],label='0ppm')\n",
        "plt.plot(dataset[[\"no\"]],dataset[[\"200ppm\"]],label='200ppm')\n",
        "plt.plot(dataset[[\"no\"]],dataset[[\"400ppm\"]],label='400ppm')\n",
        "plt.plot(dataset[[\"no\"]],dataset[[\"600ppm\"]],label='600ppm')\n",
        "plt.plot(dataset[[\"no\"]],dataset[[\"800ppm\"]],label='800ppm')\n",
        "plt.plot(dataset[[\"no\"]],dataset[[\"1000ppm\"]],label='1000ppm')\n",
        "plt.plot(dataset[[\"no\"]],dataset[[\"1200ppm\"]],label='1200ppm')\n",
        "plt.plot(dataset[[\"no\"]],dataset[[\"1400ppm\"]],label='1400ppm')\n",
        "plt.plot(dataset[[\"no\"]],dataset[[\"1600ppm\"]],label='1600ppm')\n",
        "\n",
        "plt.title(\"Cracking Rate in difference CCL4 ppm content\",) \n",
        "plt.ylabel(\"Cracking Rate(%)\",) \n",
        "plt.xlabel(\"Tube#\",)\n",
        "plt.legend()\n",
        "plt.grid(True)\n",
        "plt.show()\n",
        "\n",
        "plt.savefig(\"CR.png\")"
      ],
      "execution_count": 4,
      "outputs": [
        {
          "output_type": "display_data",
          "data": {
            "image/png": "[encoded data removed]",
            "text/plain": [
              "<Figure size 640x480 with 1 Axes>"
            ]
          },
          "metadata": {
            "tags": [],
            "needs_background": "light"
          }
        },
        {
          "output_type": "display_data",
          "data": {
            "text/plain": [
              "<Figure size 432x288 with 0 Axes>"
            ]
          },
          "metadata": {
            "tags": []
          }
        }
      ]
    },
    {
      "cell_type": "markdown",
      "metadata": {
        "id": "xPu2Oiuf9Chk"
      },
      "source": [
        "# Defined reactor parameters to calculate reaction rate k"
      ]
    },
    {
      "cell_type": "code",
      "metadata": {
        "id": "PT1EhniY4G_q"
      },
      "source": [
        "import math\n",
        "\n",
        "D = 0.2027        # tube inside diameter 0.2027 (m)\n",
        "L = 18          # tube length 18 (m)\n",
        "NTube = 18        # Number of tubes\n",
        "mdot_in_kg = 36000    # In-tube flow rate (kg/hr)\n",
        "mdot_in_mole = 363.7864  # In-tube flow rate (kmole/hr)\n",
        "\n",
        "HTA = 0.25*math.pi*0.2027**2*18*18 # Total heat transfer area for whole reactor\n",
        "HTAperTuber = HTA/18        # heat transfer area per tube"
      ],
      "execution_count": 5,
      "outputs": []
    },
    {
      "cell_type": "code",
      "metadata": {
        "id": "PSLL17HWQkDa"
      },
      "source": [
        "def CtoK(temp):\n",
        "  return temp+273.15"
      ],
      "execution_count": 6,
      "outputs": []
    },
    {
      "cell_type": "code",
      "metadata": {
        "id": "SpqyKZ0VQ954"
      },
      "source": [
        "def PkgGtoatm(pressure):\n",
        "  return (pressure +1)*0.967841"
      ],
      "execution_count": 7,
      "outputs": []
    },
    {
      "cell_type": "code",
      "metadata": {
        "id": "LUoiT3QHQlBi"
      },
      "source": [
        "dataset[[\"temp\"]] = CtoK(dataset[[\"temp\"]]) # Transform temp from celsius to kelvin\n",
        "dataset[[\"p\"]] = PkgGtoatm(dataset[[\"p\"]]) # Transform pressure from kg/cm2G to atm"
      ],
      "execution_count": 8,
      "outputs": []
    },
    {
      "cell_type": "markdown",
      "metadata": {
        "id": "b3iqAx1FMaV3"
      },
      "source": [
        "# Start Deriviation"
      ]
    },
    {
      "cell_type": "code",
      "metadata": {
        "colab": {
          "base_uri": "https://localhost:8080/",
          "height": 638
        },
        "id": "bCclYFS7PLlO",
        "outputId": "4f9f3e78-cb83-4dbb-fcc6-e29ead28a7e1"
      },
      "source": [
        "case = dataset[[\"no\",\"temp\",\"p\",\"0ppm\"]]\n",
        "case."
      ],
      "execution_count": 10,
      "outputs": [
        {
          "output_type": "execute_result",
          "data": {
            "text/html": [
              "<div>\n",
              "<style scoped>\n",
              "    .dataframe tbody tr th:only-of-type {\n",
              "        vertical-align: middle;\n",
              "    }\n",
              "\n",
              "    .dataframe tbody tr th {\n",
              "        vertical-align: top;\n",
              "    }\n",
              "\n",
              "    .dataframe thead th {\n",
              "        text-align: right;\n",
              "    }\n",
              "</style>\n",
              "<table border=\"1\" class=\"dataframe\">\n",
              "  <thead>\n",
              "    <tr style=\"text-align: right;\">\n",
              "      <th></th>\n",
              "      <th>no</th>\n",
              "      <th>temp</th>\n",
              "      <th>p</th>\n",
              "      <th>0ppm</th>\n",
              "    </tr>\n",
              "  </thead>\n",
              "  <tbody>\n",
              "    <tr>\n",
              "      <th>0</th>\n",
              "      <td>0</td>\n",
              "      <td>597.85</td>\n",
              "      <td>12.001228</td>\n",
              "      <td>0.000000</td>\n",
              "    </tr>\n",
              "    <tr>\n",
              "      <th>1</th>\n",
              "      <td>1</td>\n",
              "      <td>623.15</td>\n",
              "      <td>11.962515</td>\n",
              "      <td>0.521164</td>\n",
              "    </tr>\n",
              "    <tr>\n",
              "      <th>2</th>\n",
              "      <td>2</td>\n",
              "      <td>647.85</td>\n",
              "      <td>11.923801</td>\n",
              "      <td>1.264740</td>\n",
              "    </tr>\n",
              "    <tr>\n",
              "      <th>3</th>\n",
              "      <td>3</td>\n",
              "      <td>672.45</td>\n",
              "      <td>11.875409</td>\n",
              "      <td>2.323532</td>\n",
              "    </tr>\n",
              "    <tr>\n",
              "      <th>4</th>\n",
              "      <td>4</td>\n",
              "      <td>697.15</td>\n",
              "      <td>11.827017</td>\n",
              "      <td>3.913078</td>\n",
              "    </tr>\n",
              "    <tr>\n",
              "      <th>5</th>\n",
              "      <td>5</td>\n",
              "      <td>724.45</td>\n",
              "      <td>11.778625</td>\n",
              "      <td>7.038567</td>\n",
              "    </tr>\n",
              "    <tr>\n",
              "      <th>6</th>\n",
              "      <td>6</td>\n",
              "      <td>733.85</td>\n",
              "      <td>11.720555</td>\n",
              "      <td>10.306786</td>\n",
              "    </tr>\n",
              "    <tr>\n",
              "      <th>7</th>\n",
              "      <td>7</td>\n",
              "      <td>739.15</td>\n",
              "      <td>11.662484</td>\n",
              "      <td>13.932304</td>\n",
              "    </tr>\n",
              "    <tr>\n",
              "      <th>8</th>\n",
              "      <td>8</td>\n",
              "      <td>744.45</td>\n",
              "      <td>11.614092</td>\n",
              "      <td>18.642807</td>\n",
              "    </tr>\n",
              "    <tr>\n",
              "      <th>9</th>\n",
              "      <td>9</td>\n",
              "      <td>749.85</td>\n",
              "      <td>11.556022</td>\n",
              "      <td>24.359924</td>\n",
              "    </tr>\n",
              "    <tr>\n",
              "      <th>10</th>\n",
              "      <td>10</td>\n",
              "      <td>751.85</td>\n",
              "      <td>11.459237</td>\n",
              "      <td>28.308365</td>\n",
              "    </tr>\n",
              "    <tr>\n",
              "      <th>11</th>\n",
              "      <td>11</td>\n",
              "      <td>752.45</td>\n",
              "      <td>11.372132</td>\n",
              "      <td>31.242752</td>\n",
              "    </tr>\n",
              "    <tr>\n",
              "      <th>12</th>\n",
              "      <td>12</td>\n",
              "      <td>753.15</td>\n",
              "      <td>11.285026</td>\n",
              "      <td>34.177139</td>\n",
              "    </tr>\n",
              "    <tr>\n",
              "      <th>13</th>\n",
              "      <td>13</td>\n",
              "      <td>754.45</td>\n",
              "      <td>11.188242</td>\n",
              "      <td>37.448574</td>\n",
              "    </tr>\n",
              "    <tr>\n",
              "      <th>14</th>\n",
              "      <td>14</td>\n",
              "      <td>755.45</td>\n",
              "      <td>11.062423</td>\n",
              "      <td>40.426540</td>\n",
              "    </tr>\n",
              "    <tr>\n",
              "      <th>15</th>\n",
              "      <td>15</td>\n",
              "      <td>756.45</td>\n",
              "      <td>10.936603</td>\n",
              "      <td>43.330460</td>\n",
              "    </tr>\n",
              "    <tr>\n",
              "      <th>16</th>\n",
              "      <td>16</td>\n",
              "      <td>757.45</td>\n",
              "      <td>10.878533</td>\n",
              "      <td>46.164894</td>\n",
              "    </tr>\n",
              "    <tr>\n",
              "      <th>17</th>\n",
              "      <td>17</td>\n",
              "      <td>758.45</td>\n",
              "      <td>10.830141</td>\n",
              "      <td>48.933201</td>\n",
              "    </tr>\n",
              "    <tr>\n",
              "      <th>18</th>\n",
              "      <td>18</td>\n",
              "      <td>759.85</td>\n",
              "      <td>10.743035</td>\n",
              "      <td>51.944801</td>\n",
              "    </tr>\n",
              "  </tbody>\n",
              "</table>\n",
              "</div>"
            ],
            "text/plain": [
              "    no    temp          p       0ppm\n",
              "0    0  597.85  12.001228   0.000000\n",
              "1    1  623.15  11.962515   0.521164\n",
              "2    2  647.85  11.923801   1.264740\n",
              "3    3  672.45  11.875409   2.323532\n",
              "4    4  697.15  11.827017   3.913078\n",
              "5    5  724.45  11.778625   7.038567\n",
              "6    6  733.85  11.720555  10.306786\n",
              "7    7  739.15  11.662484  13.932304\n",
              "8    8  744.45  11.614092  18.642807\n",
              "9    9  749.85  11.556022  24.359924\n",
              "10  10  751.85  11.459237  28.308365\n",
              "11  11  752.45  11.372132  31.242752\n",
              "12  12  753.15  11.285026  34.177139\n",
              "13  13  754.45  11.188242  37.448574\n",
              "14  14  755.45  11.062423  40.426540\n",
              "15  15  756.45  10.936603  43.330460\n",
              "16  16  757.45  10.878533  46.164894\n",
              "17  17  758.45  10.830141  48.933201\n",
              "18  18  759.85  10.743035  51.944801"
            ]
          },
          "metadata": {
            "tags": []
          },
          "execution_count": 10
        }
      ]
    },
    {
      "cell_type": "code",
      "metadata": {
        "id": "Rn0yYOACTJK4"
      },
      "source": [
        "case.shape[1] # Gives number of columns \n",
        "row_count = case.shape[0] # Gives number of rows"
      ],
      "execution_count": 15,
      "outputs": []
    },
    {
      "cell_type": "code",
      "metadata": {
        "colab": {
          "base_uri": "https://localhost:8080/"
        },
        "id": "xnKo5aC1QK9D",
        "outputId": "24759f55-1ff1-4497-8e8a-15f2a113da4c"
      },
      "source": [
        "EDC = [mdot_in_mole]\n",
        "for row in \n",
        "  EDC[i] = case"
      ],
      "execution_count": 18,
      "outputs": [
        {
          "output_type": "execute_result",
          "data": {
            "text/plain": [
              "[363.7864]"
            ]
          },
          "metadata": {
            "tags": []
          },
          "execution_count": 18
        }
      ]
    },
    {
      "cell_type": "code",
      "metadata": {
        "id": "FZLylksVToE2"
      },
      "source": [
        ""
      ],
      "execution_count": null,
      "outputs": []
    }
  ]
}