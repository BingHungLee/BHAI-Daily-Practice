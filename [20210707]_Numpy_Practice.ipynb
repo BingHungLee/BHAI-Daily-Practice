{
  "nbformat": 4,
  "nbformat_minor": 0,
  "metadata": {
    "colab": {
      "name": "[20210707]_Numpy_Practice.ipynb",
      "provenance": [],
      "authorship_tag": "ABX9TyPHqy8zhxK/R6zSQcRr4JkO",
      "include_colab_link": true
    },
    "kernelspec": {
      "name": "python3",
      "display_name": "Python 3"
    },
    "language_info": {
      "name": "python"
    }
  },
  "cells": [
    {
      "cell_type": "markdown",
      "metadata": {
        "id": "view-in-github",
        "colab_type": "text"
      },
      "source": [
        "<a href=\"https://colab.research.google.com/github/BingHungLee/BHAI-Daily-Practice/blob/main/%5B20210707%5D_Numpy_Practice.ipynb\" target=\"_parent\"><img src=\"https://colab.research.google.com/assets/colab-badge.svg\" alt=\"Open In Colab\"/></a>"
      ]
    },
    {
      "cell_type": "markdown",
      "metadata": {
        "id": "E_yMRdkvG03z"
      },
      "source": [
        "## Numpy\n",
        "NumPy is the fundamental package for scientific computing with Python. </br>\n",
        "NumPy’s main object is the homogeneous multidimensional array.  \n",
        "It is a table of elements (usually numbers), all of the **same type**, indexed by a tuple of positive integers.  \n",
        "In NumPy dimensions are called **axes**."
      ]
    },
    {
      "cell_type": "markdown",
      "metadata": {
        "id": "R02yawtoG4GS"
      },
      "source": [
        "### Concept of axis\n",
        "\n",
        "Reference: 手把手打開資料分析大門\n",
        "https://www.slideshare.net/tw_dsconf/python-83977705/61"
      ]
    },
    {
      "cell_type": "code",
      "metadata": {
        "colab": {
          "base_uri": "https://localhost:8080/"
        },
        "id": "HCmSQt9QGu7X",
        "outputId": "a4d20b40-043c-4c27-ec00-8779ad6219db"
      },
      "source": [
        "# one axis\n",
        "[1, 3, 5]  # 3 elements, it has a length of 3.\n",
        "\n",
        "# 2 axes\n",
        "[[ 1, 3, 5],\n",
        " [ 2, 4, 6]]  # The first axis has a length of 2, the second axis has a length of 3."
      ],
      "execution_count": 1,
      "outputs": [
        {
          "output_type": "execute_result",
          "data": {
            "text/plain": [
              "[[1, 3, 5], [2, 4, 6]]"
            ]
          },
          "metadata": {
            "tags": []
          },
          "execution_count": 1
        }
      ]
    },
    {
      "cell_type": "markdown",
      "metadata": {
        "id": "5qeMq2d7G7z6"
      },
      "source": [
        "NumPy’s array class is called ndarray. </br>\n",
        "t is also known by the alias array. </br>\n",
        "Note that numpy.array is not the same as the Standard Python Library class array. </br>\n",
        "array, which only handles one-dimensional arrays and offers less functionality."
      ]
    },
    {
      "cell_type": "markdown",
      "metadata": {
        "id": "ARcmL8-tHAnT"
      },
      "source": [
        "### Create ndarray"
      ]
    },
    {
      "cell_type": "code",
      "metadata": {
        "colab": {
          "base_uri": "https://localhost:8080/"
        },
        "id": "wMygEPxUG5fy",
        "outputId": "6e78d80d-2f8c-4fb1-ea30-bbfd89019a38"
      },
      "source": [
        "import numpy as np\n",
        "\n",
        "# create 1 axis array\n",
        "x = np.arange(3)\n",
        "\n",
        "print(x)\n",
        "print(type(x))  # <class 'numpy.ndarray'>\n",
        "\n",
        "# check if ndarray type\n",
        "isinstance(x, np.ndarray)  # True\n",
        "\n",
        "# be explicitly specified type\n",
        "y = np.arange(3, dtype='float64')  # [ 0.  1.  2.]\n",
        "print(y)"
      ],
      "execution_count": 2,
      "outputs": [
        {
          "output_type": "stream",
          "text": [
            "[0 1 2]\n",
            "<class 'numpy.ndarray'>\n",
            "[0. 1. 2.]\n"
          ],
          "name": "stdout"
        }
      ]
    },
    {
      "cell_type": "code",
      "metadata": {
        "colab": {
          "base_uri": "https://localhost:8080/"
        },
        "id": "DfS0EOw2HDM6",
        "outputId": "5f3984ff-3fb1-41d4-ad87-650638522763"
      },
      "source": [
        "import numpy as np\n",
        "\n",
        "existed_list = [18, 15, 21, 10, 88, 76, 29, 20]\n",
        "\n",
        "np_array = np.array(existed_list)\n",
        "print(np_array)  # [18 15 21 10 88 76 29 20]"
      ],
      "execution_count": 3,
      "outputs": [
        {
          "output_type": "stream",
          "text": [
            "[18 15 21 10 88 76 29 20]\n"
          ],
          "name": "stdout"
        }
      ]
    },
    {
      "cell_type": "markdown",
      "metadata": {
        "id": "_dWe_aAqHHYa"
      },
      "source": [
        "### Important attributes of  ndarray"
      ]
    },
    {
      "cell_type": "code",
      "metadata": {
        "colab": {
          "base_uri": "https://localhost:8080/"
        },
        "id": "BR75ICI7HEqq",
        "outputId": "9f026a40-a461-41b1-be90-b7dac1130a26"
      },
      "source": [
        "import numpy as np\n",
        "\n",
        "x = np.arange(3)\n",
        "print(x)\n",
        "\n",
        "# ndim - the number of axes (dimensions) of the array.\n",
        "print(x.ndim)  # 1 dim\n",
        "\n",
        "# shape - the dimensions of the array. \n",
        "# This is a tuple of integers indicating the size of the array in each dimension.\n",
        "print(x.shape)  # (3, )\n",
        "\n",
        "# size - the total number of elements of the array. \n",
        "print(x.size)  # 3\n",
        "\n",
        "# dtype - the type of the elements in the array.\n",
        "print(x.dtype)  # int64"
      ],
      "execution_count": 4,
      "outputs": [
        {
          "output_type": "stream",
          "text": [
            "[0 1 2]\n",
            "1\n",
            "(3,)\n",
            "3\n",
            "int64\n"
          ],
          "name": "stdout"
        }
      ]
    },
    {
      "cell_type": "markdown",
      "metadata": {
        "id": "CJs8K7jrHL8r"
      },
      "source": [
        "### Axes reshape\n",
        "Gives a new shape to an array without changing its data."
      ]
    },
    {
      "cell_type": "code",
      "metadata": {
        "colab": {
          "base_uri": "https://localhost:8080/"
        },
        "id": "qB-_J8dsHIda",
        "outputId": "5e661d82-c809-4145-d024-d90687f754c3"
      },
      "source": [
        "# reshape\n",
        "x = np.arange(6)\n",
        "print(x)  # [0 1 2 3 4 5]\n",
        "\n",
        "new_shape = x.reshape(2, 3)\n",
        "print(new_shape) # [[0 1 2]\n",
        "                 #  [3 4 5]]\n",
        "\n",
        "# equivalently\n",
        "new_shape = np.reshape(x, (2, 3))    \n",
        "    \n",
        "    \n",
        "# also can be one line to create and reshpae\n",
        "y = np.arange(6).reshape(2, 3)"
      ],
      "execution_count": 5,
      "outputs": [
        {
          "output_type": "stream",
          "text": [
            "[0 1 2 3 4 5]\n",
            "[[0 1 2]\n",
            " [3 4 5]]\n"
          ],
          "name": "stdout"
        }
      ]
    },
    {
      "cell_type": "markdown",
      "metadata": {
        "id": "-PIxuEcZHQlL"
      },
      "source": [
        "### Initial placeholder content"
      ]
    },
    {
      "cell_type": "code",
      "metadata": {
        "colab": {
          "base_uri": "https://localhost:8080/"
        },
        "id": "V5hSOq6AHOSi",
        "outputId": "957c4c38-f7ae-44aa-d2a6-be9c8534b6ed"
      },
      "source": [
        "# np.zeros - full of zeros\n",
        "np.zeros(3)  # array([ 0.,  0.,  0.])\n",
        "\n",
        "np.zeros((2, 3))  # array([[ 0.,  0.,  0.],\n",
        "                  #        [ 0.,  0.,  0.]])\n",
        "\n",
        "    \n",
        "# np.ones - full of ones\n",
        "np.ones((2,3))  # array([[ 1.,  1.,  1.],\n",
        "                #        [ 1.,  1.,  1.]])\n",
        "\n",
        "    \n",
        "# np.identity - a square array with ones on the main diagonal\n",
        "np.identity(3)  # array([[ 1.,  0.,  0.],\n",
        "                #        [ 0.,  1.,  0.],\n",
        "                #        [ 0.,  0.,  1.]])\n",
        "\n",
        "\n",
        "# By default, the dtype of the created array is float64.\n",
        "# using dtype change the type\n",
        "np.zeros(3, dtype=np.int16)"
      ],
      "execution_count": 6,
      "outputs": [
        {
          "output_type": "execute_result",
          "data": {
            "text/plain": [
              "array([0, 0, 0], dtype=int16)"
            ]
          },
          "metadata": {
            "tags": []
          },
          "execution_count": 6
        }
      ]
    },
    {
      "cell_type": "markdown",
      "metadata": {
        "id": "DKW2_k_AHVnN"
      },
      "source": [
        "### Array Index\n",
        "\n",
        "Array indexing refers to any use of the square brackets ( [ ] ) to index array values."
      ]
    },
    {
      "cell_type": "code",
      "metadata": {
        "colab": {
          "base_uri": "https://localhost:8080/"
        },
        "id": "hsn9MesSHRii",
        "outputId": "533e5490-1c0d-40de-d8d9-092a9db6a52d"
      },
      "source": [
        "import numpy as np\n",
        "\n",
        "# 1-D array\n",
        "x = np.arange(6)  # array([0, 1, 2, 3, 4, 5])\n",
        "x[2]   # 2\n",
        "x[-2]  # 4\n",
        "\n",
        "\n",
        "# 2-D array\n",
        "x = np.arange(6).reshape(2, 3)  #[[0, 1, 2],\n",
        "                                # [3, 4, 5]])\n",
        "x[0, 2]   # 2\n",
        "x[1, -1]  # 5"
      ],
      "execution_count": 7,
      "outputs": [
        {
          "output_type": "execute_result",
          "data": {
            "text/plain": [
              "5"
            ]
          },
          "metadata": {
            "tags": []
          },
          "execution_count": 7
        }
      ]
    },
    {
      "cell_type": "markdown",
      "metadata": {
        "id": "738qRL1WHX27"
      },
      "source": [
        "### Array Slice & Stride\n",
        "\n",
        "The slicing and striding works exactly the same way it does for lists except that they can be applied to multiple dimensions as well."
      ]
    },
    {
      "cell_type": "code",
      "metadata": {
        "colab": {
          "base_uri": "https://localhost:8080/"
        },
        "id": "fmg-xRr6HWjS",
        "outputId": "3f5ac807-fa1a-4257-f4d9-9e357fa8ecdf"
      },
      "source": [
        "import numpy as np\n",
        "\n",
        "# 1-D array\n",
        "x = np.arange(6)  # array([0, 1, 2, 3, 4, 5])\n",
        "x[1:5]   # [2, 3, 4]\n",
        "x[:2]    # [0, 1]\n",
        "x[1:5:2] # [1, 3]\n",
        "\n",
        "\n",
        "# 2-D array\n",
        "x = np.arange(6).reshape(2, 3)  #[[0, 1, 2],\n",
        "                                # [3, 4, 5]])\n",
        "x[0, 0:2]    #  [0, 1]\n",
        "x[:, 1:]     # [[1, 2],\n",
        "             #  [4, 5]]\n",
        "x[::1, ::2]  # [[0, 2],\n",
        "             #  [3, 5]]"
      ],
      "execution_count": 8,
      "outputs": [
        {
          "output_type": "execute_result",
          "data": {
            "text/plain": [
              "array([[0, 2],\n",
              "       [3, 5]])"
            ]
          },
          "metadata": {
            "tags": []
          },
          "execution_count": 8
        }
      ]
    },
    {
      "cell_type": "markdown",
      "metadata": {
        "id": "PDk-1bZ6HZPb"
      },
      "source": [
        "### Boolean / Mask Index \n",
        "Boolean arrays must be of the same shape as the initial dimensions of the array being indexed."
      ]
    },
    {
      "cell_type": "code",
      "metadata": {
        "colab": {
          "base_uri": "https://localhost:8080/"
        },
        "id": "h8AQwBKrHYvi",
        "outputId": "a0804b16-7980-4da8-c490-149287283f07"
      },
      "source": [
        "import numpy as np\n",
        "\n",
        "# 1-D array\n",
        "x = np.arange(6)  # array([0, 1, 2, 3, 4, 5])\n",
        "condition = x<3\n",
        "x[condition]      # [0, 1, 2]\n",
        "\n",
        "x[condition] = 0\n",
        "x                 # [0, 0, 0, 3, 4, 5]\n",
        "\n",
        "\n",
        "# why called mask?\n",
        "\n",
        "# original_x      # [ 0,    1,    2,   3,    4,    5]\n",
        "# if <3, assign 0\n",
        "print(condition)  # [ True  True  True False False False]\n",
        "x                 # [ 0,    0,    0,   3,    4,    5]"
      ],
      "execution_count": 9,
      "outputs": [
        {
          "output_type": "stream",
          "text": [
            "[ True  True  True False False False]\n"
          ],
          "name": "stdout"
        },
        {
          "output_type": "execute_result",
          "data": {
            "text/plain": [
              "array([0, 0, 0, 3, 4, 5])"
            ]
          },
          "metadata": {
            "tags": []
          },
          "execution_count": 9
        }
      ]
    },
    {
      "cell_type": "markdown",
      "metadata": {
        "id": "ejxk2xnvHeWk"
      },
      "source": [
        "### Concatenate\n",
        "Join a sequence of arrays along an existing axis."
      ]
    },
    {
      "cell_type": "code",
      "metadata": {
        "colab": {
          "base_uri": "https://localhost:8080/"
        },
        "id": "Brd0KvSYHa1y",
        "outputId": "4ad60676-64c2-45c1-f25c-5d3f3cf4c769"
      },
      "source": [
        "import numpy as np\n",
        "\n",
        "a = np.array([[1, 2, 3], [4, 5, 6]])\n",
        "b = np.array([[7, 8, 9]])\n",
        "\n",
        "np.concatenate((a, b), axis=0)  # [[1, 2, 3],\n",
        "                                #  [4, 5, 6],\n",
        "                                #  [7, 8, 9]]\n",
        "\n",
        "\n",
        "c =  [[0], [0]]       \n",
        "np.concatenate((a, c), axis=1)  # [[1, 2, 3, 0],\n",
        "                                #  [4, 5, 6, 0]]"
      ],
      "execution_count": 10,
      "outputs": [
        {
          "output_type": "execute_result",
          "data": {
            "text/plain": [
              "array([[1, 2, 3, 0],\n",
              "       [4, 5, 6, 0]])"
            ]
          },
          "metadata": {
            "tags": []
          },
          "execution_count": 10
        }
      ]
    },
    {
      "cell_type": "markdown",
      "metadata": {
        "id": "qfBh4btyHg37"
      },
      "source": [
        "### Basic Operations"
      ]
    },
    {
      "cell_type": "code",
      "metadata": {
        "colab": {
          "base_uri": "https://localhost:8080/"
        },
        "id": "qd579DTgHfYa",
        "outputId": "dbc6d4a7-d952-41f8-d758-da08767e78fb"
      },
      "source": [
        "import numpy as np\n",
        "a = np.array([[1, 2], [3, 4]])\n",
        "b = np.array([[5, 6], [7, 8]])\n",
        "\n",
        "print(a)\n",
        "print(b)\n",
        "\n",
        "print(a + b)  # array([[6, 8], [10, 12]])\n",
        "print(a - b)  # array([[-4, -4], [-4, -4]])\n",
        "print(a * b)  # array([[5, 12], [21, 32]])\n",
        "print(a / b)  # array([[0.2, 0.33333333], [0.42857143, 0.5]]\n",
        "\n",
        "print(a - 1)  # array([[0, 1], [2, 3]])\n",
        "print(a * 2)  # array([[2, 4], [6, 8]])"
      ],
      "execution_count": 11,
      "outputs": [
        {
          "output_type": "stream",
          "text": [
            "[[1 2]\n",
            " [3 4]]\n",
            "[[5 6]\n",
            " [7 8]]\n",
            "[[ 6  8]\n",
            " [10 12]]\n",
            "[[-4 -4]\n",
            " [-4 -4]]\n",
            "[[ 5 12]\n",
            " [21 32]]\n",
            "[[0.2        0.33333333]\n",
            " [0.42857143 0.5       ]]\n",
            "[[0 1]\n",
            " [2 3]]\n",
            "[[2 4]\n",
            " [6 8]]\n"
          ],
          "name": "stdout"
        }
      ]
    },
    {
      "cell_type": "markdown",
      "metadata": {
        "id": "bqyCyZORHkwb"
      },
      "source": [
        "### Basic Linear Algebra\n",
        "\n",
        "轉置矩陣：m \\* n 矩陣在向量空間上轉置為 n \\* m 矩陣  \n",
        "逆矩陣：n \\* n 矩陣 A 存在一個 n \\* n 矩陣 B，使得 AB = BA = I"
      ]
    },
    {
      "cell_type": "code",
      "metadata": {
        "colab": {
          "base_uri": "https://localhost:8080/"
        },
        "id": "Ev-fSqIeHh0C",
        "outputId": "02cd2654-0feb-4248-f011-ff238371c652"
      },
      "source": [
        "import numpy as np\n",
        "\n",
        "# 轉置矩陣\n",
        "a = np.array([[0, 1], \n",
        "              [2, 3]])\n",
        "\n",
        "print(a.T)  #[[0, 2],\n",
        "            # [1, 3]]\n",
        "\n",
        "# 逆矩陣\n",
        "inverse = np.linalg.inv(a)\n",
        "print(inverse)             # [[-1.5, 0.5], \n",
        "                           #  [1,    0]]\n",
        "\n",
        "# 內積 \n",
        "print(np.dot(a, inverse))  # [[ 1.  0.]\n",
        "                           #  [ 0.  1.]]"
      ],
      "execution_count": 12,
      "outputs": [
        {
          "output_type": "stream",
          "text": [
            "[[0 2]\n",
            " [1 3]]\n",
            "[[-1.5  0.5]\n",
            " [ 1.   0. ]]\n",
            "[[1. 0.]\n",
            " [0. 1.]]\n"
          ],
          "name": "stdout"
        }
      ]
    },
    {
      "cell_type": "markdown",
      "metadata": {
        "id": "S_8vJmhxHnJD"
      },
      "source": [
        "### Vector Stacking"
      ]
    },
    {
      "cell_type": "code",
      "metadata": {
        "colab": {
          "base_uri": "https://localhost:8080/"
        },
        "id": "UsBUKR3xHlvC",
        "outputId": "a35f5303-7e2e-40db-e560-de0b0b369c6a"
      },
      "source": [
        "import numpy as np\n",
        "\n",
        "a = np.array([[0, 1], \n",
        "              [2, 3]])\n",
        "\n",
        "b = np.array([[4, 5], \n",
        "              [6, 7]])\n",
        "\n",
        "c = np.array([[8,  9], \n",
        "              [10, 11]])\n",
        "\n",
        "# vertical\n",
        "v = np.vstack((a, b, c))\n",
        "print(v.shape)  # (6, 2)\n",
        "print(v)\n",
        "\n",
        "# horizontal\n",
        "h = np.hstack((a, b, c))\n",
        "print(h.shape)  # (2, 6)\n",
        "print(h)\n",
        "\n",
        "# stack \n",
        "s = np.stack([a, b, c], axis=0)\n",
        "print(s.shape)  # (3, 2, 2)\n",
        "print(s)"
      ],
      "execution_count": 13,
      "outputs": [
        {
          "output_type": "stream",
          "text": [
            "(6, 2)\n",
            "[[ 0  1]\n",
            " [ 2  3]\n",
            " [ 4  5]\n",
            " [ 6  7]\n",
            " [ 8  9]\n",
            " [10 11]]\n",
            "(2, 6)\n",
            "[[ 0  1  4  5  8  9]\n",
            " [ 2  3  6  7 10 11]]\n",
            "(3, 2, 2)\n",
            "[[[ 0  1]\n",
            "  [ 2  3]]\n",
            "\n",
            " [[ 4  5]\n",
            "  [ 6  7]]\n",
            "\n",
            " [[ 8  9]\n",
            "  [10 11]]]\n"
          ],
          "name": "stdout"
        }
      ]
    },
    {
      "cell_type": "markdown",
      "metadata": {
        "id": "T2iFuWskHrUz"
      },
      "source": [
        "# Practice"
      ]
    },
    {
      "cell_type": "code",
      "metadata": {
        "id": "DzpeMxPTHoKa"
      },
      "source": [
        "import numpy as np"
      ],
      "execution_count": 14,
      "outputs": []
    },
    {
      "cell_type": "code",
      "metadata": {
        "colab": {
          "base_uri": "https://localhost:8080/"
        },
        "id": "d6l0hTMxHsUi",
        "outputId": "af263900-8c65-4256-fd89-073c2de4f03e"
      },
      "source": [
        "#Q1. Create a vector with values ranging from 10 to 49 by np.arrange\n",
        "Z = np.arange(10, 50)\n",
        "print(Z)"
      ],
      "execution_count": 15,
      "outputs": [
        {
          "output_type": "stream",
          "text": [
            "[10 11 12 13 14 15 16 17 18 19 20 21 22 23 24 25 26 27 28 29 30 31 32 33\n",
            " 34 35 36 37 38 39 40 41 42 43 44 45 46 47 48 49]\n"
          ],
          "name": "stdout"
        }
      ]
    },
    {
      "cell_type": "code",
      "metadata": {
        "colab": {
          "base_uri": "https://localhost:8080/"
        },
        "id": "JrJumjfXHtdi",
        "outputId": "12b54cb4-438e-49d0-a712-ddcb8bdf603a"
      },
      "source": [
        "#Q2. Reverse a vector (first element becomes last)\n",
        "Z = np.arange(50)\n",
        "print(Z)\n",
        "\n",
        "Z = Z[:-1]\n",
        "print(Z)\n",
        "\n",
        "Z = Z[::-1]\n",
        "print(Z)"
      ],
      "execution_count": 18,
      "outputs": [
        {
          "output_type": "stream",
          "text": [
            "[ 0  1  2  3  4  5  6  7  8  9 10 11 12 13 14 15 16 17 18 19 20 21 22 23\n",
            " 24 25 26 27 28 29 30 31 32 33 34 35 36 37 38 39 40 41 42 43 44 45 46 47\n",
            " 48 49]\n",
            "[ 0  1  2  3  4  5  6  7  8  9 10 11 12 13 14 15 16 17 18 19 20 21 22 23\n",
            " 24 25 26 27 28 29 30 31 32 33 34 35 36 37 38 39 40 41 42 43 44 45 46 47\n",
            " 48]\n",
            "[48 47 46 45 44 43 42 41 40 39 38 37 36 35 34 33 32 31 30 29 28 27 26 25\n",
            " 24 23 22 21 20 19 18 17 16 15 14 13 12 11 10  9  8  7  6  5  4  3  2  1\n",
            "  0]\n"
          ],
          "name": "stdout"
        }
      ]
    },
    {
      "cell_type": "code",
      "metadata": {
        "colab": {
          "base_uri": "https://localhost:8080/"
        },
        "id": "UU4wvgW5HvHC",
        "outputId": "cfbe64c4-3719-41cf-84e7-3e92493987e2"
      },
      "source": [
        "#Q3. Create a 3x3x3 array with random values by np.random.random\n",
        "Z = np.random.random((3, 3, 3))\n",
        "print(Z)"
      ],
      "execution_count": 19,
      "outputs": [
        {
          "output_type": "stream",
          "text": [
            "[[[0.61144017 0.52226565 0.90613501]\n",
            "  [0.95064261 0.95148805 0.18988024]\n",
            "  [0.96598864 0.46758602 0.67975299]]\n",
            "\n",
            " [[0.35912546 0.90578146 0.85517711]\n",
            "  [0.64484629 0.65857647 0.50001983]\n",
            "  [0.69640936 0.76626332 0.7304546 ]]\n",
            "\n",
            " [[0.60270475 0.68034301 0.79541853]\n",
            "  [0.95688961 0.86905216 0.10557402]\n",
            "  [0.66990349 0.29728045 0.19418901]]]\n"
          ],
          "name": "stdout"
        }
      ]
    },
    {
      "cell_type": "code",
      "metadata": {
        "colab": {
          "base_uri": "https://localhost:8080/"
        },
        "id": "r5eEfZxwH2RK",
        "outputId": "34902f64-e587-42e3-f154-db1a54333b8d"
      },
      "source": [
        "#Q4. Create a 10x10 array with random values and find the minimum and maximum values by np.min, np.max\n",
        "Z = np.random.random((10, 10))\n",
        "Zmin, Zmax = Z.min(), Z.max()\n",
        "print(Zmin, Zmax)"
      ],
      "execution_count": 20,
      "outputs": [
        {
          "output_type": "stream",
          "text": [
            "0.026457323256365406 0.9790346694233788\n"
          ],
          "name": "stdout"
        }
      ]
    },
    {
      "cell_type": "code",
      "metadata": {
        "colab": {
          "base_uri": "https://localhost:8080/"
        },
        "id": "ooSIxtxxH32A",
        "outputId": "16231c70-131f-4523-9e59-e9ab05ee076d"
      },
      "source": [
        "#Q5. Add a border (filled with 0's) around an 3 * 3 matrix with 1 by np.pad\n",
        "Z = np.ones((3, 3))\n",
        "Z = np.pad(Z, pad_width=1, mode='constant', constant_values=0)\n",
        "print(Z)"
      ],
      "execution_count": 21,
      "outputs": [
        {
          "output_type": "stream",
          "text": [
            "[[0. 0. 0. 0. 0.]\n",
            " [0. 1. 1. 1. 0.]\n",
            " [0. 1. 1. 1. 0.]\n",
            " [0. 1. 1. 1. 0.]\n",
            " [0. 0. 0. 0. 0.]]\n"
          ],
          "name": "stdout"
        }
      ]
    },
    {
      "cell_type": "code",
      "metadata": {
        "colab": {
          "base_uri": "https://localhost:8080/"
        },
        "id": "tDiMG5oAH5lZ",
        "outputId": "931c7d5f-bf09-430b-f5ef-818128a61b0e"
      },
      "source": [
        "#Q6. Normalize a 5x5 random matrix by divide max number\n",
        "Z = np.random.random((5, 5))\n",
        "Z2 = Z / Z.max()\n",
        "Zmax, Zmin = Z.max(), Z.min()\n",
        "Z1 = (Z - Zmin) / (Zmax - Zmin)\n",
        "print(Z1)\n",
        "print(Z2)"
      ],
      "execution_count": 22,
      "outputs": [
        {
          "output_type": "stream",
          "text": [
            "[[0.33575904 0.48537566 0.88346268 0.17603975 0.42858353]\n",
            " [0.55300064 0.         0.51523206 0.79942222 0.67501091]\n",
            " [0.43957035 0.55366711 0.49754192 0.04658597 0.16659784]\n",
            " [1.         0.00724345 0.91115248 0.69212025 0.89424981]\n",
            " [0.7984643  0.98175326 0.41483459 0.55552617 0.60636298]]\n",
            "[[0.35453568 0.49992296 0.88675693 0.1993313  0.44473623]\n",
            " [0.56563633 0.02826781 0.52893538 0.80509211 0.68419764]\n",
            " [0.45541247 0.56628397 0.51174531 0.0735369  0.19015629]\n",
            " [1.         0.03530651 0.91366401 0.70082334 0.89723914]\n",
            " [0.80416127 0.98226906 0.43137593 0.56809047 0.61749023]]\n"
          ],
          "name": "stdout"
        }
      ]
    },
    {
      "cell_type": "code",
      "metadata": {
        "colab": {
          "base_uri": "https://localhost:8080/"
        },
        "id": "XuBYB5luH6wp",
        "outputId": "de3c7db6-6f5d-4da0-fc02-b20193a1df90"
      },
      "source": [
        "#Q7. Given a 1D array, negate all elements which are between 3 and 8, in place.\n",
        "Z = np.arange(11)\n",
        "Z[(3 < Z) & (Z <= 8)] *= -1\n",
        "print(Z)"
      ],
      "execution_count": 23,
      "outputs": [
        {
          "output_type": "stream",
          "text": [
            "[ 0  1  2  3 -4 -5 -6 -7 -8  9 10]\n"
          ],
          "name": "stdout"
        }
      ]
    },
    {
      "cell_type": "code",
      "metadata": {
        "colab": {
          "base_uri": "https://localhost:8080/"
        },
        "id": "dGZqhK56H9GR",
        "outputId": "ca9f387d-bc36-458a-ce5a-0fabe131482f"
      },
      "source": [
        "#Q8. Extract from the array np.array([3,4,6,10,24,89,45,43,46,99,100]) with Boolean masking all the number:  \n",
        "\n",
        "#(1) which are not divisible by 3  \n",
        "#(2) which are divisible by 5  \n",
        "#(3) which are divisible by 3 and 5\n",
        "\n",
        "A = np.array([3,4,6,10,24,89,45,43,46,99,100])\n",
        "div3 = A[A%3 != 0]\n",
        "print(div3)\n",
        "\n",
        "div5 = A[A%5 == 0]\n",
        "print(div5)\n",
        "\n",
        "div15 = A[(A%3 == 0) & (A%5 == 0)]\n",
        "print(div15)"
      ],
      "execution_count": 24,
      "outputs": [
        {
          "output_type": "stream",
          "text": [
            "[  4  10  89  43  46 100]\n",
            "[ 10  45 100]\n",
            "[45]\n"
          ],
          "name": "stdout"
        }
      ]
    },
    {
      "cell_type": "code",
      "metadata": {
        "colab": {
          "base_uri": "https://localhost:8080/"
        },
        "id": "Dv8cXl3cH9-4",
        "outputId": "147a1985-4b79-44a7-e62b-e0ec12d5c2d9"
      },
      "source": [
        "#Q9. Create random vector of size 10 and replace the maximum value by 0 (np.argmax)\n",
        "Z = np.random.random(10)\n",
        "Z[Z.argmax()] = 0\n",
        "print(Z)"
      ],
      "execution_count": 25,
      "outputs": [
        {
          "output_type": "stream",
          "text": [
            "[0.19716519 0.30789408 0.17990306 0.49072909 0.25197393 0.11514819\n",
            " 0.40571782 0.87463753 0.         0.30431893]\n"
          ],
          "name": "stdout"
        }
      ]
    },
    {
      "cell_type": "code",
      "metadata": {
        "colab": {
          "base_uri": "https://localhost:8080/"
        },
        "id": "WrAZTUtAH_B4",
        "outputId": "ff2abec7-073d-4ad3-df65-64266e31df2e"
      },
      "source": [
        "#Q10. Create a 5x5 matrix with row values ranging from 0 to 4\n",
        "Z = np.zeros((5, 5))\n",
        "print(Z)\n",
        "Z += np.arange(5)\n",
        "print(Z)"
      ],
      "execution_count": 26,
      "outputs": [
        {
          "output_type": "stream",
          "text": [
            "[[0. 0. 0. 0. 0.]\n",
            " [0. 0. 0. 0. 0.]\n",
            " [0. 0. 0. 0. 0.]\n",
            " [0. 0. 0. 0. 0.]\n",
            " [0. 0. 0. 0. 0.]]\n",
            "[[0. 1. 2. 3. 4.]\n",
            " [0. 1. 2. 3. 4.]\n",
            " [0. 1. 2. 3. 4.]\n",
            " [0. 1. 2. 3. 4.]\n",
            " [0. 1. 2. 3. 4.]]\n"
          ],
          "name": "stdout"
        }
      ]
    }
  ]
}