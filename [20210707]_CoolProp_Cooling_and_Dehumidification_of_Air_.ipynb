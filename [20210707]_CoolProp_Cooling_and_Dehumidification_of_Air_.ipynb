{
  "nbformat": 4,
  "nbformat_minor": 0,
  "metadata": {
    "colab": {
      "name": "[20210707]_CoolProp_Cooling and Dehumidification of Air .ipynb",
      "provenance": [],
      "authorship_tag": "ABX9TyMYcQ6FgvSng/FESOfKQV05",
      "include_colab_link": true
    },
    "kernelspec": {
      "name": "python3",
      "display_name": "Python 3"
    },
    "language_info": {
      "name": "python"
    }
  },
  "cells": [
    {
      "cell_type": "markdown",
      "metadata": {
        "id": "view-in-github",
        "colab_type": "text"
      },
      "source": [
        "<a href=\"https://colab.research.google.com/github/BingHungLee/BHAI-Daily-Practice/blob/main/%5B20210707%5D_CoolProp_Cooling_and_Dehumidification_of_Air_.ipynb\" target=\"_parent\"><img src=\"https://colab.research.google.com/assets/colab-badge.svg\" alt=\"Open In Colab\"/></a>"
      ]
    },
    {
      "cell_type": "markdown",
      "metadata": {
        "id": "5zJSL8VmJOUG"
      },
      "source": [
        "* Air enters at 1 atm, 30C and 80%RH at a rate of 10m3/min.\n",
        "* It leaves as saturated air at 14C, part of the air condensed.\n",
        "\n",
        "What is the rates of heat and moisture removal from the air ?\n",
        "\n",
        "### http://www.coolprop.org/fluid_properties/HumidAir.html\n",
        "\n",
        "* Dry air mass balance  \n",
        " * ma1 = ma2 = ma\n",
        "* Water mass balance \n",
        " * ma1*w1 = ma2*w2 + mw\n",
        "* Energy balance\n",
        " * Qout  = ma(h1-h2) - mwhw"
      ]
    },
    {
      "cell_type": "code",
      "metadata": {
        "colab": {
          "base_uri": "https://localhost:8080/"
        },
        "id": "rLagiv62JOic",
        "outputId": "018cda12-77cd-44fd-ddeb-b3a8e1a4cf82"
      },
      "source": [
        "!pip install CoolProp"
      ],
      "execution_count": 1,
      "outputs": [
        {
          "output_type": "stream",
          "text": [
            "Collecting CoolProp\n",
            "\u001b[?25l  Downloading https://files.pythonhosted.org/packages/2d/c9/321ff0b7ddefbfdb653ff9a4eb7bf3cf812c94ff162d24fd6f12c7bcc808/CoolProp-6.4.1-cp37-cp37m-manylinux1_x86_64.whl (4.2MB)\n",
            "\u001b[K     |████████████████████████████████| 4.2MB 13.7MB/s \n",
            "\u001b[?25hInstalling collected packages: CoolProp\n",
            "Successfully installed CoolProp-6.4.1\n"
          ],
          "name": "stdout"
        }
      ]
    },
    {
      "cell_type": "markdown",
      "metadata": {
        "id": "ezHtjSboJXDU"
      },
      "source": [
        "## Preporcess - Properties"
      ]
    },
    {
      "cell_type": "code",
      "metadata": {
        "colab": {
          "base_uri": "https://localhost:8080/"
        },
        "id": "Wy0-aYZTJTyE",
        "outputId": "af8c9588-78a4-40de-dbc5-dbc1ec9cd1a4"
      },
      "source": [
        "from CoolProp.HumidAirProp import HAPropsSI\n",
        "from CoolProp.CoolProp import PhaseSI, PropsSI, get_global_param_string\n",
        "\n",
        "T1 = 30+273.15 #K\n",
        "P1 = 101325 #Pa\n",
        "RH1 = 0.8\n",
        "FR1 = 10 # m3/min\n",
        "\n",
        "h1 = HAPropsSI('H','T',T1,'P',P1,'R',RH1)/1000; print(h1) #85.4 kJ/kg\n",
        "W1 = HAPropsSI(\"W\", \"T\", T1, \"P\", P1, \"R\",RH1); print(W1) #0.0216 kg H2O/kg dry air\n",
        "v1 = HAPropsSI(\"Vha\", \"T\", T1, \"P\", P1, \"R\",RH1); print(v1)\n"
      ],
      "execution_count": 2,
      "outputs": [
        {
          "output_type": "stream",
          "text": [
            "85.56484884913536\n",
            "0.021675772036644517\n",
            "0.8695227397969099\n"
          ],
          "name": "stdout"
        }
      ]
    },
    {
      "cell_type": "code",
      "metadata": {
        "colab": {
          "base_uri": "https://localhost:8080/"
        },
        "id": "9YZhqyLVJZh7",
        "outputId": "e3351b15-5ba2-4616-f526-e73b2059b2b9"
      },
      "source": [
        "T2 = 14+273.15\n",
        "P2 = 101325\n",
        "RH2 = 1\n",
        "\n",
        "h2 = HAPropsSI('H','T',T2,'P',P2,'R',RH2)/1000; print(h2)\n",
        "W2 = HAPropsSI(\"W\", \"T\", T2, \"P\", P2, \"R\",RH2); print(W2)"
      ],
      "execution_count": 3,
      "outputs": [
        {
          "output_type": "stream",
          "text": [
            "39.37130717600509\n",
            "0.010013322796086114\n"
          ],
          "name": "stdout"
        }
      ]
    },
    {
      "cell_type": "code",
      "metadata": {
        "colab": {
          "base_uri": "https://localhost:8080/"
        },
        "id": "kFE2lUnCJa0z",
        "outputId": "faf1398b-080c-40c0-df88-11ed3b4eac2b"
      },
      "source": [
        "T3 = 14+273.15\n",
        "h3 = PropsSI('H','T',T3,'Q',0,'water')/1000;print(h3)"
      ],
      "execution_count": 4,
      "outputs": [
        {
          "output_type": "stream",
          "text": [
            "58.79198513454781\n"
          ],
          "name": "stdout"
        }
      ]
    },
    {
      "cell_type": "markdown",
      "metadata": {
        "id": "sKll70szJdeE"
      },
      "source": [
        "## Dehumidification Process"
      ]
    },
    {
      "cell_type": "code",
      "metadata": {
        "colab": {
          "base_uri": "https://localhost:8080/"
        },
        "id": "e0NI2cOAJcHD",
        "outputId": "710856a6-e1f4-4451-f11b-4655c52f22fa"
      },
      "source": [
        "ma = FR1/v1 ; print(ma) #kg/min"
      ],
      "execution_count": 5,
      "outputs": [
        {
          "output_type": "stream",
          "text": [
            "11.500561793629055\n"
          ],
          "name": "stdout"
        }
      ]
    },
    {
      "cell_type": "code",
      "metadata": {
        "colab": {
          "base_uri": "https://localhost:8080/"
        },
        "id": "Ll_RUa9TJi8r",
        "outputId": "d0d284ec-7a9b-4d2d-b491-b5f3118683b1"
      },
      "source": [
        "mw = ma*(W1-W2) ; print(mw) #kg/min"
      ],
      "execution_count": 6,
      "outputs": [
        {
          "output_type": "stream",
          "text": [
            "0.13412471815610416\n"
          ],
          "name": "stdout"
        }
      ]
    },
    {
      "cell_type": "code",
      "metadata": {
        "colab": {
          "base_uri": "https://localhost:8080/"
        },
        "id": "uDigWgz2JkNL",
        "outputId": "20b7b486-f181-4d4c-8559-1a41f25589ab"
      },
      "source": [
        "Qout = ma*(h1-h2)-mw*h3 ; print(Qout) #kJ/min"
      ],
      "execution_count": 8,
      "outputs": [
        {
          "output_type": "stream",
          "text": [
            "523.3662220424044\n"
          ],
          "name": "stdout"
        }
      ]
    }
  ]
}