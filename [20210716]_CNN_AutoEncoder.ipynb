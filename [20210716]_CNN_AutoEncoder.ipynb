{
  "nbformat": 4,
  "nbformat_minor": 0,
  "metadata": {
    "kernelspec": {
      "display_name": "Python 3",
      "language": "python",
      "name": "python3"
    },
    "language_info": {
      "codemirror_mode": {
        "name": "ipython",
        "version": 3
      },
      "file_extension": ".py",
      "mimetype": "text/x-python",
      "name": "python",
      "nbconvert_exporter": "python",
      "pygments_lexer": "ipython3",
      "version": "3.6.10"
    },
    "colab": {
      "name": "[20210716]_CNN_AutoEncoder.ipynb",
      "provenance": [],
      "include_colab_link": true
    }
  },
  "cells": [
    {
      "cell_type": "markdown",
      "metadata": {
        "id": "view-in-github",
        "colab_type": "text"
      },
      "source": [
        "<a href=\"https://colab.research.google.com/github/BingHungLee/BHAI-Daily-Practice/blob/main/%5B20210716%5D_CNN_AutoEncoder.ipynb\" target=\"_parent\"><img src=\"https://colab.research.google.com/assets/colab-badge.svg\" alt=\"Open In Colab\"/></a>"
      ]
    },
    {
      "cell_type": "markdown",
      "metadata": {
        "id": "08_FYVt8CcXL"
      },
      "source": [
        "## Reference:  [深度學習筆記(8)：Autoencoder自編碼器(AE)](https://yanwei-liu.medium.com/%E6%B7%B1%E5%BA%A6%E5%AD%B8%E7%BF%92%E7%AD%86%E8%A8%98-8-autoencoder%E8%87%AA%E7%B7%A8%E7%A2%BC%E5%99%A8-ae-97eff2b4280a)"
      ]
    },
    {
      "cell_type": "code",
      "metadata": {
        "colab": {
          "base_uri": "https://localhost:8080/",
          "height": 1000
        },
        "id": "f7q-8EtgB42L",
        "outputId": "ee75adab-2b95-429f-b737-282e0888341e"
      },
      "source": [
        "import numpy as np\n",
        "from keras.datasets import mnist\n",
        "from keras.models import Model\n",
        "from keras.layers import Dense, Input\n",
        "# 指定亂數種子\n",
        "seed = 7\n",
        "np.random.seed(seed)\n",
        "# 載入資料集\n",
        "(X_train, _), (X_test, _) = mnist.load_data()\n",
        "\n",
        "# 轉換成 28*28 = 784 的向量\n",
        "X_train = X_train.reshape(X_train.shape[0], 28*28).astype(\"float32\")\n",
        "X_test = X_test.reshape(X_test.shape[0], 28*28).astype(\"float32\")\n",
        "# 因為是固定範圍, 所以執行正規化, 從 0-255 至 0-1\n",
        "X_train = X_train / 255\n",
        "X_test = X_test / 255\n",
        "\n",
        "# 定義 autoencoder 模型\n",
        "input_img = Input(shape=(784,))\n",
        "x = Dense(128, activation=\"relu\")(input_img)\n",
        "encoded = Dense(64, activation=\"relu\")(x)\n",
        "x = Dense(128, activation=\"relu\")(encoded)\n",
        "decoded = Dense(784, activation=\"sigmoid\")(x)\n",
        "autoencoder = Model(input_img, decoded)\n",
        "autoencoder.summary()  # 顯示模型摘要資訊\n",
        "\n",
        "# 定義 encoder 模型\n",
        "encoder = Model(input_img, encoded)\n",
        "encoder.summary()    # 顯示模型摘要資訊\n",
        "# 定義 decoder 模型\n",
        "decoder_input = Input(shape=(64,))\n",
        "decoder_layer = autoencoder.layers[-2](decoder_input)\n",
        "decoder_layer = autoencoder.layers[-1](decoder_layer)\n",
        "decoder = Model(decoder_input, decoder_layer)\n",
        "decoder.summary()    # 顯示模型摘要資訊\n",
        "\n",
        "\n",
        "# 編譯模型\n",
        "autoencoder.compile(loss=\"binary_crossentropy\", optimizer=\"adam\",metrics=[\"accuracy\"])\n",
        "# 訓練模型\n",
        "autoencoder.fit(X_train, X_train, validation_data=(X_test, X_test), epochs=10, batch_size=256, shuffle=True, verbose=2)\n",
        "\n",
        "# 壓縮圖片\n",
        "encoded_imgs = encoder.predict(X_test)\n",
        "# 解壓縮圖片\n",
        "decoded_imgs = decoder.predict(encoded_imgs)\n",
        "# 顯示原始, 壓縮和還原圖片\n",
        "import matplotlib.pyplot as plt\n",
        "n = 10  # 顯示幾個數字\n",
        "plt.figure(figsize=(20, 6))\n",
        "for i in range(n):\n",
        "    # 原始圖片\n",
        "    ax = plt.subplot(3, n, i + 1)\n",
        "    ax.imshow(X_test[i].reshape(28, 28), cmap=\"gray\")\n",
        "    ax.axis(\"off\")\n",
        "    # 壓縮圖片\n",
        "    ax = plt.subplot(3, n, i + 1 + n)\n",
        "    ax.imshow(encoded_imgs[i].reshape(8, 8), cmap=\"gray\")\n",
        "    ax.axis(\"off\")\n",
        "    # 還原圖片\n",
        "    ax = plt.subplot(3, n, i + 1 + 2*n)\n",
        "    ax.imshow(decoded_imgs[i].reshape(28, 28), cmap=\"gray\")\n",
        "    ax.axis(\"off\")\n",
        "plt.show()"
      ],
      "execution_count": 19,
      "outputs": [
        {
          "output_type": "stream",
          "text": [
            "Model: \"model_3\"\n",
            "_________________________________________________________________\n",
            "Layer (type)                 Output Shape              Param #   \n",
            "=================================================================\n",
            "input_3 (InputLayer)         [(None, 784)]             0         \n",
            "_________________________________________________________________\n",
            "dense_4 (Dense)              (None, 128)               100480    \n",
            "_________________________________________________________________\n",
            "dense_5 (Dense)              (None, 64)                8256      \n",
            "_________________________________________________________________\n",
            "dense_6 (Dense)              (None, 128)               8320      \n",
            "_________________________________________________________________\n",
            "dense_7 (Dense)              (None, 784)               101136    \n",
            "=================================================================\n",
            "Total params: 218,192\n",
            "Trainable params: 218,192\n",
            "Non-trainable params: 0\n",
            "_________________________________________________________________\n",
            "Model: \"model_4\"\n",
            "_________________________________________________________________\n",
            "Layer (type)                 Output Shape              Param #   \n",
            "=================================================================\n",
            "input_3 (InputLayer)         [(None, 784)]             0         \n",
            "_________________________________________________________________\n",
            "dense_4 (Dense)              (None, 128)               100480    \n",
            "_________________________________________________________________\n",
            "dense_5 (Dense)              (None, 64)                8256      \n",
            "=================================================================\n",
            "Total params: 108,736\n",
            "Trainable params: 108,736\n",
            "Non-trainable params: 0\n",
            "_________________________________________________________________\n",
            "Model: \"model_5\"\n",
            "_________________________________________________________________\n",
            "Layer (type)                 Output Shape              Param #   \n",
            "=================================================================\n",
            "input_4 (InputLayer)         [(None, 64)]              0         \n",
            "_________________________________________________________________\n",
            "dense_6 (Dense)              (None, 128)               8320      \n",
            "_________________________________________________________________\n",
            "dense_7 (Dense)              (None, 784)               101136    \n",
            "=================================================================\n",
            "Total params: 109,456\n",
            "Trainable params: 109,456\n",
            "Non-trainable params: 0\n",
            "_________________________________________________________________\n",
            "Epoch 1/10\n",
            "235/235 - 4s - loss: 0.2214 - accuracy: 0.0102 - val_loss: 0.1385 - val_accuracy: 0.0094\n",
            "Epoch 2/10\n",
            "235/235 - 3s - loss: 0.1243 - accuracy: 0.0124 - val_loss: 0.1121 - val_accuracy: 0.0126\n",
            "Epoch 3/10\n",
            "235/235 - 3s - loss: 0.1073 - accuracy: 0.0110 - val_loss: 0.1010 - val_accuracy: 0.0122\n",
            "Epoch 4/10\n",
            "235/235 - 3s - loss: 0.0992 - accuracy: 0.0117 - val_loss: 0.0953 - val_accuracy: 0.0125\n",
            "Epoch 5/10\n",
            "235/235 - 3s - loss: 0.0946 - accuracy: 0.0122 - val_loss: 0.0917 - val_accuracy: 0.0135\n",
            "Epoch 6/10\n",
            "235/235 - 3s - loss: 0.0915 - accuracy: 0.0123 - val_loss: 0.0890 - val_accuracy: 0.0123\n",
            "Epoch 7/10\n",
            "235/235 - 3s - loss: 0.0892 - accuracy: 0.0128 - val_loss: 0.0870 - val_accuracy: 0.0135\n",
            "Epoch 8/10\n",
            "235/235 - 3s - loss: 0.0874 - accuracy: 0.0125 - val_loss: 0.0859 - val_accuracy: 0.0138\n",
            "Epoch 9/10\n",
            "235/235 - 3s - loss: 0.0859 - accuracy: 0.0126 - val_loss: 0.0844 - val_accuracy: 0.0133\n",
            "Epoch 10/10\n",
            "235/235 - 3s - loss: 0.0846 - accuracy: 0.0134 - val_loss: 0.0830 - val_accuracy: 0.0126\n"
          ],
          "name": "stdout"
        },
        {
          "output_type": "display_data",
          "data": {
            "image/png": "[encoded data removed]",
            "text/plain": [
              "<Figure size 1440x432 with 30 Axes>"
            ]
          },
          "metadata": {
            "tags": [],
            "needs_background": "light"
          }
        }
      ]
    }
  ]
}