{
  "nbformat": 4,
  "nbformat_minor": 0,
  "metadata": {
    "colab": {
      "name": "[20210707]_CoolProp_AirMixed_Propety_Check.ipynb",
      "provenance": [],
      "authorship_tag": "ABX9TyOzQyxleY2Mg1Gyu8kAdoyU",
      "include_colab_link": true
    },
    "kernelspec": {
      "name": "python3",
      "display_name": "Python 3"
    },
    "language_info": {
      "name": "python"
    }
  },
  "cells": [
    {
      "cell_type": "markdown",
      "metadata": {
        "id": "view-in-github",
        "colab_type": "text"
      },
      "source": [
        "<a href=\"https://colab.research.google.com/github/BingHungLee/BHAI-Daily-Practice/blob/main/%5B20210707%5D_CoolProp_AirMixed_Propety_Check.ipynb\" target=\"_parent\"><img src=\"https://colab.research.google.com/assets/colab-badge.svg\" alt=\"Open In Colab\"/></a>"
      ]
    },
    {
      "cell_type": "code",
      "metadata": {
        "colab": {
          "base_uri": "https://localhost:8080/"
        },
        "id": "nwtplDefJ37Y",
        "outputId": "14382021-e757-40e4-d8e2-be4d63dbc01b"
      },
      "source": [
        "!pip install CoolProp\n",
        "import CoolProp.CoolProp as CP\n",
        "from CoolProp.CoolProp import PropsSI"
      ],
      "execution_count": 1,
      "outputs": [
        {
          "output_type": "stream",
          "text": [
            "Collecting CoolProp\n",
            "\u001b[?25l  Downloading https://files.pythonhosted.org/packages/2d/c9/321ff0b7ddefbfdb653ff9a4eb7bf3cf812c94ff162d24fd6f12c7bcc808/CoolProp-6.4.1-cp37-cp37m-manylinux1_x86_64.whl (4.2MB)\n",
            "\u001b[K     |████████████████████████████████| 4.2MB 7.5MB/s \n",
            "\u001b[?25hInstalling collected packages: CoolProp\n",
            "Successfully installed CoolProp-6.4.1\n"
          ],
          "name": "stdout"
        }
      ]
    },
    {
      "cell_type": "code",
      "metadata": {
        "colab": {
          "base_uri": "https://localhost:8080/"
        },
        "id": "ERdSnrBNKFi9",
        "outputId": "14bdb24a-e07d-4e27-f28a-baabb80eec00"
      },
      "source": [
        "CP.PropsSI('D','P',101325,'T',300,'Air.mix')"
      ],
      "execution_count": 2,
      "outputs": [
        {
          "output_type": "execute_result",
          "data": {
            "text/plain": [
              "1.1766922904316655"
            ]
          },
          "metadata": {
            "tags": []
          },
          "execution_count": 2
        }
      ]
    },
    {
      "cell_type": "code",
      "metadata": {
        "colab": {
          "base_uri": "https://localhost:8080/"
        },
        "id": "oLIEQWe1KP4j",
        "outputId": "5463d888-1c2d-480f-d43c-077604adcdc9"
      },
      "source": [
        "CP.PropsSI('D','P',101325,'T',300,'Air')"
      ],
      "execution_count": 3,
      "outputs": [
        {
          "output_type": "execute_result",
          "data": {
            "text/plain": [
              "1.1769955883877592"
            ]
          },
          "metadata": {
            "tags": []
          },
          "execution_count": 3
        }
      ]
    },
    {
      "cell_type": "code",
      "metadata": {
        "colab": {
          "base_uri": "https://localhost:8080/"
        },
        "id": "FC3hhGg1KRPj",
        "outputId": "c69ecde7-bd35-432f-ac48-caab3616d9bb"
      },
      "source": [
        "CP.PropsSI('D','T',300,'P',101325,'N2[0.78]&O2[0.21]&Ar[0.01]')"
      ],
      "execution_count": 4,
      "outputs": [
        {
          "output_type": "execute_result",
          "data": {
            "text/plain": [
              "1.1771456308137072"
            ]
          },
          "metadata": {
            "tags": []
          },
          "execution_count": 4
        }
      ]
    },
    {
      "cell_type": "code",
      "metadata": {
        "colab": {
          "base_uri": "https://localhost:8080/"
        },
        "id": "jSDpUPTnKURz",
        "outputId": "aea6c5b0-31f3-4245-f251-854eed9eab0a"
      },
      "source": [
        "Density_N2=CP.PropsSI('D','T',300,'P',101325,'N2')\n",
        "Density_O2=CP.PropsSI('D','T',300,'P',101325,'O2')\n",
        "Density_Ar=CP.PropsSI('D','T',300,'P',101325,'Ar')\n",
        "print(\"Density_N2 :\", Density_N2)\n",
        "print(\"Density_O2 :\", Density_O2)\n",
        "print(\"Density_Ar :\", Density_Ar)\n",
        "\n",
        "Density_N2*0.78+Density_O2*0.21+Density_Ar*0.01"
      ],
      "execution_count": 5,
      "outputs": [
        {
          "output_type": "stream",
          "text": [
            "Density_N2 : 1.1381646864624473\n",
            "Density_O2 : 1.3006898082601743\n",
            "Density_Ar : 1.623757027351451\n"
          ],
          "name": "stdout"
        },
        {
          "output_type": "execute_result",
          "data": {
            "text/plain": [
              "1.17715088544886"
            ]
          },
          "metadata": {
            "tags": []
          },
          "execution_count": 5
        }
      ]
    },
    {
      "cell_type": "code",
      "metadata": {
        "colab": {
          "base_uri": "https://localhost:8080/"
        },
        "id": "1s7LiHN4KxOS",
        "outputId": "b3100f1f-cce0-42df-ba15-76b53856502b"
      },
      "source": [
        "Density_Water=CP.PropsSI('D','T',300,'P',101325,'water')\n",
        "Density_Moist_Air=CP.PropsSI('D','T',300,'P',101325,'water[0.5]&N2[0.39]&O2[0.105]&Ar[0.005]')\n",
        "print(\"Density_Water :\", Density_Water)\n",
        "print(\"Density_Moist_Air :\", Density_Moist_Air)"
      ],
      "execution_count": 8,
      "outputs": [
        {
          "output_type": "stream",
          "text": [
            "Density_Water : 996.5569352652021\n",
            "Density_Moist_Air : 1.8418524262971414\n"
          ],
          "name": "stdout"
        }
      ]
    },
    {
      "cell_type": "code",
      "metadata": {
        "colab": {
          "base_uri": "https://localhost:8080/"
        },
        "id": "GK7JJ3edLMoa",
        "outputId": "fabccc4f-ff47-4178-d064-a6ede0d90d1a"
      },
      "source": [
        "1.1771456308137072*0.5+996.5569352652021*0.5"
      ],
      "execution_count": 9,
      "outputs": [
        {
          "output_type": "execute_result",
          "data": {
            "text/plain": [
              "498.8670404480079"
            ]
          },
          "metadata": {
            "tags": []
          },
          "execution_count": 9
        }
      ]
    }
  ]
}