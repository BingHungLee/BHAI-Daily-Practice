{
  "nbformat": 4,
  "nbformat_minor": 0,
  "metadata": {
    "colab": {
      "name": "[20210915] C1 - W3 HW NTU Course(How to make change).ipynb",
      "provenance": [],
      "authorship_tag": "ABX9TyNLQ0IeLz0lj8wvmpadYp51",
      "include_colab_link": true
    },
    "kernelspec": {
      "name": "python3",
      "display_name": "Python 3"
    },
    "language_info": {
      "name": "python"
    }
  },
  "cells": [
    {
      "cell_type": "markdown",
      "metadata": {
        "id": "view-in-github",
        "colab_type": "text"
      },
      "source": [
        "<a href=\"https://colab.research.google.com/github/BingHungLee/BHAI-Daily-Practice/blob/main/%5B20210915%5D_C1_W3_HW_NTU_Course(How_to_make_change).ipynb\" target=\"_parent\"><img src=\"https://colab.research.google.com/assets/colab-badge.svg\" alt=\"Open In Colab\"/></a>"
      ]
    },
    {
      "cell_type": "code",
      "metadata": {
        "id": "ESTUnSUC6abG"
      },
      "source": [
        "def PrintFormat(Text,denomination):\n",
        "  if Text == 0:\n",
        "    Text = \"\"\n",
        "  else:\n",
        "    Text = (str(denomination)+\", \"+str(Text)+\"; \")\n",
        "  return Text"
      ],
      "execution_count": 48,
      "outputs": []
    },
    {
      "cell_type": "code",
      "metadata": {
        "colab": {
          "base_uri": "https://localhost:8080/",
          "height": 35
        },
        "id": "SiaJJKon93Vy",
        "outputId": "28395160-09fb-45fb-98b6-d4946a4107f3"
      },
      "source": [
        "PrintFormat(0,500)"
      ],
      "execution_count": 49,
      "outputs": [
        {
          "output_type": "execute_result",
          "data": {
            "application/vnd.google.colaboratory.intrinsic+json": {
              "type": "string"
            },
            "text/plain": [
              "''"
            ]
          },
          "metadata": {},
          "execution_count": 49
        }
      ]
    },
    {
      "cell_type": "code",
      "metadata": {
        "colab": {
          "base_uri": "https://localhost:8080/",
          "height": 35
        },
        "id": "RHwCaeCV-b3y",
        "outputId": "5162b26d-e666-4dac-c6c7-4ada2f242c14"
      },
      "source": [
        "PrintFormat(1,500)"
      ],
      "execution_count": 50,
      "outputs": [
        {
          "output_type": "execute_result",
          "data": {
            "application/vnd.google.colaboratory.intrinsic+json": {
              "type": "string"
            },
            "text/plain": [
              "'500, 1; '"
            ]
          },
          "metadata": {},
          "execution_count": 50
        }
      ]
    },
    {
      "cell_type": "code",
      "metadata": {
        "colab": {
          "base_uri": "https://localhost:8080/"
        },
        "id": "5TqMwKseGR4_",
        "outputId": "faa28c7e-dc58-4575-8c26-2d4d17d4c270"
      },
      "source": [
        "600%500"
      ],
      "execution_count": 51,
      "outputs": [
        {
          "output_type": "execute_result",
          "data": {
            "text/plain": [
              "100"
            ]
          },
          "metadata": {},
          "execution_count": 51
        }
      ]
    },
    {
      "cell_type": "code",
      "metadata": {
        "colab": {
          "base_uri": "https://localhost:8080/"
        },
        "id": "o9sleVUqGUAv",
        "outputId": "9d1ed00c-a2e7-4672-c257-d008d33f3b73"
      },
      "source": [
        "600//500"
      ],
      "execution_count": 52,
      "outputs": [
        {
          "output_type": "execute_result",
          "data": {
            "text/plain": [
              "1"
            ]
          },
          "metadata": {},
          "execution_count": 52
        }
      ]
    },
    {
      "cell_type": "code",
      "metadata": {
        "id": "G2dxSWFu7tPV"
      },
      "source": [
        "def MakeChange(Consume):\n",
        "  Change = 1000- Consume\n",
        "  M500 = Change//500\n",
        "  Change -= 500*M500\n",
        "\n",
        "  M100 = Change//100\n",
        "  Change -= 100*M100\n",
        "\n",
        "  M50 = Change//50\n",
        "  Change -= 50*M50\n",
        "\n",
        "  M10 = Change//10\n",
        "  Change -= 10*M10\n",
        "\n",
        "  M5 = Change//5\n",
        "  Change -= 5*M5\n",
        "\n",
        "  M1 = Change\n",
        "\n",
        "  output = PrintFormat(M500,500)+PrintFormat(M100,100)+PrintFormat(M50,50)+PrintFormat(M10,10)+PrintFormat(M5,5)+PrintFormat(M1,1)\n",
        "  output = output[:-2]\n",
        "  print(output)"
      ],
      "execution_count": 68,
      "outputs": []
    },
    {
      "cell_type": "code",
      "metadata": {
        "colab": {
          "base_uri": "https://localhost:8080/"
        },
        "id": "yaBs2Cs1_N5v",
        "outputId": "8f919c5d-1e6f-4bf4-f41c-a1c7dde3d3c7"
      },
      "source": [
        "MakeChange(286)"
      ],
      "execution_count": 70,
      "outputs": [
        {
          "output_type": "stream",
          "name": "stdout",
          "text": [
            "500, 1; 100, 2; 10, 1; 1, 4\n"
          ]
        }
      ]
    },
    {
      "cell_type": "code",
      "metadata": {
        "colab": {
          "base_uri": "https://localhost:8080/"
        },
        "id": "EWjxL0OVGbIQ",
        "outputId": "d0ac6374-ffbd-4202-ddf3-80b83f261dee"
      },
      "source": [
        "MakeChange(100)"
      ],
      "execution_count": 71,
      "outputs": [
        {
          "output_type": "stream",
          "name": "stdout",
          "text": [
            "500, 1; 100, 4\n"
          ]
        }
      ]
    },
    {
      "cell_type": "code",
      "metadata": {
        "colab": {
          "base_uri": "https://localhost:8080/"
        },
        "id": "bJEkW-NkPo4X",
        "outputId": "f24e893b-c3b7-435e-fe1c-65a48419fe9f"
      },
      "source": [
        "MakeChange(1)"
      ],
      "execution_count": 72,
      "outputs": [
        {
          "output_type": "stream",
          "name": "stdout",
          "text": [
            "500, 1; 100, 4; 50, 1; 10, 4; 5, 1; 1, 4\n"
          ]
        }
      ]
    },
    {
      "cell_type": "code",
      "metadata": {
        "colab": {
          "base_uri": "https://localhost:8080/"
        },
        "id": "x6gZtizgPrpW",
        "outputId": "ee6bf8e3-bd39-40af-efee-f6c5d68e2bed"
      },
      "source": [
        "MakeChange(841)"
      ],
      "execution_count": 73,
      "outputs": [
        {
          "output_type": "stream",
          "name": "stdout",
          "text": [
            "100, 1; 50, 1; 5, 1; 1, 4\n"
          ]
        }
      ]
    },
    {
      "cell_type": "code",
      "metadata": {
        "colab": {
          "base_uri": "https://localhost:8080/"
        },
        "id": "zel0Nti6PuhO",
        "outputId": "4320c497-5200-4265-c606-97d47d4d95ba"
      },
      "source": [
        "MakeChange(999)"
      ],
      "execution_count": 74,
      "outputs": [
        {
          "output_type": "stream",
          "name": "stdout",
          "text": [
            "1, 1\n"
          ]
        }
      ]
    },
    {
      "cell_type": "code",
      "metadata": {
        "colab": {
          "base_uri": "https://localhost:8080/"
        },
        "id": "Zom1-cPKPxRO",
        "outputId": "893ed476-dad8-4099-88ff-20c833295c97"
      },
      "source": [
        "MakeChange(413)"
      ],
      "execution_count": 75,
      "outputs": [
        {
          "output_type": "stream",
          "name": "stdout",
          "text": [
            "500, 1; 50, 1; 10, 3; 5, 1; 1, 2\n"
          ]
        }
      ]
    },
    {
      "cell_type": "code",
      "metadata": {
        "id": "8sRqzsKOPziG"
      },
      "source": [
        ""
      ],
      "execution_count": null,
      "outputs": []
    }
  ]
}