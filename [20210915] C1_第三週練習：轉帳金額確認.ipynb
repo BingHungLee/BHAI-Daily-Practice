{
  "nbformat": 4,
  "nbformat_minor": 0,
  "metadata": {
    "colab": {
      "name": "C1 - 第三週練習：轉帳金額確認.ipynb",
      "provenance": [],
      "authorship_tag": "ABX9TyOobOLCoxmwlYxE3KoI1Hdi",
      "include_colab_link": true
    },
    "kernelspec": {
      "name": "python3",
      "display_name": "Python 3"
    },
    "language_info": {
      "name": "python"
    }
  },
  "cells": [
    {
      "cell_type": "markdown",
      "metadata": {
        "id": "view-in-github",
        "colab_type": "text"
      },
      "source": [
        "<a href=\"https://colab.research.google.com/github/BingHungLee/BHAI-Daily-Practice/blob/main/%5B20210915%5D%20C1_%E7%AC%AC%E4%B8%89%E9%80%B1%E7%B7%B4%E7%BF%92%EF%BC%9A%E8%BD%89%E5%B8%B3%E9%87%91%E9%A1%8D%E7%A2%BA%E8%AA%8D.ipynb\" target=\"_parent\"><img src=\"https://colab.research.google.com/assets/colab-badge.svg\" alt=\"Open In Colab\"/></a>"
      ]
    },
    {
      "cell_type": "code",
      "metadata": {
        "id": "ubHGJVYa5D2U"
      },
      "source": [
        "def Remit(A,B,R):\n",
        "  '''\n",
        "  AccountA = int(input())\n",
        "  AccountB = int(input())\n",
        "  MoneyRemit = int(input())\n",
        "  '''\n",
        "  AccountA = A\n",
        "  AccountB = B\n",
        "  MoneyRemit = R\n",
        "  if MoneyRemit >= AccountA:\n",
        "    AccountB += AccountA\n",
        "    AccountA = 0 \n",
        "  else:\n",
        "    AccountA -= MoneyRemit\n",
        "    AccountB += MoneyRemit \n",
        "  print(AccountA,AccountB)"
      ],
      "execution_count": 1,
      "outputs": []
    },
    {
      "cell_type": "code",
      "metadata": {
        "colab": {
          "base_uri": "https://localhost:8080/"
        },
        "id": "wgrxM6RS5GsA",
        "outputId": "e5d08d31-f922-4690-ffbf-3e179cec68e7"
      },
      "source": [
        "Remit(1000,2000,500)"
      ],
      "execution_count": 2,
      "outputs": [
        {
          "output_type": "stream",
          "name": "stdout",
          "text": [
            "500 2500\n"
          ]
        }
      ]
    },
    {
      "cell_type": "code",
      "metadata": {
        "colab": {
          "base_uri": "https://localhost:8080/"
        },
        "id": "CzSvS_Ri5Kl3",
        "outputId": "9f71063b-ed4b-4704-ce1f-35e38121da23"
      },
      "source": [
        "Remit(1000,2000,1200)"
      ],
      "execution_count": 3,
      "outputs": [
        {
          "output_type": "stream",
          "name": "stdout",
          "text": [
            "0 3000\n"
          ]
        }
      ]
    },
    {
      "cell_type": "code",
      "metadata": {
        "colab": {
          "base_uri": "https://localhost:8080/"
        },
        "id": "Y30fckHR5LJf",
        "outputId": "4f7962a6-984f-4004-a35e-824fb88af0ed"
      },
      "source": [
        "Remit(97435,78928,2259)"
      ],
      "execution_count": 4,
      "outputs": [
        {
          "output_type": "stream",
          "name": "stdout",
          "text": [
            "95176 81187\n"
          ]
        }
      ]
    },
    {
      "cell_type": "code",
      "metadata": {
        "colab": {
          "base_uri": "https://localhost:8080/"
        },
        "id": "8d2lb5L45L7O",
        "outputId": "cb14ecee-305b-4e8d-ba29-78644a77b501"
      },
      "source": [
        "Remit(7113,92433,12248)"
      ],
      "execution_count": 5,
      "outputs": [
        {
          "output_type": "stream",
          "name": "stdout",
          "text": [
            "0 99546\n"
          ]
        }
      ]
    },
    {
      "cell_type": "code",
      "metadata": {
        "colab": {
          "base_uri": "https://localhost:8080/"
        },
        "id": "_tZTB8_z5Mne",
        "outputId": "c765d43b-e27c-4421-d3d1-b9f075f84053"
      },
      "source": [
        "Remit(0,0,0)"
      ],
      "execution_count": 6,
      "outputs": [
        {
          "output_type": "stream",
          "name": "stdout",
          "text": [
            "0 0\n"
          ]
        }
      ]
    },
    {
      "cell_type": "code",
      "metadata": {
        "colab": {
          "base_uri": "https://localhost:8080/"
        },
        "id": "UjWeMRAB5Nb3",
        "outputId": "fc6f13f6-a934-4b4a-9434-1b744da070a7"
      },
      "source": [
        "Remit(100000,100000,100000)"
      ],
      "execution_count": 7,
      "outputs": [
        {
          "output_type": "stream",
          "name": "stdout",
          "text": [
            "0 200000\n"
          ]
        }
      ]
    },
    {
      "cell_type": "code",
      "metadata": {
        "colab": {
          "base_uri": "https://localhost:8080/"
        },
        "id": "ctLdjOZ_5OH-",
        "outputId": "ab9ade64-e846-4c80-b475-6c1de94adbd2"
      },
      "source": [
        "Remit(46208,1159,34019)"
      ],
      "execution_count": 8,
      "outputs": [
        {
          "output_type": "stream",
          "name": "stdout",
          "text": [
            "12189 35178\n"
          ]
        }
      ]
    },
    {
      "cell_type": "code",
      "metadata": {
        "id": "n9fn1V8V5OzO"
      },
      "source": [
        ""
      ],
      "execution_count": null,
      "outputs": []
    }
  ]
}