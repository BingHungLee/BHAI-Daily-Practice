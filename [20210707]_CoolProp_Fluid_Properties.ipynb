{
  "nbformat": 4,
  "nbformat_minor": 0,
  "metadata": {
    "colab": {
      "name": "[20210707]_CoolProp_Fluid_Properties.ipynb",
      "provenance": [],
      "authorship_tag": "ABX9TyNFog5yDFk3WA1tLgRh7k/D",
      "include_colab_link": true
    },
    "kernelspec": {
      "name": "python3",
      "display_name": "Python 3"
    },
    "language_info": {
      "name": "python"
    }
  },
  "cells": [
    {
      "cell_type": "markdown",
      "metadata": {
        "id": "view-in-github",
        "colab_type": "text"
      },
      "source": [
        "<a href=\"https://colab.research.google.com/github/BingHungLee/BHAI-Daily-Practice/blob/main/%5B20210707%5D_CoolProp_Fluid_Properties.ipynb\" target=\"_parent\"><img src=\"https://colab.research.google.com/assets/colab-badge.svg\" alt=\"Open In Colab\"/></a>"
      ]
    },
    {
      "cell_type": "markdown",
      "metadata": {
        "id": "B_88KUsm_pZD"
      },
      "source": [
        "# Project Reference Site\n",
        "\n",
        "\n",
        "*   http://www.coolprop.org/coolprop/HighLevelAPI.html ### Table of string inputs to PropsSI function\n",
        "*   http://www.coolprop.org/coolprop/HighLevelAPI.html#parameter-table ### More examples of the high-level API\n",
        "* http://www.coolprop.org/coolprop/HighLevelAPI.html#props-sample\n"
      ]
    },
    {
      "cell_type": "code",
      "metadata": {
        "colab": {
          "base_uri": "https://localhost:8080/"
        },
        "id": "yQmlfg7I_sf5",
        "outputId": "076a4513-3d64-4735-ba26-fd5be0bcd1c1"
      },
      "source": [
        "!pip install CoolProp"
      ],
      "execution_count": 1,
      "outputs": [
        {
          "output_type": "stream",
          "text": [
            "Collecting CoolProp\n",
            "\u001b[?25l  Downloading https://files.pythonhosted.org/packages/2d/c9/321ff0b7ddefbfdb653ff9a4eb7bf3cf812c94ff162d24fd6f12c7bcc808/CoolProp-6.4.1-cp37-cp37m-manylinux1_x86_64.whl (4.2MB)\n",
            "\u001b[K     |████████████████████████████████| 4.2MB 4.0MB/s \n",
            "\u001b[?25hInstalling collected packages: CoolProp\n",
            "Successfully installed CoolProp-6.4.1\n"
          ],
          "name": "stdout"
        }
      ]
    },
    {
      "cell_type": "code",
      "metadata": {
        "colab": {
          "base_uri": "https://localhost:8080/"
        },
        "id": "-YhD4fNv_5_x",
        "outputId": "82b43707-c44a-4981-cfdf-b24eba49b1c8"
      },
      "source": [
        "import CoolProp as CP\n",
        "print(CP.__version__)"
      ],
      "execution_count": 2,
      "outputs": [
        {
          "output_type": "stream",
          "text": [
            "6.4.1\n"
          ],
          "name": "stdout"
        }
      ]
    },
    {
      "cell_type": "markdown",
      "metadata": {
        "id": "SnQS4mz5_-kx"
      },
      "source": [
        "## Saturated Properties"
      ]
    },
    {
      "cell_type": "code",
      "metadata": {
        "id": "lEcy_y9R_9Hw"
      },
      "source": [
        "# Import the PropsSI function\n",
        "from CoolProp.CoolProp import PropsSI"
      ],
      "execution_count": 3,
      "outputs": []
    },
    {
      "cell_type": "code",
      "metadata": {
        "colab": {
          "base_uri": "https://localhost:8080/"
        },
        "id": "bst6r8RyACEI",
        "outputId": "21f369f9-1703-4365-9bde-56a0f75556d8"
      },
      "source": [
        "# Saturated Properties\n",
        "\n",
        "# Saturated vapor enthalpy of Water at 1 atm in J/kg-K\n",
        "H_V = PropsSI('H','P',101325,'Q',1,'Water'); print(\"Saturated vapor enthalpy :\" ,H_V)\n",
        "# Saturated liquid enthalpy of Water at 1 atm in J/kg-K\n",
        "H_L = PropsSI('H','P',101325,'Q',0,'Water'); print(\"Saturated liquid enthalpy :\" ,H_L)\n",
        "# Latent heat of vaporization of Water at 1 atm in J/kg-K\n",
        "print(\"Latent Heat :\" ,H_V - H_L)"
      ],
      "execution_count": 5,
      "outputs": [
        {
          "output_type": "stream",
          "text": [
            "Saturated vapor enthalpy : 2675529.3255007486\n",
            "Saturated liquid enthalpy : 419057.7330940691\n",
            "Latent Heat : 2256471.5924066794\n"
          ],
          "name": "stdout"
        }
      ]
    },
    {
      "cell_type": "markdown",
      "metadata": {
        "id": "oDS347BOAQcq"
      },
      "source": [
        "## Imposing the Phase"
      ]
    },
    {
      "cell_type": "code",
      "metadata": {
        "colab": {
          "base_uri": "https://localhost:8080/"
        },
        "id": "txEz5jSGAKro",
        "outputId": "90998d82-2712-42da-a8ea-e52c02e18a3d"
      },
      "source": [
        "# Imposing the Phase\n",
        "# Get the density of Water at T = 461.1 K and P = 5.0e6 Pa, imposing the liquid phase\n",
        "print(PropsSI('D','T|liquid',461.1,'P',5e6,'Water'))\n",
        "# Get the density of Water at T = 597.9 K and P = 5.0e6 Pa, imposing the gas phase\n",
        "print(PropsSI('D','T',597.9,'P|gas',5e6,'Water'))"
      ],
      "execution_count": 6,
      "outputs": [
        {
          "output_type": "stream",
          "text": [
            "881.000853334732\n",
            "20.508496070580005\n"
          ],
          "name": "stdout"
        }
      ]
    },
    {
      "cell_type": "markdown",
      "metadata": {
        "id": "aMYjo30RAaCI"
      },
      "source": [
        "## Trivial Inputs"
      ]
    },
    {
      "cell_type": "code",
      "metadata": {
        "colab": {
          "base_uri": "https://localhost:8080/"
        },
        "id": "xnBK3UoSAUAY",
        "outputId": "5f1aa221-fd34-4255-fa2b-00025800455e"
      },
      "source": [
        "import CoolProp.CoolProp as CP\n",
        "#n order to obtain trivial inputs that do not depend on the thermodynamic state\n",
        "CP.PropsSI(\"Tcrit\",\"Water\")"
      ],
      "execution_count": 7,
      "outputs": [
        {
          "output_type": "execute_result",
          "data": {
            "text/plain": [
              "647.096"
            ]
          },
          "metadata": {
            "tags": []
          },
          "execution_count": 7
        }
      ]
    },
    {
      "cell_type": "markdown",
      "metadata": {
        "id": "4Z7Bfja1AewQ"
      },
      "source": [
        "## PhaseSI Function"
      ]
    },
    {
      "cell_type": "code",
      "metadata": {
        "colab": {
          "base_uri": "https://localhost:8080/",
          "height": 35
        },
        "id": "TRmQXs5PAckQ",
        "outputId": "5c65b69d-62fd-4f61-bed2-f701e9021f19"
      },
      "source": [
        "import CoolProp.CoolProp as CP\n",
        "#PhaseSI Function\n",
        "CP.PhaseSI('P',101325,'Q',0,'Water')"
      ],
      "execution_count": 8,
      "outputs": [
        {
          "output_type": "execute_result",
          "data": {
            "application/vnd.google.colaboratory.intrinsic+json": {
              "type": "string"
            },
            "text/plain": [
              "'twophase'"
            ]
          },
          "metadata": {
            "tags": []
          },
          "execution_count": 8
        }
      ]
    },
    {
      "cell_type": "code",
      "metadata": {
        "colab": {
          "base_uri": "https://localhost:8080/",
          "height": 441
        },
        "id": "E4S85PyoAgSo",
        "outputId": "c1744478-2a58-4e3a-caf3-96277d13edea"
      },
      "source": [
        "import matplotlib\n",
        "import numpy as np\n",
        "import CoolProp as CP\n",
        "import matplotlib.pyplot as plt\n",
        "import scipy.interpolate\n",
        "\n",
        "Water = CP.AbstractState(\"HEOS\", \"Water\")\n",
        "pc = Water.keyed_output(CP.iP_critical)\n",
        "Tc = Water.keyed_output(CP.iT_critical)\n",
        "Tmin = 200\n",
        "Tmax = 1000\n",
        "pmax = Water.keyed_output(CP.iP_max)\n",
        "pt = 611.657\n",
        "Tt = 273.16\n",
        "fillcolor = 'g'\n",
        "\n",
        "fig = plt.figure(figsize = (6,6))\n",
        "ax = fig.add_subplot(111)\n",
        "lw = 3\n",
        "\n",
        "# --------------\n",
        "# Melting curve\n",
        "# --------------\n",
        "melt_args = dict(lw = lw, solid_capstyle = 'round')\n",
        "TT = []\n",
        "PP = list(np.logspace(np.log10(pt), np.log10(pmax),1000))\n",
        "for p in PP:\n",
        "    TT.append(Water.melting_line(CP.iT, CP.iP, p))\n",
        "\n",
        "#Zone VI\n",
        "for T in np.linspace(max(TT), 355):\n",
        "    TT.append(T)\n",
        "    theta = T/273.31\n",
        "    pi = 1-1.07476*(1-theta**4.6)\n",
        "    p = pi*632.4e6\n",
        "    PP.append(p)\n",
        "\n",
        "plt.plot(TT,PP,'darkblue',**melt_args)\n",
        "\n",
        "# ----------------\n",
        "# Saturation curve\n",
        "# ----------------\n",
        "Ts = np.linspace(273.16, Tc, 1000)\n",
        "ps = CP.CoolProp.PropsSI('P','T',Ts,'Q',0,'Water')\n",
        "\n",
        "# ------\n",
        "# Labels\n",
        "# ------\n",
        "\n",
        "plt.plot(Ts,ps,'orange',lw = lw, solid_capstyle = 'round')\n",
        "\n",
        "# Critical lines\n",
        "plt.axvline(Tc, dashes = [2, 2])\n",
        "plt.axhline(pc, dashes = [2, 2])\n",
        "\n",
        "# Labels\n",
        "plt.text(850, 1e8, 'supercritical',ha= 'center')\n",
        "plt.text(850, 1e5, 'supercritical_gas', rotation = 90)\n",
        "plt.text(450, 1e8, 'supercritical_liquid', rotation = 0, ha = 'center')\n",
        "plt.text(350, 3e6, 'liquid', rotation = 45)\n",
        "plt.text(450, 5e4, 'gas', rotation = 45)\n",
        "\n",
        "plt.ylim(611,1e9)\n",
        "plt.gca().set_yscale('log')\n",
        "plt.gca().set_xlim(240, 1000)\n",
        "plt.ylabel('Pressure [Pa]')\n",
        "plt.xlabel('Temperature [K]')\n",
        "plt.tight_layout()"
      ],
      "execution_count": 9,
      "outputs": [
        {
          "output_type": "display_data",
          "data": {
            "image/png": "[encoded data removed]",
            "text/plain": [
              "<Figure size 432x432 with 1 Axes>"
            ]
          },
          "metadata": {
            "tags": [],
            "needs_background": "light"
          }
        }
      ]
    },
    {
      "cell_type": "markdown",
      "metadata": {
        "id": "QF99XjH8AmGY"
      },
      "source": [
        "## Partial Derivatives"
      ]
    },
    {
      "cell_type": "code",
      "metadata": {
        "colab": {
          "base_uri": "https://localhost:8080/"
        },
        "id": "zh6_o-SPAiMP",
        "outputId": "8bb36fe8-e63e-4758-82ea-10a3507f60bf"
      },
      "source": [
        "#Partial Derivatives\n",
        "import CoolProp.CoolProp as CP\n",
        "# c_p using c_p\n",
        "print(CP.PropsSI('C','P',101325,'T',300,'Water'))\n",
        "# c_p using derivative\n",
        "print(CP.PropsSI('d(Hmass)/d(T)|P','P',101325,'T',300,'Water'))"
      ],
      "execution_count": 10,
      "outputs": [
        {
          "output_type": "stream",
          "text": [
            "4180.6357765560715\n",
            "4180.6357765560715\n"
          ],
          "name": "stdout"
        }
      ]
    },
    {
      "cell_type": "markdown",
      "metadata": {
        "id": "8aXyz3-vApeg"
      },
      "source": [
        "## Predefined Mixtures"
      ]
    },
    {
      "cell_type": "code",
      "metadata": {
        "colab": {
          "base_uri": "https://localhost:8080/"
        },
        "id": "T1OpkDzHAnPn",
        "outputId": "2daaf12d-a000-401a-bfdb-8d373e9d4872"
      },
      "source": [
        "import CoolProp.CoolProp as CP\n",
        "CP.get_global_param_string('predefined_mixtures').split(',')[0:20]"
      ],
      "execution_count": 11,
      "outputs": [
        {
          "output_type": "execute_result",
          "data": {
            "text/plain": [
              "['AIR.MIX',\n",
              " 'AMARILLO.MIX',\n",
              " 'Air.mix',\n",
              " 'Amarillo.mix',\n",
              " 'EKOFISK.MIX',\n",
              " 'Ekofisk.mix',\n",
              " 'GULFCOAST.MIX',\n",
              " 'GULFCOASTGAS(NIST1).MIX',\n",
              " 'GulfCoast.mix',\n",
              " 'GulfCoastGas(NIST1).mix',\n",
              " 'HIGHCO2.MIX',\n",
              " 'HIGHN2.MIX',\n",
              " 'HighCO2.mix',\n",
              " 'HighN2.mix',\n",
              " 'NATURALGASSAMPLE.MIX',\n",
              " 'NaturalGasSample.mix',\n",
              " 'R401A.MIX',\n",
              " 'R401A.mix',\n",
              " 'R401B.MIX',\n",
              " 'R401B.mix']"
            ]
          },
          "metadata": {
            "tags": []
          },
          "execution_count": 11
        }
      ]
    },
    {
      "cell_type": "code",
      "metadata": {
        "colab": {
          "base_uri": "https://localhost:8080/"
        },
        "id": "Cn4k_qBCAqww",
        "outputId": "8def0054-d927-4f06-8f67-1d311ac01b6d"
      },
      "source": [
        "CP.PropsSI('D','P',101325,'T',300,'Air.mix')"
      ],
      "execution_count": 12,
      "outputs": [
        {
          "output_type": "execute_result",
          "data": {
            "text/plain": [
              "1.1766922904316655"
            ]
          },
          "metadata": {
            "tags": []
          },
          "execution_count": 12
        }
      ]
    },
    {
      "cell_type": "markdown",
      "metadata": {
        "id": "1XHE5yOtAut4"
      },
      "source": [
        "## User-Defined Mixtures"
      ]
    },
    {
      "cell_type": "code",
      "metadata": {
        "colab": {
          "base_uri": "https://localhost:8080/"
        },
        "id": "DjuElzZxAsF3",
        "outputId": "fff453c9-23c1-4ae7-e118-635b308dea3a"
      },
      "source": [
        "import CoolProp.CoolProp as CP\n",
        "CP.PropsSI('D','T',300,'P',101325,'HEOS::R32[0.697615]&R125[0.302385]')"
      ],
      "execution_count": 13,
      "outputs": [
        {
          "output_type": "execute_result",
          "data": {
            "text/plain": [
              "2.986886779635724"
            ]
          },
          "metadata": {
            "tags": []
          },
          "execution_count": 13
        }
      ]
    },
    {
      "cell_type": "code",
      "metadata": {
        "id": "ZE9alTiYAxfH"
      },
      "source": [
        "#Try to figure out the mixing mechanism underneath the hood"
      ],
      "execution_count": 14,
      "outputs": []
    },
    {
      "cell_type": "markdown",
      "metadata": {
        "id": "21RLCU-GA0AR"
      },
      "source": [
        "## Reference States\n",
        "* IIR: h = 200 kJ/kg, s=1 kJ/kg/K at 0C saturated liquid\n",
        "* ASHRAE: h = 0, s = 0 @ -40C saturated liquid\n",
        "* NBP: h=0, s=0 for saturated liquid at 1 atmosphere\n",
        "* DEF: Go back to the default reference state for the fluid"
      ]
    },
    {
      "cell_type": "code",
      "metadata": {
        "colab": {
          "base_uri": "https://localhost:8080/"
        },
        "id": "3FJ-IBEbAyyH",
        "outputId": "c144f143-2e78-493e-a191-f61c08d550b7"
      },
      "source": [
        "import CoolProp.CoolProp as CP\n",
        "CP.set_reference_state('n-Propane','ASHRAE')\n",
        "\n",
        "# Should be zero (or very close to it)\n",
        "CP.PropsSI('H', 'T', 233.15, 'Q', 0, 'n-Propane')"
      ],
      "execution_count": 15,
      "outputs": [
        {
          "output_type": "execute_result",
          "data": {
            "text/plain": [
              "2.928438593838672e-11"
            ]
          },
          "metadata": {
            "tags": []
          },
          "execution_count": 15
        }
      ]
    },
    {
      "cell_type": "code",
      "metadata": {
        "colab": {
          "base_uri": "https://localhost:8080/"
        },
        "id": "0x5EFkQGA2e_",
        "outputId": "d3ceefd2-0c36-438e-ed1a-28b6bcd16efc"
      },
      "source": [
        "# Back to the original value\n",
        "CP.set_reference_state('n-Propane','DEF')\n",
        "# Should not be zero\n",
        "CP.PropsSI('H', 'T', 233.15, 'Q', 0, 'n-Propane')"
      ],
      "execution_count": 16,
      "outputs": [
        {
          "output_type": "execute_result",
          "data": {
            "text/plain": [
              "105123.27213761522"
            ]
          },
          "metadata": {
            "tags": []
          },
          "execution_count": 16
        }
      ]
    },
    {
      "cell_type": "markdown",
      "metadata": {
        "id": "8Vw-gYa-A9y5"
      },
      "source": [
        "## Exercise"
      ]
    },
    {
      "cell_type": "code",
      "metadata": {
        "id": "CxUDXzqMA3uX"
      },
      "source": [
        "import CoolProp as CP\n",
        "from CoolProp.CoolProp import PropsSI"
      ],
      "execution_count": 17,
      "outputs": []
    },
    {
      "cell_type": "code",
      "metadata": {
        "colab": {
          "base_uri": "https://localhost:8080/"
        },
        "id": "QzAh0TNkA_Of",
        "outputId": "2ebb0b3f-b5c4-4346-978e-f8d4e5075d8c"
      },
      "source": [
        "# Specific heat (J/kg/K) of 20% ethylene glycol as a function of T\n",
        "PropsSI('C','T',298.15,'P',101325,'INCOMP::MEG-20%')"
      ],
      "execution_count": 18,
      "outputs": [
        {
          "output_type": "execute_result",
          "data": {
            "text/plain": [
              "3905.2706242925874"
            ]
          },
          "metadata": {
            "tags": []
          },
          "execution_count": 18
        }
      ]
    },
    {
      "cell_type": "code",
      "metadata": {
        "colab": {
          "base_uri": "https://localhost:8080/"
        },
        "id": "C4yN5SCRBAKH",
        "outputId": "df9c0c37-f59b-40ad-9858-8755c8e1eaea"
      },
      "source": [
        "# Density of Air at standard atmosphere in kg/m^3\n",
        "PropsSI('D','T',298.15,'P',101325,'Air')"
      ],
      "execution_count": 19,
      "outputs": [
        {
          "output_type": "execute_result",
          "data": {
            "text/plain": [
              "1.1843184839089664"
            ]
          },
          "metadata": {
            "tags": []
          },
          "execution_count": 19
        }
      ]
    },
    {
      "cell_type": "code",
      "metadata": {
        "colab": {
          "base_uri": "https://localhost:8080/"
        },
        "id": "h5YbY4c8BA8H",
        "outputId": "4964692b-38af-4a85-c29a-9e8bf69dca87"
      },
      "source": [
        "# Saturation temperature of Water at 1 atm\n",
        "PropsSI('T','P',101325,'Q',0,'Water')"
      ],
      "execution_count": 20,
      "outputs": [
        {
          "output_type": "execute_result",
          "data": {
            "text/plain": [
              "373.1242958476844"
            ]
          },
          "metadata": {
            "tags": []
          },
          "execution_count": 20
        }
      ]
    },
    {
      "cell_type": "code",
      "metadata": {
        "colab": {
          "base_uri": "https://localhost:8080/"
        },
        "id": "oDhs9JMCBCAn",
        "outputId": "281a54b7-3e3f-4639-baa6-b19124c9cf4c"
      },
      "source": [
        "# Saturated vapor enthalpy of R134a at 0C (Q=1)\n",
        "PropsSI('H','T',273.15,'Q',1,'R134a')"
      ],
      "execution_count": 21,
      "outputs": [
        {
          "output_type": "execute_result",
          "data": {
            "text/plain": [
              "398603.45362765493"
            ]
          },
          "metadata": {
            "tags": []
          },
          "execution_count": 21
        }
      ]
    },
    {
      "cell_type": "code",
      "metadata": {
        "colab": {
          "base_uri": "https://localhost:8080/"
        },
        "id": "tg5-R5u2BC53",
        "outputId": "f84e5a26-1f71-47b6-a946-c21754a402d3"
      },
      "source": [
        "# Saturated liquid enthalpy of R134a at 0C (Q=0)\n",
        "PropsSI('H','T',273.15,'Q',0,'R134a')"
      ],
      "execution_count": 22,
      "outputs": [
        {
          "output_type": "execute_result",
          "data": {
            "text/plain": [
              "199999.98852614488"
            ]
          },
          "metadata": {
            "tags": []
          },
          "execution_count": 22
        }
      ]
    },
    {
      "cell_type": "code",
      "metadata": {
        "colab": {
          "base_uri": "https://localhost:8080/"
        },
        "id": "oPl-oa04BD4n",
        "outputId": "558a3bf6-26b9-499e-9b00-db45eed1bac0"
      },
      "source": [
        "# Using properties from CoolProp to get R410A density\n",
        "PropsSI('D','T',300,'P',101325,'HEOS::R32[0.697615]&R125[0.302385]')"
      ],
      "execution_count": 23,
      "outputs": [
        {
          "output_type": "execute_result",
          "data": {
            "text/plain": [
              "2.986886779635724"
            ]
          },
          "metadata": {
            "tags": []
          },
          "execution_count": 23
        }
      ]
    },
    {
      "cell_type": "code",
      "metadata": {
        "colab": {
          "base_uri": "https://localhost:8080/"
        },
        "id": "IoR08FxIBEw-",
        "outputId": "ce0655e0-0150-4393-fa66-27dee2f3ae7c"
      },
      "source": [
        "# Check that the same as using pseudo-pure\n",
        "PropsSI('D','T',300,'P',101325,'R410A')"
      ],
      "execution_count": 24,
      "outputs": [
        {
          "output_type": "execute_result",
          "data": {
            "text/plain": [
              "2.986868076922677"
            ]
          },
          "metadata": {
            "tags": []
          },
          "execution_count": 24
        }
      ]
    },
    {
      "cell_type": "code",
      "metadata": {
        "colab": {
          "base_uri": "https://localhost:8080/"
        },
        "id": "ni-iecJWBFrO",
        "outputId": "19cd2b78-c39e-43d1-8d88-59529bd72c5a"
      },
      "source": [
        "# Using IF97 to get Water saturated vapor density at 100C\n",
        "PropsSI('D','T',400,'Q',1,'IF97::Water')"
      ],
      "execution_count": 25,
      "outputs": [
        {
          "output_type": "execute_result",
          "data": {
            "text/plain": [
              "1.3692496283046673"
            ]
          },
          "metadata": {
            "tags": []
          },
          "execution_count": 25
        }
      ]
    },
    {
      "cell_type": "code",
      "metadata": {
        "colab": {
          "base_uri": "https://localhost:8080/"
        },
        "id": "-2ZHHYjKBGqO",
        "outputId": "df873d39-095b-4370-bc32-d435f8bb9002"
      },
      "source": [
        "# Check the IF97 result using the default HEOS\n",
        "PropsSI('D','T',400,'Q',1,'Water')"
      ],
      "execution_count": 26,
      "outputs": [
        {
          "output_type": "execute_result",
          "data": {
            "text/plain": [
              "1.3694075410068325"
            ]
          },
          "metadata": {
            "tags": []
          },
          "execution_count": 26
        }
      ]
    },
    {
      "cell_type": "markdown",
      "metadata": {
        "id": "b5Hzt__HBI6a"
      },
      "source": [
        "## Water Properties Summary\n",
        "* http://www.coolprop.org/coolprop/HighLevelAPI.html#table-of-string-inputs-to-propssi-function"
      ]
    },
    {
      "cell_type": "code",
      "metadata": {
        "colab": {
          "base_uri": "https://localhost:8080/"
        },
        "id": "t9zxVsjYBHjm",
        "outputId": "03aa6c0c-a0f1-4b24-9916-86af21e0ed35"
      },
      "source": [
        "import CoolProp.CoolProp as CP\n",
        "from CoolProp.CoolProp import PropsSI\n",
        "\n",
        "print('Density of Water at standard atmosphere in kg/m^3 --- ',PropsSI('D','T',323.15,'P',101325,'Water'))\n",
        "print('Enthalpy of Water at standard atmosphere in J/kg --- ',PropsSI('H','T',323.15,'P',101325,'Water'))\n",
        "print('Thermal conductivity of Water at standard atmosphere in W/m/K --- ',PropsSI('CONDUCTIVITY','T',(273.15+50),'P',101325,'Water'))\n",
        "print('Viscosity of Water at standard atmosphere in Pa s --- ',PropsSI('V','T',323.15,'P',101325,'Water'))\n",
        "#print('Surface Tension of Water at standard atmosphere in N/m --- ',PropsSI('I','T',323.15,'P',101325,'Water'))\n",
        "print('Critical Temperature of Water K --- ',CP.PropsSI(\"Tcrit\",\"Water\"))\n",
        "print('Mass specific constant pressure specific heat of Water at standard atmosphere in J/kg/K --- ',PropsSI('CPMASS','T',323.15,'P',101325,'Water'))\n",
        "print('Mass specific constant volume specific heat of Water at standard atmosphere in J/kg/K --- ',PropsSI('CVMASS','T',323.15,'P',101325,'Water'))\n",
        "print('Entropy of Water at standard atmosphere in J/kg/K --- ',PropsSI('S','T',323.15,'P',101325,'Water'))\n",
        "\n",
        "#Saturated State based on Perssure\n",
        "print('Saturated vapor enthalpy of Water at 1 atm in J/kg-K --- ',PropsSI('H','P',101325,'Q',1,'Water') )\n",
        "print('Saturated liquid enthalpy of Water at 1 atm in J/kg-K --- ', PropsSI('H','P',101325,'Q',0,'Water'))\n",
        "\n",
        "#Saturated State based on Temperature\n",
        "print('Saturated vapor enthalpy of Water at 323.15K in J/kg-K --- ',PropsSI('H','T',323.15,'Q',1,'Water') )\n",
        "print('Saturated liquid enthalpy of Water at 323.15K in J/kg-K --- ', PropsSI('H','T',323.15,'Q',0,'Water'))\n"
      ],
      "execution_count": 28,
      "outputs": [
        {
          "output_type": "stream",
          "text": [
            "Density of Water at standard atmosphere in kg/m^3 ---  988.0350462371343\n",
            "Enthalpy of Water at standard atmosphere in J/kg ---  209418.49199515805\n",
            "Thermal conductivity of Water at standard atmosphere in W/m/K ---  0.6406210822524908\n",
            "Viscosity of Water at standard atmosphere in Pa s ---  0.0005465162633828624\n",
            "Critical Temperature of Water K ---  647.096\n",
            "Mass specific constant pressure specific heat of Water at standard atmosphere in J/kg/K ---  4181.342303430865\n",
            "Mass specific constant volume specific heat of Water at standard atmosphere in J/kg/K ---  4026.1824440671226\n",
            "Entropy of Water at standard atmosphere in J/kg/K ---  703.7674017163721\n",
            "Saturated vapor enthalpy of Water at 1 atm in J/kg-K ---  2675529.3255007486\n",
            "Saturated liquid enthalpy of Water at 1 atm in J/kg-K ---  419057.7330940691\n",
            "Saturated vapor enthalpy of Water at 323.15K in J/kg-K ---  2591288.887867202\n",
            "Saturated liquid enthalpy of Water at 323.15K in J/kg-K ---  209341.76132667644\n"
          ],
          "name": "stdout"
        }
      ]
    }
  ]
}