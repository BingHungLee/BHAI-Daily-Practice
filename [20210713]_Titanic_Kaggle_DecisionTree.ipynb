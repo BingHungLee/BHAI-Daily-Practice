{
  "nbformat": 4,
  "nbformat_minor": 0,
  "metadata": {
    "colab": {
      "name": "[20210713]_Titanic_Kaggle_DecisionTree.ipynb",
      "provenance": [],
      "authorship_tag": "ABX9TyOybrlaqteY/DV22+TrpwVW",
      "include_colab_link": true
    },
    "kernelspec": {
      "name": "python3",
      "display_name": "Python 3"
    },
    "language_info": {
      "name": "python"
    }
  },
  "cells": [
    {
      "cell_type": "markdown",
      "metadata": {
        "id": "view-in-github",
        "colab_type": "text"
      },
      "source": [
        "<a href=\"https://colab.research.google.com/github/BingHungLee/BHAI-Daily-Practice/blob/main/%5B20210713%5D_Titanic_Kaggle_DecisionTree.ipynb\" target=\"_parent\"><img src=\"https://colab.research.google.com/assets/colab-badge.svg\" alt=\"Open In Colab\"/></a>"
      ]
    },
    {
      "cell_type": "code",
      "metadata": {
        "id": "MDFCXOt1W3-q"
      },
      "source": [
        "import os \n",
        "import pandas as pd\n",
        "import numpy as np\n",
        "import matplotlib.pyplot as plt\n",
        "import seaborn as sns; sns.set()\n",
        "\n",
        "from pandas.plotting import scatter_matrix\n",
        "from sklearn.metrics import accuracy_score\n",
        "\n",
        "from sklearn.datasets import make_blobs\n",
        "from sklearn.metrics import confusion_matrix\n",
        "from sklearn.tree import DecisionTreeClassifier"
      ],
      "execution_count": 17,
      "outputs": []
    },
    {
      "cell_type": "code",
      "metadata": {
        "colab": {
          "base_uri": "https://localhost:8080/"
        },
        "id": "NK6Y-XYGcexG",
        "outputId": "6af7a867-2a4c-453a-96fd-4679c0ee72c2"
      },
      "source": [
        "!git clone https://github.com/BingHungLee/Dataset.git"
      ],
      "execution_count": 2,
      "outputs": [
        {
          "output_type": "stream",
          "text": [
            "fatal: destination path 'Dataset' already exists and is not an empty directory.\n"
          ],
          "name": "stdout"
        }
      ]
    },
    {
      "cell_type": "code",
      "metadata": {
        "colab": {
          "base_uri": "https://localhost:8080/"
        },
        "id": "Dh7y5mMOckUt",
        "outputId": "db108d13-b821-4553-9750-3fcfab8478fb"
      },
      "source": [
        "cd /content/Dataset"
      ],
      "execution_count": 3,
      "outputs": [
        {
          "output_type": "stream",
          "text": [
            "/content/Dataset\n"
          ],
          "name": "stdout"
        }
      ]
    },
    {
      "cell_type": "code",
      "metadata": {
        "id": "xwycQpWjcmn9"
      },
      "source": [
        "Dta_train = pd.read_csv(\"titanic_train.csv\")\n",
        "Dta_test = pd.read_csv(\"titanic_test.csv\")"
      ],
      "execution_count": 4,
      "outputs": []
    },
    {
      "cell_type": "markdown",
      "metadata": {
        "id": "Zg345PDSg_hf"
      },
      "source": [
        "## Model Train"
      ]
    },
    {
      "cell_type": "code",
      "metadata": {
        "id": "1XDVqLfNcpKV"
      },
      "source": [
        "X = Dta_train[['Pclass','Sex','Age','Fare','Embarked']]\n",
        "y = Dta_train['Survived'].values"
      ],
      "execution_count": 5,
      "outputs": []
    },
    {
      "cell_type": "code",
      "metadata": {
        "id": "lWHPsxPKc6b0"
      },
      "source": [
        "#Preserve Non-NAN Value\n",
        "non_nan_row = np.where(X.isnull().sum(axis=1)==0)[0]\n",
        "X=X.iloc[non_nan_row,:]\n",
        "X=X.reset_index(drop=True)\n",
        "y = y[non_nan_row]"
      ],
      "execution_count": 6,
      "outputs": []
    },
    {
      "cell_type": "code",
      "metadata": {
        "id": "JxgkVHEadCpc"
      },
      "source": [
        "#Dummy Variables Handle\n",
        "X = pd.concat([X, pd.get_dummies(X['Pclass']),pd.get_dummies(X['Sex']),pd.get_dummies(X['Embarked'])], axis =1)\n",
        "X = X.drop(columns=['Pclass','Sex','Embarked'])"
      ],
      "execution_count": 7,
      "outputs": []
    },
    {
      "cell_type": "code",
      "metadata": {
        "colab": {
          "base_uri": "https://localhost:8080/"
        },
        "id": "ae3RWdmfdG8k",
        "outputId": "396cbb86-2284-46dc-db33-ed96cd2224d8"
      },
      "source": [
        "#DecisionTreeClassifier\n",
        "tree = DecisionTreeClassifier().fit(X, y)\n",
        "tree"
      ],
      "execution_count": 16,
      "outputs": [
        {
          "output_type": "execute_result",
          "data": {
            "text/plain": [
              "DecisionTreeClassifier(ccp_alpha=0.0, class_weight=None, criterion='gini',\n",
              "                       max_depth=None, max_features=None, max_leaf_nodes=None,\n",
              "                       min_impurity_decrease=0.0, min_impurity_split=None,\n",
              "                       min_samples_leaf=1, min_samples_split=2,\n",
              "                       min_weight_fraction_leaf=0.0, presort='deprecated',\n",
              "                       random_state=None, splitter='best')"
            ]
          },
          "metadata": {
            "tags": []
          },
          "execution_count": 16
        }
      ]
    },
    {
      "cell_type": "code",
      "metadata": {
        "colab": {
          "base_uri": "https://localhost:8080/"
        },
        "id": "wwWdUwO1f9rR",
        "outputId": "6fcad2ce-838c-4840-d9ad-eea8c1a629d6"
      },
      "source": [
        "#Model Validification\n",
        "fitted_classes = tree.predict(X)\n",
        "accuracy=accuracy_score(y.flatten(),fitted_classes)\n",
        "print(accuracy)"
      ],
      "execution_count": 19,
      "outputs": [
        {
          "output_type": "stream",
          "text": [
            "0.9845505617977528\n"
          ],
          "name": "stdout"
        }
      ]
    },
    {
      "cell_type": "code",
      "metadata": {
        "colab": {
          "base_uri": "https://localhost:8080/"
        },
        "id": "bUCVe3sbdT30",
        "outputId": "fc7c79bf-7557-47d3-b0fa-2770d93176e9"
      },
      "source": [
        "#Check Confusion Matrix\n",
        "print(confusion_matrix(fitted_classes,y.flatten(),labels=[0,1]))  "
      ],
      "execution_count": 20,
      "outputs": [
        {
          "output_type": "stream",
          "text": [
            "[[424  11]\n",
            " [  0 277]]\n"
          ],
          "name": "stdout"
        }
      ]
    },
    {
      "cell_type": "markdown",
      "metadata": {
        "id": "5MaRzV2OhCHf"
      },
      "source": [
        "## Model Predict"
      ]
    },
    {
      "cell_type": "code",
      "metadata": {
        "id": "l4ceNXU9gvHO"
      },
      "source": [
        ""
      ],
      "execution_count": null,
      "outputs": []
    }
  ]
}